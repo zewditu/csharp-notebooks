{
  "cells": [
    {
      "cell_type": "markdown",
      "metadata": {},
      "source": [
        "## ==**This notebook is under active development**=="
      ]
    },
    {
      "cell_type": "markdown",
      "metadata": {},
      "source": [
        "# Azure SDK Notebook"
      ]
    },
    {
      "cell_type": "code",
      "execution_count": 1,
      "metadata": {
        "dotnet_interactive": {
          "language": "csharp"
        }
      },
      "source": [
        "#r \"nuget: Azure.ResourceManager.MachineLearning, 1.0.0-beta.1\"\n",
        "#r \"nuget: Azure.Identity, 1.6.0\"\n",
        "#r \"nuget: Azure.Security.KeyVault.Secrets, 4.3.0\"\n",
        "#r \"nuget:Azure.Storage.Blobs, 12.12.0\"\n",
        "#r \"Microsoft.VisualBasic\""
      ],
      "outputs": [
        {
          "output_type": "execute_result",
          "data": {
            "text/html": "<div><div></div><div></div><div><strong>Installed Packages</strong><ul><li><span>Azure.Identity, 1.6.0</span></li><li><span>Azure.ResourceManager.MachineLearning, 1.0.0-beta.1</span></li><li><span>Azure.Security.KeyVault.Secrets, 4.3.0</span></li><li><span>Azure.Storage.Blobs, 12.12.0</span></li></ul></div></div>"
          },
          "execution_count": 1,
          "metadata": {}
        }
      ]
    },
    {
      "cell_type": "code",
      "execution_count": 1,
      "metadata": {
        "dotnet_interactive": {
          "language": "csharp"
        }
      },
      "source": [
        "// Import common usings.\n",
        "using Azure.Storage.Blobs;\n",
        "using Azure.Storage.Blobs.Models;\n",
        "using System.IO;\n",
        "using Microsoft.VisualBasic;\n",
        "using Microsoft.VisualBasic.FileIO;\n",
        "\n",
        ""
      ],
      "outputs": []
    },
    {
      "cell_type": "markdown",
      "metadata": {},
      "source": [
        "### The following section define file paths  and azure  resources to complete this machine learning opration in this notebook."
      ]
    },
    {
      "cell_type": "code",
      "execution_count": 1,
      "metadata": {
        "dotnet_interactive": {
          "language": "csharp"
        }
      },
      "source": [
        "// File paths.\n",
        "var imageFolderPath=@\"C:\\Users\\zehailem\\Desktop\\SDKTestWeatherImage\";\n",
        "var tempPath = Path.GetTempPath();\n",
        "var guid = Guid.NewGuid().ToString();\n",
        "var modelName=\"MlModel\";\n",
        "var tsvFilePath = Path.Combine(tempPath, $\"{guid}-{modelName}.ImageTrainData.tsv\");\n",
        "var jsonlFilePath = Path.Combine(tempPath, $\"{guid}-{modelName}.AzureImageTrainData.jsonl\");\n",
        "var MlTableFolder = Directory.CreateDirectory(Path.Combine(tempPath, \"TrainMlTable\"));\n",
        "var mLTableFilePath = Path.Combine(MlTableFolder.FullName, \"MLTable.\");\n",
        "\n",
        "// Azure resources Names.\n",
        "string subscriptionName;\n",
        "string resourceGroupName;\n",
        "string workspaceName;\n",
        "string computeName;\n",
        "string EmvironmentName;"
      ],
      "outputs": []
    },
    {
      "cell_type": "markdown",
      "metadata": {},
      "source": [
        "# Generate data schema for training \n",
        "The following  cells are to generate  data schemas appropriate for Image classification. For furthere detail refer this  https://docs.microsoft.com/en-us/azure/machine-learning/reference-automl-images-schema"
      ]
    },
    {
      "cell_type": "markdown",
      "metadata": {},
      "source": [
        "# Generate tsv file"
      ]
    },
    {
      "cell_type": "code",
      "execution_count": 1,
      "metadata": {
        "dotnet_interactive": {
          "language": "csharp"
        }
      },
      "source": [
        "public async Task WriteAllDataToTSVAsync(string selectedFolderName, string tsvFilePath)\n",
        "        {\n",
        "            DirectoryInfo rootDirectoryInfo = new DirectoryInfo(selectedFolderName);\n",
        "            DirectoryInfo[] subDirectories = rootDirectoryInfo.GetDirectories();\n",
        "\t\t\t\n",
        "             string[] AllowedImageFileExtensions = new[] { \".png\", \".jpg\", \".jpeg\", \".gif\" };\n",
        "            using (var outFile = File.CreateText(tsvFilePath))\n",
        "            {\n",
        "                try\n",
        "                {\n",
        "                    // Add labels for the data.\n",
        "                     string label = \"Label\";\n",
        "                    \n",
        "                    var labels = new string[] { label, \"ImageSource\" };\n",
        "                    var headerString = string.Join(\"\\t\", labels);\n",
        "                    outFile.WriteLine(headerString);\n",
        "\n",
        "                    foreach (DirectoryInfo directory in subDirectories)\n",
        "                    {\n",
        "\t\t\t\t\t\tTextFieldParser parser;\n",
        "                        IEnumerable<FileInfo> files = directory.EnumerateFiles();\n",
        "                        var folderList = files.Where(f => AllowedImageFileExtensions.Contains(f.Extension.ToLower()));\n",
        "                            foreach (FileInfo file in folderList)\n",
        "                            {\n",
        "                                var values = new string[] { directory.Name, file.FullName };\n",
        "                                var line = string.Join(\"\\t\", values);\n",
        "\n",
        "                                outFile.WriteLine(line);\n",
        "                            }\n",
        "                    }\n",
        "                        \n",
        "                    \n",
        "                }\n",
        "                catch (Exception e)\n",
        "                {\n",
        "                    throw new Exception();\n",
        "                }\n",
        "            }\n",
        "\n",
        "            \n",
        "        }"
      ],
      "outputs": []
    },
    {
      "cell_type": "markdown",
      "metadata": {},
      "source": [
        "# Generate jsonl  file\n",
        ""
      ]
    },
    {
      "cell_type": "code",
      "execution_count": 1,
      "metadata": {
        "dotnet_interactive": {
          "language": "csharp"
        }
      },
      "source": [
        " public async Task CreateJsonlFileForRemoteAsync(string imageTsvPath, string generatedTsvPath)\n",
        "        {\n",
        "\n",
        "            // TODO Make Async and on background thread. (Suggestion: Use Stream Writer)\n",
        "            using (var outFile = File.CreateText(generatedTsvPath))\n",
        "            {\n",
        "                try\n",
        "                {\n",
        "                    using (TextFieldParser parser = new TextFieldParser(imageTsvPath))\n",
        "                    {\n",
        "                        parser.TextFieldType = FieldType.Delimited;\n",
        "                        parser.SetDelimiters(\"\\t\");\n",
        "\n",
        "                        // Skip the header line\n",
        "                        parser.ReadLine();\n",
        "                        while (!parser.EndOfData)\n",
        "                        {\n",
        "                            var row = parser.ReadFields();\n",
        "\n",
        "                            var label = row[0];\n",
        "                            var file = new FileInfo(row[1]);\n",
        "                            var imageRelativePath = Path.Combine(file.Directory.Parent.Name, file.Directory.Name, file.Name).Replace('\\\\', '/');\n",
        "\n",
        "                            var values = new string[] { imageRelativePath, label };\n",
        "                            var jsonLine = $@\"{{\"\"image_url\"\":\"\"AmlDatastore://workspaceblobstore/{imageRelativePath}\"\", \"\"label\"\":\"\"{label}\"\"}}\";\n",
        "\n",
        "                            outFile.WriteLine(jsonLine);\n",
        "                        }\n",
        "                    }\n",
        "                }\n",
        "                catch (Exception e)\n",
        "                {\n",
        "                    throw new Exception(e.Message);\n",
        "                }\n",
        "            }\n",
        "        }"
      ],
      "outputs": []
    },
    {
      "cell_type": "markdown",
      "metadata": {},
      "source": [
        "# Generate MLTable File"
      ]
    },
    {
      "cell_type": "code",
      "execution_count": 1,
      "metadata": {
        "dotnet_interactive": {
          "language": "csharp"
        }
      },
      "source": [
        "\n",
        "        public void CreateMlTableFile(string selectedFolderName, string mlTableFilePath, string remoteAzureTrainingFile)\n",
        "        {\n",
        "\n",
        "            try\n",
        "            {\n",
        "                using (var outFile = File.CreateText(mlTableFilePath))\n",
        "                {\n",
        "                    var jsonlFileName = Path.GetFileName(remoteAzureTrainingFile);\n",
        "                    var selectedFolder = new DirectoryInfo(selectedFolderName).Name;\n",
        "                    var mlTableContent = $@\"paths:\n",
        "  - file: azureml://datastores/workspaceblobstore/paths/{selectedFolder}/{jsonlFileName}\n",
        "transformations:\n",
        "  - read_json_lines:\n",
        "        encoding: utf8\n",
        "        invalid_lines: error\n",
        "        include_path_column: false\n",
        "  - convert_column_types:\n",
        "      - columns: image_url\n",
        "        column_type: stream_info\";\n",
        "                    outFile.Write(mlTableContent);\n",
        "                }\n",
        "            }\n",
        "            catch (Exception e)\n",
        "            {\n",
        "                throw new Exception(e.Message);\n",
        "\n",
        "            }\n",
        "        }\n",
        "    "
      ],
      "outputs": []
    },
    {
      "cell_type": "markdown",
      "metadata": {},
      "source": [
        "## Generate  remote  files  locally"
      ]
    },
    {
      "cell_type": "code",
      "execution_count": 1,
      "metadata": {
        "dotnet_interactive": {
          "language": "csharp"
        }
      },
      "source": [
        "await WriteAllDataToTSVAsync(imageFolderPath,tsvFilePath);\n",
        "await CreateJsonlFileForRemoteAsync(tsvFilePath,jsonlFilePath);\n",
        "CreateMlTableFile(imageFolderPath,mLTableFilePath, jsonlFilePath);\n",
        ""
      ],
      "outputs": []
    },
    {
      "cell_type": "markdown",
      "metadata": {},
      "source": [
        "# Upload to Azure storage setup"
      ]
    },
    {
      "cell_type": "markdown",
      "metadata": {},
      "source": [
        "## Configure your storage connection string\n",
        " https://docs.microsoft.com/en-us/azure/storage/blobs/storage-quickstart-blobs-dotnet?tabs=environment-variable-windows#configure-your-storage-connection-string"
      ]
    },
    {
      "cell_type": "code",
      "execution_count": 1,
      "metadata": {
        "dotnet_interactive": {
          "language": "csharp"
        }
      },
      "source": [
        "  string connectionString = Environment.GetEnvironmentVariable(\"AZURE_STORAGE_CONNECTION_STRING\");\n",
        "  //Create a BlobServiceClient object which will be used to create a container client\n",
        "  BlobServiceClient blobServiceClient = new BlobServiceClient(connectionString);\n",
        "  var allblobs = blobServiceClient.GetBlobContainers(BlobContainerTraits.Metadata, BlobContainerStates.System);\n",
        "\n",
        "  // Get workspaceblobstore.\n",
        "  var defaultBlob= allblobs.First(b=> b.Name.StartsWith(\"azureml-blobstore\")).Name;\n",
        "  var defaultContainer = blobServiceClient.GetBlobContainerClient(defaultBlob);\n",
        "  var selectedFolder = new DirectoryInfo(imageFolderPath).Name;"
      ],
      "outputs": []
    },
    {
      "cell_type": "code",
      "execution_count": 1,
      "metadata": {
        "dotnet_interactive": {
          "language": "csharp"
        }
      },
      "source": [
        "\t  \n",
        "    //Upload jsonl file.\n",
        "    BlobClient blobClient = defaultContainer.GetBlobClient(\"./\" + selectedFolder +\"/\" + Path.GetFileName(jsonlFilePath));\n",
        "\tawait blobClient.UploadAsync(jsonlFilePath , true)\n",
        "\n",
        "\t// upload MLTable file.\n",
        "\tBlobClient blobClientMlTable =defaultContainer.GetBlobClient(\"./\" + selectedFolder +\"/\" +\"TrainMlTable/\" + Path.GetFileName(mLTableFilePath));\n",
        "\tawait blobClientMlTable.UploadAsync(mLTableFilePath, true);\n",
        "\n",
        ""
      ],
      "outputs": []
    },
    {
      "cell_type": "markdown",
      "metadata": {},
      "source": [
        "# Upload images "
      ]
    },
    {
      "cell_type": "code",
      "execution_count": 1,
      "metadata": {
        "dotnet_interactive": {
          "language": "csharp"
        }
      },
      "source": [
        "public async Task UploadImageToAzureAsync(string imageSourceFolder, string remoteInputFile)\n",
        "        {\n",
        "\t\t\t\n",
        "            var localFolderName = Path.GetFileName(imageSourceFolder);\n",
        "\n",
        "            using (TextFieldParser parser = new TextFieldParser(remoteInputFile))\n",
        "            {\n",
        "                while (!parser.EndOfData)\n",
        "                {\n",
        "                    var row = parser.ReadLine();\n",
        "                    var urlLength = row.IndexOf(',');\n",
        "                    var urlText = $@\"{{\"\"image_url\"\":\"\"AmlDatastore://workspaceblobstore/{localFolderName}/\";\n",
        "\n",
        "                    // save path relative to localFolderSource.Path\n",
        "                    var relativeFilePath = row.Substring(urlText.Length, urlLength - urlText.Length - 1);\n",
        "                    var relativeImagePath = relativeFilePath.Replace('/', '\\\\');\n",
        "\n",
        "                    var fullImagePath = Path.Combine(imageSourceFolder, relativeImagePath);\n",
        "                    BlobClient blobClientImage = defaultContainer.GetBlobClient(\"./\" + Path.Combine(localFolderName ,relativeImagePath));\n",
        "                    await blobClientImage.UploadAsync(fullImagePath, true);\n",
        "                }\n",
        "            }\n",
        "        }\n",
        "\t\t\t\n",
        ""
      ],
      "outputs": []
    },
    {
      "cell_type": "code",
      "execution_count": 1,
      "metadata": {
        "dotnet_interactive": {
          "language": "csharp"
        }
      },
      "source": [
        "await UploadImageToAzureAsync(imageFolderPath,jsonlFilePath);"
      ],
      "outputs": []
    },
    {
      "cell_type": "markdown",
      "metadata": {},
      "source": [
        "# Submit automl job"
      ]
    },
    {
      "cell_type": "markdown",
      "metadata": {},
      "source": [
        "## Install Azure Tools in Powershell"
      ]
    },
    {
      "cell_type": "markdown",
      "metadata": {},
      "source": [
        "###  Login into Azure  in powershell"
      ]
    },
    {
      "cell_type": "code",
      "execution_count": 1,
      "metadata": {
        "dotnet_interactive": {
          "language": "pwsh"
        }
      },
      "source": [
        "\n",
        "#!pwsh\n",
        "az login\n",
        ""
      ],
      "outputs": [
        {
          "output_type": "execute_result",
          "data": {
            "text/plain": "]\r\n"
          },
          "execution_count": 1,
          "metadata": {}
        }
      ]
    },
    {
      "cell_type": "markdown",
      "metadata": {},
      "source": [
        "# Use Azure SDKs to call into AzureML"
      ]
    },
    {
      "cell_type": "code",
      "execution_count": 1,
      "metadata": {
        "dotnet_interactive": {
          "language": "csharp"
        }
      },
      "source": [
        "using Azure.ResourceManager;\n",
        "using Azure.ResourceManager.MachineLearning;\n",
        "using System;\n",
        "using System.Threading.Tasks;\n",
        "using Azure.Core;\n",
        "using Azure.ResourceManager;\n",
        "using Azure.ResourceManager.Resources;\n",
        "using Azure.Identity;\n",
        "using Azure.ResourceManager.MachineLearning.Models;\n",
        "using Azure;"
      ],
      "outputs": []
    },
    {
      "cell_type": "code",
      "execution_count": 1,
      "metadata": {
        "dotnet_interactive": {
          "language": "csharp"
        }
      },
      "source": [
        "var armClient = new ArmClient(new DefaultAzureCredential());\n",
        "var subscription = armClient.GetSubscriptions();"
      ],
      "outputs": []
    },
    {
      "cell_type": "markdown",
      "metadata": {},
      "source": [
        "## Select your subscription where you want to have machine learning oprations."
      ]
    },
    {
      "cell_type": "code",
      "execution_count": 1,
      "metadata": {
        "dotnet_interactive": {
          "language": "csharp"
        }
      },
      "source": [
        "var selectedSubscription = subscription.Where(sub => sub.Data.DisplayName == subscriptionName).First();\n",
        ""
      ],
      "outputs": []
    },
    {
      "cell_type": "markdown",
      "metadata": {},
      "source": [
        "## Select your  resource group."
      ]
    },
    {
      "cell_type": "code",
      "execution_count": 1,
      "metadata": {
        "dotnet_interactive": {
          "language": "csharp"
        }
      },
      "source": [
        "ResourceGroupCollection resourceGroups = selectedSubscription.GetResourceGroups();\n",
        "var selectedrg=resourceGroups.Where(rg=> rg.Data.Name==resourceGroupName).First();\n",
        ""
      ],
      "outputs": []
    },
    {
      "cell_type": "markdown",
      "metadata": {},
      "source": [
        "## Select your workspace "
      ]
    },
    {
      "cell_type": "code",
      "execution_count": 1,
      "metadata": {
        "dotnet_interactive": {
          "language": "csharp"
        }
      },
      "source": [
        "MachineLearningWorkspaceResource selectedWorkspace = await selectedrg.GetMachineLearningWorkspaceAsync(workspaceName);\n",
        ""
      ],
      "outputs": []
    },
    {
      "cell_type": "markdown",
      "metadata": {},
      "source": [
        "## Select your environment ."
      ]
    },
    {
      "cell_type": "code",
      "execution_count": 1,
      "metadata": {
        "dotnet_interactive": {
          "language": "csharp"
        }
      },
      "source": [
        " var env= selectedWorkspace.GetEnvironmentContainers().First();\n",
        " //var imageSupportedEnvi= env.Where(e => e.Data.Name.EndsWith(\"GPU\") &&  e.Data.SystemData.CreatedBy == \"Microsoft\").First();\n",
        " //EnvironmentVersionResource environmentResource=imageSupportedEnvi.GetEnvironmentVersions().First();\n",
        " env.Data.Name"
      ],
      "outputs": [
        {
          "output_type": "execute_result",
          "data": {
            "text/plain": "AzureML-pytorch-1.10-ubuntu18.04-py38-cuda11-gpu"
          },
          "execution_count": 1,
          "metadata": {}
        }
      ]
    },
    {
      "cell_type": "markdown",
      "metadata": {},
      "source": [
        "## Select compute "
      ]
    },
    {
      "cell_type": "code",
      "execution_count": 1,
      "metadata": {
        "dotnet_interactive": {
          "language": "csharp"
        }
      },
      "source": [
        "var computeId=$\"/subscriptions/{selectedSubscription.Data.SubscriptionId}/resourceGroups/{selectedrg.Data.Name}/providers/Microsoft.MachineLearningServices/workspaces/{selectedWorkspace.Data.Name}/computes/{computeName}\";\n",
        ""
      ],
      "outputs": []
    },
    {
      "cell_type": "code",
      "execution_count": 1,
      "metadata": {
        "dotnet_interactive": {
          "language": "csharp"
        }
      },
      "source": [
        "public async Task<MachineLearningJobResource> SubmitAutoMLImageClassificationAsync(\n",
        "            ResourceGroupResource resourceGroup,\n",
        "            string workspaceName,\n",
        "            string id,\n",
        "            string experimentName,\n",
        "            string environmentId,\n",
        "            string computeId)\n",
        "        {\n",
        "            MachineLearningWorkspaceResource ws = await resourceGroup.GetMachineLearningWorkspaces().GetAsync(workspaceName);\n",
        "\n",
        "            // Upload the MLTable in the default workspaceblobstore.\n",
        "            var trainData = new MLTableJobInput(new Uri($\"azureml://datastores/workspaceblobstore/paths/{selectedFolder}/TrainMlTable\"))\n",
        "            {\n",
        "                Mode = InputDeliveryMode.EvalMount,\n",
        "                Description = \"Train data\",\n",
        "            };\n",
        "\n",
        "            var trainingData = new TrainingDataSettings(trainData);\n",
        "\n",
        "            ImageVerticalDataSettings dataSettings = new ImageVerticalDataSettings(\"label\", trainingData);\n",
        "            \n",
        "            ImageLimitSettings limitSettings = new ImageLimitSettings()\n",
        "            {\n",
        "                MaxConcurrentTrials = 2,\n",
        "                MaxTrials = 10,\n",
        "                Timeout = TimeSpan.FromHours(2)\n",
        "            };\n",
        "\n",
        "            ImageSweepLimitSettings sweepLimits = new ImageSweepLimitSettings() { MaxConcurrentTrials = 4, MaxTrials = 20 };\n",
        "            SamplingAlgorithmType samplingAlgorithm = SamplingAlgorithmType.Random;\n",
        "            List<ImageModelDistributionSettingsClassification> searchSpaceList = new List<ImageModelDistributionSettingsClassification>()\n",
        "                {\n",
        "                    new ImageModelDistributionSettingsClassification()\n",
        "                    {\n",
        "                        ModelName = \"choice('vitb16r224', 'vits16r224')\",\n",
        "                        LearningRate = \"uniform(0.001, 0.01)\",\n",
        "                        NumberOfEpochs = \"choice(15, 30)\",\n",
        "                    },\n",
        "                    new ImageModelDistributionSettingsClassification()\n",
        "                    {\n",
        "                        ModelName = \"choice('seresnext', 'resnet50')\",\n",
        "                        LearningRate = \"uniform(0.001, 0.01)\",\n",
        "                        NumberOfEpochs = \"choice(0, 2)\",\n",
        "                    }\n",
        "                };\n",
        "\n",
        "            AutoMLVertical taskDetails = new ImageClassification(dataSettings, limitSettings)\n",
        "            {\n",
        "                LogVerbosity = LogVerbosity.Info,\n",
        "                PrimaryMetric = ClassificationPrimaryMetrics.Accuracy,\n",
        "                SweepSettings = new ImageSweepSettings(sweepLimits, samplingAlgorithm)\n",
        "                {\n",
        "                    EarlyTermination = new BanditPolicy() { SlackFactor = 0.2f, EvaluationInterval = 3 },\n",
        "                },\n",
        "                SearchSpace = searchSpaceList,\n",
        "            };\n",
        "\n",
        "            var autoMLJob = new AutoMLJob(taskDetails)\n",
        "            {\n",
        "                ExperimentName = experimentName,\n",
        "                DisplayName = \"AutoMLJob ImageClassification-\" + Guid.NewGuid().ToString(\"n\").Substring(0, 6),\n",
        "                EnvironmentId = environmentId,\n",
        "                IsArchived = false,\n",
        "                ComputeId = computeId,\n",
        "                Resources = new ResourceConfiguration\n",
        "                {\n",
        "                    InstanceCount = 3,\n",
        "                },\n",
        "                Properties = new Dictionary<string, string>\n",
        "                    {\n",
        "                        { \"property-name\", \"property-value\" },\n",
        "                    },\n",
        "                Tags = new Dictionary<string, string>\n",
        "                    {\n",
        "                        { \"tag-name\", \"tag-value\" },\n",
        "                    },\n",
        "                EnvironmentVariables = new Dictionary<string, string>()\n",
        "                    {\n",
        "                        { \"env-var\", \"env-var-value\" }\n",
        "                    },\n",
        "                Description = \"This is a description of test AutoMLJob for multi-class Image classification job using fridge items dataset\",\n",
        "            };\n",
        "\n",
        "            MachineLearningJobData MachineLearningJobData = new MachineLearningJobData(autoMLJob);\n",
        "            ArmOperation<MachineLearningJobResource> jobOperation = await ws.GetMachineLearningJobs().CreateOrUpdateAsync(WaitUntil.Completed, id, MachineLearningJobData);\n",
        "            MachineLearningJobResource jobResource = jobOperation.Value;\n",
        "           \n",
        "       \n",
        "            return jobResource;\n",
        "        }"
      ],
      "outputs": []
    },
    {
      "cell_type": "markdown",
      "metadata": {},
      "source": [
        "# Submit Image classification  automl Job"
      ]
    },
    {
      "cell_type": "code",
      "execution_count": 1,
      "metadata": {
        "dotnet_interactive": {
          "language": "csharp"
        }
      },
      "source": [
        "// Generate job id.\n",
        "public string RandomString(int size, bool lowerCase)\n",
        "        {\n",
        "            StringBuilder builder = new StringBuilder();\n",
        "            Random random = new Random();\n",
        "            char ch;\n",
        "            for (int i = 0; i < size; i++)\n",
        "            {\n",
        "                ch = Convert.ToChar(Convert.ToInt32(Math.Floor(26 * random.NextDouble() + 65)));\n",
        "                builder.Append(ch);\n",
        "            }\n",
        "            if (lowerCase)\n",
        "                return builder.ToString().ToLower();\n",
        "            return builder.ToString();\n",
        "        }"
      ],
      "outputs": []
    },
    {
      "cell_type": "code",
      "execution_count": 1,
      "metadata": {
        "dotnet_interactive": {
          "language": "csharp"
        }
      },
      "source": [
        "var jobId = RandomString(15, true);\n",
        "MachineLearningJobResource job=await SubmitAutoMLImageClassificationAsync(selectedrg,selectedWorkspace.Data.Name,jobId,experimentName,env.Data.Id,computeId);\n",
        ""
      ],
      "outputs": []
    },
    {
      "cell_type": "markdown",
      "metadata": {},
      "source": [
        "# Monitor remote job status"
      ]
    },
    {
      "cell_type": "code",
      "execution_count": 1,
      "metadata": {
        "dotnet_interactive": {
          "language": "csharp"
        }
      },
      "source": [
        "private static async Task WaitForJobToFinishAsync(\n",
        "            MachineLearningWorkspaceResource ws,\n",
        "            string id)\n",
        "        {\n",
        "            // delay between each retry (in milliseconds)\n",
        "            const int SleepIntervalMs = 20 * 1000;\n",
        "            MachineLearningJobResource jobResource = null;\n",
        "            Console.WriteLine($\"Starting to poll the status of Job Id: {id}\");\n",
        "            do\n",
        "            {\n",
        "                jobResource = await ws.GetMachineLearningJobs().GetAsync(id);\n",
        "                Console.WriteLine($\"DateTime: {DateTime.Now}, Experiment Name:'{jobResource.Data.Properties.ExperimentName}' status returned: '{jobResource.Data.Properties.Status}'.\");\n",
        "\n",
        "                if (jobResource.Data.Properties.Status != JobStatus.Completed && jobResource.Data.Properties.Status != JobStatus.Failed && jobResource.Data.Properties.Status != JobStatus.Canceled)\n",
        "                {\n",
        "                    await Task\n",
        "                        .Delay(SleepIntervalMs)\n",
        "                        .ConfigureAwait(false);\n",
        "                }\n",
        "            }\n",
        "            while (jobResource.Data.Properties.Status != JobStatus.Completed && jobResource.Data.Properties.Status != JobStatus.Failed && jobResource.Data.Properties.Status != JobStatus.Canceled);\n",
        "\n",
        "        }"
      ],
      "outputs": []
    },
    {
      "cell_type": "code",
      "execution_count": 1,
      "metadata": {
        "dotnet_interactive": {
          "language": "csharp"
        }
      },
      "source": [
        "await WaitForJobToFinishAsync(selectedWorkspace,jobId);"
      ],
      "outputs": [
        {
          "output_type": "execute_result",
          "data": {
            "text/plain": "DateTime: 6/17/2022 11:37:03 AM, Experiment Name:'ImageClassificationAzureSDKTest' status returned: 'Running'.\r\n"
          },
          "execution_count": 1,
          "metadata": {}
        },
        {
          "output_type": "error",
          "ename": "",
          "evalue": "System.OperationCanceledException: Command :SubmitCode: await WaitForJobToFinishAsync(selectedWorkspace,jo ... cancelled.",
          "traceback": [
            null
          ]
        }
      ]
    },
    {
      "cell_type": "markdown",
      "metadata": {},
      "source": [
        "# Consume model ???\n",
        "\n",
        "### Download completed job artifacts \n",
        "\n",
        "- job artifacts ?\n",
        "- model/ onix file ?\n",
        "-score \n",
        "- child jobs= > best job\n",
        "\n",
        ""
      ]
    }
  ],
  "metadata": {
    "kernelspec": {
      "display_name": ".NET (C#)",
      "language": "C#",
      "name": ".net-csharp"
    },
    "language_info": {
      "file_extension": ".cs",
      "mimetype": "text/x-csharp",
      "name": "C#",
      "pygments_lexer": "csharp",
      "version": "8.0"
    }
  },
  "nbformat": 4,
  "nbformat_minor": 4
}