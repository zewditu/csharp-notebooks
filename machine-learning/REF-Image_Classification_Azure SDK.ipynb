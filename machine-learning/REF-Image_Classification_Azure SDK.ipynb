{
  "cells": [
    {
      "cell_type": "markdown",
      "metadata": {},
      "source": [
        "## ==**This notebook is under active development**=="
      ]
    },
    {
      "cell_type": "markdown",
      "metadata": {},
      "source": [
        "# Azure SDK Notebook"
      ]
    },
    {
      "cell_type": "code",
      "execution_count": 1,
      "metadata": {
        "dotnet_interactive": {
          "language": "csharp"
        },
        "vscode": {
          "languageId": "csharp"
        }
      },
      "outputs": [
        {
          "data": {
            "text/html": [
              "<div><div></div><div></div><div><strong>Installed Packages</strong><ul><li><span>Azure.Identity, 1.6.0</span></li><li><span>Azure.ResourceManager.MachineLearning, 1.0.0-beta.1</span></li><li><span>Azure.Security.KeyVault.Secrets, 4.3.0</span></li><li><span>Azure.Storage.Blobs, 12.12.0</span></li><li><span>Microsoft.ML, 2.0.0-preview.22314.3</span></li><li><span>Microsoft.ML.AutoML, 0.20.0-preview.22314.3</span></li><li><span>Newtonsoft.Json, 13.0.2-beta1</span></li></ul></div></div>"
            ]
          },
          "execution_count": 1,
          "metadata": {},
          "output_type": "execute_result"
        }
      ],
      "source": [
        "#r \"nuget: Azure.ResourceManager.MachineLearning, 1.0.0-beta.1\"\n",
        "#r \"nuget: Azure.Identity, 1.6.0\"\n",
        "#r \"nuget: Azure.Security.KeyVault.Secrets, 4.3.0\"\n",
        "#r \"nuget:Azure.Storage.Blobs, 12.12.0\"\n",
        "#r \"Microsoft.VisualBasic\"\n",
        "\n",
        "#r \"nuget: Microsoft.ML, 2.0.0-preview.22314.3\"\n",
        "#r \"nuget: Microsoft.ML.AutoML, 0.20.0-preview.22314.3\"\n",
        "#r \"nuget: Newtonsoft.Json, 13.0.2-beta1\"\n",
        "\n"
      ]
    },
    {
      "cell_type": "code",
      "execution_count": 1,
      "metadata": {
        "dotnet_interactive": {
          "language": "csharp"
        },
        "vscode": {
          "languageId": "csharp"
        }
      },
      "outputs": [],
      "source": [
        "// Import common usings.\n",
        "using Azure.Storage.Blobs;\n",
        "using Azure.Storage.Blobs.Models;\n",
        "using System.IO;\n",
        "using Microsoft.VisualBasic;\n",
        "using Microsoft.VisualBasic.FileIO;\n",
        "\n"
      ]
    },
    {
      "cell_type": "markdown",
      "metadata": {},
      "source": [
        "### The following section define file paths  and azure  resources to complete this machine learning opration in this notebook."
      ]
    },
    {
      "cell_type": "code",
      "execution_count": 1,
      "metadata": {
        "dotnet_interactive": {
          "language": "csharp"
        },
        "vscode": {
          "languageId": "csharp"
        }
      },
      "outputs": [],
      "source": [
        "// File paths.\n",
        "var imageFolderPath=@\"C:\\Users\\zehailem\\Desktop\\AugustSunnyImages\";\n",
        "var tempPath = Path.GetTempPath();\n",
        "var guid = Guid.NewGuid().ToString();\n",
        "var modelName=\"MlModel\";\n",
        "var tsvFilePath = Path.Combine(tempPath, $\"{guid}-{modelName}.ImageTrainData.tsv\");\n",
        "var jsonlFilePath = Path.Combine(tempPath, $\"{guid}-{modelName}.AzureImageTrainData.jsonl\");\n",
        "var MlTableFolder = Directory.CreateDirectory(Path.Combine(tempPath, \"TrainMlTable\"));\n",
        "var mLTableFilePath = Path.Combine(MlTableFolder.FullName, \"MLTable.\");\n",
        "\n",
        "// Azure resources Names.\n",
        "string subscriptionName =\"ML.NET Model Builder Demo\";\n",
        "string resourceGroupName = \"ZewdPortlaExcercise\";\n",
        "string workspaceName =\"BikeRentalWorkSpace\";\n",
        "string computeName =\"AzureSDkTest\";\n",
        "string EmvironmentName;"
      ]
    },
    {
      "cell_type": "markdown",
      "metadata": {},
      "source": [
        "# Generate data schema for training \n",
        "The following  cells are to generate  data schemas appropriate for Image classification. For furthere detail refer this  https://docs.microsoft.com/en-us/azure/machine-learning/reference-automl-images-schema"
      ]
    },
    {
      "cell_type": "markdown",
      "metadata": {},
      "source": [
        "## Generate tsv file"
      ]
    },
    {
      "cell_type": "code",
      "execution_count": 1,
      "metadata": {
        "dotnet_interactive": {
          "language": "csharp"
        },
        "vscode": {
          "languageId": "csharp"
        }
      },
      "outputs": [],
      "source": [
        "public async Task WriteAllDataToTSVAsync(string selectedFolderName, string tsvFilePath)\n",
        "        {\n",
        "            DirectoryInfo rootDirectoryInfo = new DirectoryInfo(selectedFolderName);\n",
        "            DirectoryInfo[] subDirectories = rootDirectoryInfo.GetDirectories();\n",
        "\t\t\t\n",
        "             string[] AllowedImageFileExtensions = new[] { \".png\", \".jpg\", \".jpeg\", \".gif\" };\n",
        "            using (var outFile = File.CreateText(tsvFilePath))\n",
        "            {\n",
        "                try\n",
        "                {\n",
        "                    // Add labels for the data.\n",
        "                     string label = \"Label\";\n",
        "                    \n",
        "                    var labels = new string[] { label, \"ImageSource\" };\n",
        "                    var headerString = string.Join(\"\\t\", labels);\n",
        "                    outFile.WriteLine(headerString);\n",
        "\n",
        "                    foreach (DirectoryInfo directory in subDirectories)\n",
        "                    {\n",
        "\t\t\t\t\t\tTextFieldParser parser;\n",
        "                        IEnumerable<FileInfo> files = directory.EnumerateFiles();\n",
        "                        var folderList = files.Where(f => AllowedImageFileExtensions.Contains(f.Extension.ToLower()));\n",
        "                            foreach (FileInfo file in folderList)\n",
        "                            {\n",
        "                                var values = new string[] { directory.Name, file.FullName };\n",
        "                                var line = string.Join(\"\\t\", values);\n",
        "\n",
        "                                outFile.WriteLine(line);\n",
        "                            }\n",
        "                    }\n",
        "                        \n",
        "                    \n",
        "                }\n",
        "                catch (Exception e)\n",
        "                {\n",
        "                    throw new Exception();\n",
        "                }\n",
        "            }\n",
        "\n",
        "            \n",
        "        }"
      ]
    },
    {
      "cell_type": "markdown",
      "metadata": {},
      "source": [
        "## Generate MLTable File"
      ]
    },
    {
      "cell_type": "code",
      "execution_count": 1,
      "metadata": {
        "dotnet_interactive": {
          "language": "csharp"
        },
        "vscode": {
          "languageId": "csharp"
        }
      },
      "outputs": [],
      "source": [
        "\n",
        "        public void CreateMlTableFile(string selectedFolderName, string mlTableFilePath, string remoteAzureTrainingFile)\n",
        "        {\n",
        "\n",
        "            try\n",
        "            {\n",
        "                using (var outFile = File.CreateText(mlTableFilePath))\n",
        "                {\n",
        "                    var jsonlFileName = Path.GetFileName(remoteAzureTrainingFile);\n",
        "                    var selectedFolder = new DirectoryInfo(selectedFolderName).Name;\n",
        "                    var mlTableContent = $@\"paths:\n",
        "  - file: azureml://datastores/workspaceblobstore/paths/{selectedFolder}/{jsonlFileName}\n",
        "transformations:\n",
        "  - read_json_lines:\n",
        "        encoding: utf8\n",
        "        invalid_lines: error\n",
        "        include_path_column: false\n",
        "  - convert_column_types:\n",
        "      - columns: image_url\n",
        "        column_type: stream_info\";\n",
        "                    outFile.Write(mlTableContent);\n",
        "                }\n",
        "            }\n",
        "            catch (Exception e)\n",
        "            {\n",
        "                throw new Exception(e.Message);\n",
        "\n",
        "            }\n",
        "        }\n",
        "    "
      ]
    },
    {
      "cell_type": "markdown",
      "metadata": {},
      "source": [
        "## Generate  remote  files  locally"
      ]
    },
    {
      "cell_type": "markdown",
      "metadata": {},
      "source": [
        "## Azure storage setup"
      ]
    },
    {
      "cell_type": "markdown",
      "metadata": {},
      "source": [
        "## Configure your storage connection string\n",
        " https://docs.microsoft.com/en-us/azure/storage/blobs/storage-quickstart-blobs-dotnet?tabs=environment-variable-windows#configure-your-storage-connection-string"
      ]
    },
    {
      "cell_type": "code",
      "execution_count": 1,
      "metadata": {
        "dotnet_interactive": {
          "language": "csharp"
        },
        "vscode": {
          "languageId": "csharp"
        }
      },
      "outputs": [],
      "source": [
        "  string connectionString = Environment.GetEnvironmentVariable(\"AZURE_STORAGE_CONNECTION_STRING\");\n",
        "  //Create a BlobServiceClient object which will be used to create a container client\n",
        "  BlobServiceClient blobServiceClient = new BlobServiceClient(connectionString);\n",
        "  var allblobs = blobServiceClient.GetBlobContainers(BlobContainerTraits.Metadata, BlobContainerStates.System);\n",
        "\n",
        "  // Get workspaceblobstore.\n",
        "  var defaultBlob= allblobs.First(b=> b.Name.StartsWith(\"azureml-blobstore\")).Name;\n",
        "\n",
        "  // this is the storage where artifacts stored.\n",
        "  var artifactBlob= allblobs.First(b=> b.Name.Equals(\"azureml\")).Name;\n",
        "\n",
        "  var defaultContainer = blobServiceClient.GetBlobContainerClient(defaultBlob);\n",
        "  var selectedFolder = new DirectoryInfo(imageFolderPath).Name;\n",
        "  var artifactBlobContainer = blobServiceClient.GetBlobContainerClient(artifactBlob);"
      ]
    },
    {
      "cell_type": "markdown",
      "metadata": {},
      "source": [
        "# Submit automl job"
      ]
    },
    {
      "cell_type": "markdown",
      "metadata": {},
      "source": [
        "###  Login into Azure  in powershell"
      ]
    },
    {
      "cell_type": "code",
      "execution_count": 1,
      "metadata": {
        "dotnet_interactive": {
          "language": "pwsh"
        },
        "vscode": {
          "languageId": "csharp"
        }
      },
      "outputs": [
        {
          "ename": "",
          "evalue": "System.OperationCanceledException: Command :SubmitCode: #!pwsh\naz login cancelled.",
          "output_type": "error",
          "traceback": [
            null
          ]
        }
      ],
      "source": [
        "#!pwsh\n",
        "az login\n"
      ]
    },
    {
      "cell_type": "markdown",
      "metadata": {},
      "source": [
        "# Use Azure SDKs to call into AzureML"
      ]
    },
    {
      "cell_type": "code",
      "execution_count": 1,
      "metadata": {
        "dotnet_interactive": {
          "language": "csharp"
        },
        "vscode": {
          "languageId": "csharp"
        }
      },
      "outputs": [],
      "source": [
        "using Azure.ResourceManager;\n",
        "using Azure.ResourceManager.MachineLearning;\n",
        "using System;\n",
        "using System.Threading.Tasks;\n",
        "using Azure.Core;\n",
        "using Azure.ResourceManager;\n",
        "using Azure.ResourceManager.Resources;\n",
        "using Azure.Identity;\n",
        "using Azure.ResourceManager.MachineLearning.Models;\n",
        "using Azure;"
      ]
    },
    {
      "cell_type": "code",
      "execution_count": 1,
      "metadata": {
        "dotnet_interactive": {
          "language": "csharp"
        },
        "vscode": {
          "languageId": "csharp"
        }
      },
      "outputs": [],
      "source": [
        "var armClient = new ArmClient(new DefaultAzureCredential());\n",
        "var subscription = armClient.GetSubscriptions();"
      ]
    },
    {
      "cell_type": "markdown",
      "metadata": {},
      "source": [
        "## Select your subscription where you want to have machine learning oprations."
      ]
    },
    {
      "cell_type": "code",
      "execution_count": 1,
      "metadata": {
        "dotnet_interactive": {
          "language": "csharp"
        },
        "vscode": {
          "languageId": "csharp"
        }
      },
      "outputs": [],
      "source": [
        "var selectedSubscription = subscription.Where(sub => sub.Data.DisplayName == \"ML.NET Model Builder Demo\").First();\n",
        "var subId= selectedSubscription.Data.SubscriptionId;"
      ]
    },
    {
      "cell_type": "code",
      "execution_count": 1,
      "metadata": {
        "dotnet_interactive": {
          "language": "csharp"
        },
        "vscode": {
          "languageId": "csharp"
        }
      },
      "outputs": [],
      "source": [
        "var workspaces =selectedSubscription.GetMachineLearningWorkspaces();\n",
        "var ws= workspaces.Where(ws=> ws.Data.Name == workspaceName).First();"
      ]
    },
    {
      "cell_type": "markdown",
      "metadata": {},
      "source": [
        "## Select your  resource group."
      ]
    },
    {
      "cell_type": "code",
      "execution_count": 1,
      "metadata": {
        "dotnet_interactive": {
          "language": "csharp"
        },
        "vscode": {
          "languageId": "csharp"
        }
      },
      "outputs": [],
      "source": [
        "var resourceGroups = selectedSubscription.GetResourceGroups();\n",
        "var rg= resourceGroups.Where(r=> r.Data.Name == resourceGroupName).First();\n",
        "\n"
      ]
    },
    {
      "cell_type": "markdown",
      "metadata": {},
      "source": [
        "## Select your workspace "
      ]
    },
    {
      "cell_type": "code",
      "execution_count": 1,
      "metadata": {
        "dotnet_interactive": {
          "language": "csharp"
        },
        "vscode": {
          "languageId": "csharp"
        }
      },
      "outputs": [],
      "source": [
        "MachineLearningWorkspaceResource selectedWorkspace = await rg.GetMachineLearningWorkspaceAsync(workspaceName);\n"
      ]
    },
    {
      "cell_type": "markdown",
      "metadata": {},
      "source": [
        "Generate jsonl file"
      ]
    },
    {
      "cell_type": "code",
      "execution_count": 1,
      "metadata": {
        "dotnet_interactive": {
          "language": "csharp"
        },
        "vscode": {
          "languageId": "csharp"
        }
      },
      "outputs": [],
      "source": [
        " public async Task CreateJsonlFileForRemoteAsync(string imageTsvPath, string generatedTsvPath)\n",
        "        {\n",
        "\n",
        "            // TODO Make Async and on background thread. (Suggestion: Use Stream Writer)\n",
        "            using (var outFile = File.CreateText(generatedTsvPath))\n",
        "            {\n",
        "                try\n",
        "                {\n",
        "                    using (TextFieldParser parser = new TextFieldParser(imageTsvPath))\n",
        "                    {\n",
        "                        parser.TextFieldType = FieldType.Delimited;\n",
        "                        parser.SetDelimiters(\"\\t\");\n",
        "\n",
        "                        // Skip the header line\n",
        "                        parser.ReadLine();\n",
        "                        while (!parser.EndOfData)\n",
        "                        {\n",
        "                            var row = parser.ReadFields();\n",
        "\n",
        "                            var label = row[0];\n",
        "                            var file = new FileInfo(row[1]);\n",
        "                            var imageRelativePath = Path.Combine(file.Directory.Parent.Name, file.Directory.Name, file.Name).Replace('\\\\', '/');\n",
        "\n",
        "                            var values = new string[] { imageRelativePath, label };\n",
        "\n",
        "                            var jsonLine = $@\"{{\"\"image_url\"\":\"\"azureml://subscriptions/{subId}/resourcegroups/{rg.Data.Name}/workspaces/{ws.Data.Name}/datastores/workspaceblobstore/paths/{imageRelativePath}\"\", \"\"label\"\":\"\"{label}\"\"}}\";\n",
        "\n",
        "                            outFile.WriteLine(jsonLine);\n",
        "                        }\n",
        "                    }\n",
        "                }\n",
        "                catch (Exception e)\n",
        "                {\n",
        "                    throw new Exception(e.Message);\n",
        "                }\n",
        "            }\n",
        "        }"
      ]
    },
    {
      "cell_type": "code",
      "execution_count": 1,
      "metadata": {
        "dotnet_interactive": {
          "language": "csharp"
        },
        "vscode": {
          "languageId": "csharp"
        }
      },
      "outputs": [],
      "source": [
        "await WriteAllDataToTSVAsync(imageFolderPath,tsvFilePath);\n",
        "await CreateJsonlFileForRemoteAsync(tsvFilePath,jsonlFilePath);\n",
        "CreateMlTableFile(imageFolderPath,mLTableFilePath, jsonlFilePath);\n"
      ]
    },
    {
      "cell_type": "code",
      "execution_count": 1,
      "metadata": {
        "dotnet_interactive": {
          "language": "csharp"
        },
        "vscode": {
          "languageId": "csharp"
        }
      },
      "outputs": [],
      "source": [
        "imageFolderPath"
      ]
    },
    {
      "cell_type": "code",
      "execution_count": 1,
      "metadata": {
        "dotnet_interactive": {
          "language": "csharp"
        },
        "vscode": {
          "languageId": "csharp"
        }
      },
      "outputs": [],
      "source": [
        "    //Upload jsonl file.\n",
        "    BlobClient blobClient = defaultContainer.GetBlobClient(\"./\" + selectedFolder +\"/\" + Path.GetFileName(jsonlFilePath));\n",
        "\tawait blobClient.UploadAsync(jsonlFilePath , true);\n",
        "\n",
        "\t// upload MLTable file.\n",
        "\tBlobClient blobClientMlTable =defaultContainer.GetBlobClient(\"./\" + selectedFolder +\"/\" +\"TrainMlTable/\" + Path.GetFileName(mLTableFilePath));\n",
        "\tawait blobClientMlTable.UploadAsync(mLTableFilePath, true);\n",
        "\t"
      ]
    },
    {
      "cell_type": "code",
      "execution_count": 1,
      "metadata": {
        "dotnet_interactive": {
          "language": "csharp"
        },
        "vscode": {
          "languageId": "csharp"
        }
      },
      "outputs": [
        {
          "data": {
            "text/plain": [
              "SunImages"
            ]
          },
          "execution_count": 1,
          "metadata": {},
          "output_type": "execute_result"
        }
      ],
      "source": [
        "selectedFolder"
      ]
    },
    {
      "cell_type": "code",
      "execution_count": 1,
      "metadata": {
        "dotnet_interactive": {
          "language": "csharp"
        },
        "vscode": {
          "languageId": "csharp"
        }
      },
      "outputs": [],
      "source": [
        "public async Task UploadImageToAzureAsync(string imageSourceFolder, string remoteInputFile)\n",
        "        {\n",
        "\t\t\t\n",
        "            var localFolderName = Path.GetFileName(imageSourceFolder);\n",
        "\n",
        "            using (TextFieldParser parser = new TextFieldParser(remoteInputFile))\n",
        "            {\n",
        "                while (!parser.EndOfData)\n",
        "                {\n",
        "                    var row = parser.ReadLine();\n",
        "                    var urlLength = row.IndexOf(',');\n",
        "                    var urlText = $@\"{{\"\"image_url\"\":\"\"azureml://subscriptions/{subId}/resourcegroups/{rg.Data.Name}/workspaces/{ws.Data.Name}/datastores/workspaceblobstore/paths/{localFolderName}\"\"\";\n",
        "\n",
        "                    // save path relative to localFolderSource.Path\n",
        "                    var relativeFilePath = row.Substring(urlText.Length, urlLength - urlText.Length - 1);\n",
        "                    var relativeImagePath = relativeFilePath.Replace('/', '\\\\');\n",
        "\n",
        "                    var fullImagePath = Path.Combine(imageSourceFolder, relativeImagePath);\n",
        "                    BlobClient blobClientImage = defaultContainer.GetBlobClient(\"./\" + Path.Combine(localFolderName ,relativeImagePath));\n",
        "                    await blobClientImage.UploadAsync(fullImagePath, true);\n",
        "                }\n",
        "            }\n",
        "        }\n",
        "\t\t\t\n"
      ]
    },
    {
      "cell_type": "markdown",
      "metadata": {},
      "source": [
        "Upload image"
      ]
    },
    {
      "cell_type": "code",
      "execution_count": 1,
      "metadata": {
        "dotnet_interactive": {
          "language": "csharp"
        },
        "vscode": {
          "languageId": "csharp"
        }
      },
      "outputs": [],
      "source": [
        "await UploadImageToAzureAsync(imageFolderPath,jsonlFilePath);"
      ]
    },
    {
      "cell_type": "code",
      "execution_count": 1,
      "metadata": {
        "dotnet_interactive": {
          "language": "csharp"
        },
        "vscode": {
          "languageId": "csharp"
        }
      },
      "outputs": [],
      "source": [
        "public async Task<MachineLearningJobResource> SubmitAutoMLImageClassificationAsync(\n",
        "            ResourceGroupResource resourceGroup,\n",
        "            string workspaceName,\n",
        "            string id,\n",
        "            string experimentName,\n",
        "            string environmentId,\n",
        "            string computeId)\n",
        "        {\n",
        "            MachineLearningWorkspaceResource ws = await resourceGroup.GetMachineLearningWorkspaces().GetAsync(workspaceName);\n",
        "\n",
        "            // Upload the MLTable in the default workspaceblobstore.\n",
        "            var trainData = new MLTableJobInput(new Uri($\"azureml://datastores/workspaceblobstore/paths/{selectedFolder}/TrainMlTable\"))\n",
        "            {\n",
        "                Mode = InputDeliveryMode.EvalMount,\n",
        "                Description = \"Train data\",\n",
        "            };\n",
        "\n",
        "            var trainingData = new TrainingDataSettings(trainData);\n",
        "\n",
        "            ImageVerticalDataSettings dataSettings = new ImageVerticalDataSettings(\"label\", trainingData);\n",
        "            \n",
        "            ImageLimitSettings limitSettings = new ImageLimitSettings()\n",
        "            {\n",
        "                MaxConcurrentTrials = 2,\n",
        "                MaxTrials = 10,\n",
        "                Timeout = TimeSpan.FromHours(2)\n",
        "            };\n",
        "\n",
        "            ImageSweepLimitSettings sweepLimits = new ImageSweepLimitSettings() { MaxConcurrentTrials = 4, MaxTrials = 20 };\n",
        "            SamplingAlgorithmType samplingAlgorithm = SamplingAlgorithmType.Random;\n",
        "            List<ImageModelDistributionSettingsClassification> searchSpaceList = new List<ImageModelDistributionSettingsClassification>()\n",
        "                {\n",
        "                    new ImageModelDistributionSettingsClassification()\n",
        "                    {\n",
        "                        ModelName = \"choice('vitb16r224', 'vits16r224')\",\n",
        "                        LearningRate = \"uniform(0.001, 0.01)\",\n",
        "                        NumberOfEpochs = \"choice(15, 30)\",\n",
        "                    },\n",
        "                    new ImageModelDistributionSettingsClassification()\n",
        "                    {\n",
        "                        ModelName = \"choice('seresnext', 'resnet50')\",\n",
        "                        LearningRate = \"uniform(0.001, 0.01)\",\n",
        "                        NumberOfEpochs = \"choice(0, 2)\",\n",
        "                    }\n",
        "                };\n",
        "\n",
        "            AutoMLVertical taskDetails = new ImageClassification(dataSettings, limitSettings)\n",
        "            {\n",
        "                LogVerbosity = LogVerbosity.Info,\n",
        "                PrimaryMetric = ClassificationPrimaryMetrics.Accuracy,\n",
        "                SweepSettings = new ImageSweepSettings(sweepLimits, samplingAlgorithm)\n",
        "                {\n",
        "                    EarlyTermination = new BanditPolicy() { SlackFactor = 0.2f, EvaluationInterval = 3 },\n",
        "                },\n",
        "                SearchSpace = searchSpaceList,\n",
        "            };\n",
        "\n",
        "            var autoMLJob = new AutoMLJob(taskDetails)\n",
        "            {\n",
        "                ExperimentName = experimentName,\n",
        "                DisplayName = \"AutoMLJob ImageClassification-\" + Guid.NewGuid().ToString(\"n\").Substring(0, 6),\n",
        "                EnvironmentId = environmentId,\n",
        "                IsArchived = false,\n",
        "                ComputeId = computeId,\n",
        "                Resources = new ResourceConfiguration\n",
        "                {\n",
        "                    InstanceCount = 3,\n",
        "                },\n",
        "                Properties = new Dictionary<string, string>\n",
        "                    {\n",
        "                        { \"property-name\", \"property-value\" },\n",
        "                    },\n",
        "                Tags = new Dictionary<string, string>\n",
        "                    {\n",
        "                        { \"tag-name\", \"tag-value\" },\n",
        "                    },\n",
        "                EnvironmentVariables = new Dictionary<string, string>()\n",
        "                    {\n",
        "                        { \"env-var\", \"env-var-value\" }\n",
        "                    },\n",
        "                Description = \"This is a description of test AutoMLJob for multi-class Image classification job using fridge items dataset\",\n",
        "            };\n",
        "\n",
        "            MachineLearningJobData MachineLearningJobData = new MachineLearningJobData(autoMLJob);\n",
        "            ArmOperation<MachineLearningJobResource> jobOperation = await ws.GetMachineLearningJobs().CreateOrUpdateAsync(WaitUntil.Completed, id, MachineLearningJobData);\n",
        "            MachineLearningJobResource jobResource = jobOperation.Value;\n",
        "           \n",
        "       \n",
        "            return jobResource;\n",
        "        }"
      ]
    },
    {
      "cell_type": "markdown",
      "metadata": {},
      "source": [
        "## Submit Image classification  automl Job"
      ]
    },
    {
      "cell_type": "code",
      "execution_count": 1,
      "metadata": {
        "dotnet_interactive": {
          "language": "csharp"
        },
        "vscode": {
          "languageId": "csharp"
        }
      },
      "outputs": [],
      "source": [
        "// Generate job id.\n",
        "public string RandomString(int size, bool lowerCase)\n",
        "        {\n",
        "            StringBuilder builder = new StringBuilder();\n",
        "            Random random = new Random();\n",
        "            char ch;\n",
        "            for (int i = 0; i < size; i++)\n",
        "            {\n",
        "                ch = Convert.ToChar(Convert.ToInt32(Math.Floor(26 * random.NextDouble() + 65)));\n",
        "                builder.Append(ch);\n",
        "            }\n",
        "            if (lowerCase)\n",
        "                return builder.ToString().ToLower();\n",
        "            return builder.ToString();\n",
        "        }"
      ]
    },
    {
      "cell_type": "code",
      "execution_count": 1,
      "metadata": {
        "dotnet_interactive": {
          "language": "csharp"
        },
        "vscode": {
          "languageId": "csharp"
        }
      },
      "outputs": [],
      "source": [
        "var jobId = RandomString(15, true);\n",
        "MachineLearningJobResource job=await SubmitAutoMLImageClassificationAsync(selectedrg,selectedWorkspace.Data.Name,jobId,experimentName,env.Data.Id,computeId);\n"
      ]
    },
    {
      "cell_type": "markdown",
      "metadata": {},
      "source": [
        "## Monitor remote job status"
      ]
    },
    {
      "cell_type": "code",
      "execution_count": 1,
      "metadata": {
        "dotnet_interactive": {
          "language": "csharp"
        },
        "vscode": {
          "languageId": "csharp"
        }
      },
      "outputs": [],
      "source": [
        "private static async Task WaitForJobToFinishAsync(\n",
        "            MachineLearningWorkspaceResource ws,\n",
        "            string id)\n",
        "        {\n",
        "            // delay between each retry (in milliseconds)\n",
        "            const int SleepIntervalMs = 20 * 1000;\n",
        "            MachineLearningJobResource jobResource = null;\n",
        "            Console.WriteLine($\"Starting to poll the status of Job Id: {id}\");\n",
        "            do\n",
        "            {\n",
        "                jobResource = await ws.GetMachineLearningJobs().GetAsync(id);\n",
        "                Console.WriteLine($\"DateTime: {DateTime.Now}, Experiment Name:'{jobResource.Data.Properties.ExperimentName}' status returned: '{jobResource.Data.Properties.Status}'.\");\n",
        "\n",
        "                if (jobResource.Data.Properties.Status != JobStatus.Completed && jobResource.Data.Properties.Status != JobStatus.Failed && jobResource.Data.Properties.Status != JobStatus.Canceled)\n",
        "                {\n",
        "                    await Task\n",
        "                        .Delay(SleepIntervalMs)\n",
        "                        .ConfigureAwait(false);\n",
        "                }\n",
        "            }\n",
        "            while (jobResource.Data.Properties.Status != JobStatus.Completed && jobResource.Data.Properties.Status != JobStatus.Failed && jobResource.Data.Properties.Status != JobStatus.Canceled);\n",
        "\n",
        "        }"
      ]
    },
    {
      "cell_type": "code",
      "execution_count": 1,
      "metadata": {
        "dotnet_interactive": {
          "language": "csharp"
        },
        "vscode": {
          "languageId": "csharp"
        }
      },
      "outputs": [],
      "source": [
        "await WaitForJobToFinishAsync(selectedWorkspace,jobId);"
      ]
    },
    {
      "cell_type": "markdown",
      "metadata": {},
      "source": [
        "# Downlaod artifacts "
      ]
    },
    {
      "cell_type": "code",
      "execution_count": 1,
      "metadata": {
        "dotnet_interactive": {
          "language": "csharp"
        },
        "vscode": {
          "languageId": "csharp"
        }
      },
      "outputs": [],
      "source": [
        "var labelArtifact= artifactBlobContainer.GetBlobClient(\"./ExperimentRun/dcid.AutoML_bc021f35-8f3a-4768-9233-9e6e3225c5be_HD_0/train_artifacts/labels.json\");\n",
        "var onnxModelArtifact= artifactBlobContainer.GetBlobClient(\"./ExperimentRun/dcid.AutoML_bc021f35-8f3a-4768-9233-9e6e3225c5be_HD_0/train_artifacts/model.onnx\");\n",
        "var onnxFilePath= @\"C:\\Users\\zehailem\\Desktop\\Artifact\\model.onnx\";\n",
        "\n",
        "var labelFilePath= @\"C:\\Users\\zehailem\\Desktop\\Artifact\\modelTwo.json\";\n",
        "await labelArtifact.DownloadToAsync(labelFilePath);"
      ]
    },
    {
      "cell_type": "markdown",
      "metadata": {},
      "source": [
        "# Get label map"
      ]
    },
    {
      "cell_type": "code",
      "execution_count": 1,
      "metadata": {
        "dotnet_interactive": {
          "language": "csharp"
        },
        "vscode": {
          "languageId": "csharp"
        }
      },
      "outputs": [],
      "source": [
        "string json= File.ReadAllText(labelFilePath, Encoding.UTF8);\n",
        "           "
      ]
    },
    {
      "cell_type": "code",
      "execution_count": 1,
      "metadata": {
        "dotnet_interactive": {
          "language": "csharp"
        },
        "vscode": {
          "languageId": "csharp"
        }
      },
      "outputs": [],
      "source": [
        "using Microsoft.ML.Transforms.Image;\n",
        "using System.Drawing;\n",
        "using Microsoft.ML.Data;\n",
        "using Microsoft.ML;\n",
        "using Newtonsoft.Json;\n",
        "using Microsoft.ML.AutoML.CodeGen;"
      ]
    },
    {
      "cell_type": "code",
      "execution_count": 1,
      "metadata": {
        "dotnet_interactive": {
          "language": "csharp"
        },
        "vscode": {
          "languageId": "csharp"
        }
      },
      "outputs": [],
      "source": [
        "static string[] labels = null;\n",
        "\n",
        " labels = JsonConvert.DeserializeObject<string[]>(json);\n",
        "\n"
      ]
    },
    {
      "cell_type": "code",
      "execution_count": 1,
      "metadata": {
        "dotnet_interactive": {
          "language": "csharp"
        },
        "vscode": {
          "languageId": "csharp"
        }
      },
      "outputs": [],
      "source": [
        "public class ImageClassificationBitmapModelInput\n",
        "    {\n",
        "        [ColumnName(\"Label\")]\n",
        "        [LoadColumn(0)]\n",
        "        public string Label { get; set; }\n",
        "\n",
        "        [ColumnName(\"ImageSource\"), LoadColumn(1), ImageType(224, 224)]\n",
        "        public Bitmap ImageSource { get; set; }\n",
        "    }"
      ]
    },
    {
      "cell_type": "markdown",
      "metadata": {},
      "source": [
        "# Consume Model"
      ]
    },
    {
      "cell_type": "code",
      "execution_count": 1,
      "metadata": {
        "dotnet_interactive": {
          "language": "csharp"
        },
        "vscode": {
          "languageId": "csharp"
        }
      },
      "outputs": [],
      "source": [
        "public class ModelInput\n",
        "        {\n",
        "            [ColumnName(@\"Label\")]\n",
        "            public string Label { get; set; }\n",
        "\n",
        "            [ColumnName(@\"ImageSource\")]\n",
        "            [Microsoft.ML.Transforms.Image.ImageType(224, 224)]\n",
        "            public System.Drawing.Bitmap ImageSource { get; set; }\n",
        "\n",
        "        }"
      ]
    },
    {
      "cell_type": "code",
      "execution_count": 1,
      "metadata": {
        "dotnet_interactive": {
          "language": "csharp"
        },
        "vscode": {
          "languageId": "csharp"
        }
      },
      "outputs": [],
      "source": [
        " public class ModelOutput\n",
        "        {\n",
        "            [ColumnName(\"output1\")]\n",
        "            public float[] Output1 { get; set; }\n",
        "\n",
        "            public string[] ClassificationLabels = labels;\n",
        "\n",
        "            public string Prediction\n",
        "            {\n",
        "                get\n",
        "                {\n",
        "                    var maxScore = this.Score.Max();\n",
        "                    var maxIndex = Array.IndexOf(this.Score, maxScore);\n",
        "                    return this.ClassificationLabels[maxIndex];\n",
        "                }\n",
        "            }\n",
        "\n",
        "            public float[] Score\n",
        "            {\n",
        "                get\n",
        "                {\n",
        "                    var exp = this.Output1.Select(x => (float)Math.Exp(x));\n",
        "                    var exp_sum = exp.Sum();\n",
        "                    return exp.Select(x => x / exp_sum).ToArray();\n",
        "                }\n",
        "            }\n",
        "        }\n"
      ]
    },
    {
      "cell_type": "code",
      "execution_count": 1,
      "metadata": {
        "dotnet_interactive": {
          "language": "csharp"
        },
        "vscode": {
          "languageId": "csharp"
        }
      },
      "outputs": [],
      "source": [
        "var mlContext = new MLContext();\n"
      ]
    },
    {
      "cell_type": "code",
      "execution_count": 1,
      "metadata": {
        "dotnet_interactive": {
          "language": "csharp"
        },
        "vscode": {
          "languageId": "csharp"
        }
      },
      "outputs": [],
      "source": [
        "\n",
        " \n",
        " var pipeline = mlContext.Transforms.ResizeImages(\"ImageSource\", 224, 224, \"ImageSource\")\n",
        "                             .Append(mlContext.Transforms.ExtractPixels(\"input1\", \"ImageSource\"))\n",
        "                             .Append(mlContext.Transforms.ApplyOnnxModel(modelFile: onnxFilePath));\n",
        "\n",
        "            var trainData = mlContext.Data.LoadFromEnumerable(new[] { new ImageClassificationBitmapModelInput() });\n",
        "            var bestModel = pipeline.Fit(trainData);\n",
        "\n",
        "\t\t\t \n",
        " \n",
        "        "
      ]
    },
    {
      "cell_type": "code",
      "execution_count": 1,
      "metadata": {
        "dotnet_interactive": {
          "language": "csharp"
        },
        "vscode": {
          "languageId": "csharp"
        }
      },
      "outputs": [],
      "source": [
        "mlContext.Model.Save(bestModel,trainData.Schema,@\"C:\\Users\\zehailem\\Desktop\\Artifact\\GenModel.zip\");"
      ]
    },
    {
      "cell_type": "markdown",
      "metadata": {},
      "source": [
        "# Create PredictionEngine"
      ]
    },
    {
      "cell_type": "code",
      "execution_count": 1,
      "metadata": {
        "dotnet_interactive": {
          "language": "csharp"
        },
        "vscode": {
          "languageId": "csharp"
        }
      },
      "outputs": [
        {
          "ename": "",
          "evalue": "System.OperationCanceledException: Command :SubmitCode: ITransformer mlModel = mlContext.Model.Load(@\"C:\\U ... cancelled.",
          "output_type": "error",
          "traceback": [
            null
          ]
        }
      ],
      "source": [
        " public static PredictionEngine<ModelInput, ModelOutput> CreatePredictEngine()\n",
        " {\n",
        "\t ITransformer mlModel = mlContext.Model.Load(@\"C:\\Users\\zehailem\\Desktop\\Artifact\\GenModel.zip\", out var _);\n",
        "\t var PredictionEngine = mlContext.Model.CreatePredictionEngine<ModelInput, ModelOutput>(mlModel);\n",
        "  }\n",
        "  var image = (Bitmap)System.Drawing.Image.FromFile(@\"C:\\Users\\zehailem\\OneDrive - Microsoft\\Testdata\\AugustWeather\\Clouady\\cloudy1.jpg\");\n",
        "\n",
        "\n",
        "  ModelInput sampleInput= new ModelInput()\n",
        "{\n",
        "    ImageSource = image,\n",
        "};\n",
        "static readonly Lazy<PredictionEngine<ModelInput, ModelOutput>> PredictEngine = new Lazy<PredictionEngine<ModelInput, ModelOutput>>(() => CreatePredictEngine(), true);\n",
        " var predEngine = PredictEngine.Value;\n",
        " ModelOutput predictionResult = predEngine.Predict(sampleInput);\n",
        " Console.WriteLine($\"\\n\\nPredicted Label value: {predictionResult.Prediction} \\nPredicted Label scores: [{String.Join(\",\", predictionResult.Score)}]\\n\\n\");\n",
        "\n"
      ]
    }
  ],
  "metadata": {
    "kernelspec": {
      "display_name": ".NET (C#)",
      "language": "C#",
      "name": ".net-csharp"
    },
    "language_info": {
      "file_extension": ".cs",
      "mimetype": "text/x-csharp",
      "name": "C#",
      "pygments_lexer": "csharp",
      "version": "8.0"
    }
  },
  "nbformat": 4,
  "nbformat_minor": 4
}
