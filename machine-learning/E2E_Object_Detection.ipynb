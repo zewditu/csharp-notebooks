{
  "cells": [
    {
      "cell_type": "markdown",
      "metadata": {},
      "source": [
        "# This notebook is under active development ..."
      ]
    },
    {
      "cell_type": "markdown",
      "metadata": {},
      "source": [
        "##  Objecte -Detection: sample Notebook using Azur SDK.NET"
      ]
    },
    {
      "cell_type": "code",
      "execution_count": 1,
      "metadata": {
        "dotnet_interactive": {
          "language": "csharp"
        }
      },
      "source": [
        "#r \"nuget: Azure.ResourceManager.MachineLearning, 1.0.0-beta.1\"\n",
        "#r \"nuget: Azure.Identity, 1.6.0\"\n",
        "#r \"nuget: Azure.Security.KeyVault.Secrets, 4.3.0\"\n",
        "#r \"nuget:Azure.Storage.Blobs, 12.12.0\"\n",
        "#r \"Microsoft.VisualBasic\"\n",
        "\n",
        "#r \"nuget: Microsoft.ML, 2.0.0-preview.22314.3\"\n",
        "#r \"nuget: Microsoft.ML.AutoML, 0.20.0-preview.22314.3\"\n",
        "#r \"nuget: Newtonsoft.Json, 13.0.1\""
      ],
      "outputs": [
        {
          "output_type": "execute_result",
          "data": {
            "text/html": [
              "<div><div></div><div></div><div><strong>Installed Packages</strong><ul><li><span>Azure.Identity, 1.6.0</span></li><li><span>Azure.ResourceManager.MachineLearning, 1.0.0-beta.1</span></li><li><span>Azure.Security.KeyVault.Secrets, 4.3.0</span></li><li><span>Azure.Storage.Blobs, 12.12.0</span></li><li><span>Microsoft.ML, 2.0.0-preview.22314.3</span></li><li><span>Microsoft.ML.AutoML, 0.20.0-preview.22314.3</span></li><li><span>Newtonsoft.Json, 13.0.1</span></li></ul></div></div>"
            ]
          },
          "execution_count": 1,
          "metadata": {}
        }
      ]
    },
    {
      "cell_type": "code",
      "execution_count": 1,
      "metadata": {
        "dotnet_interactive": {
          "language": "csharp"
        }
      },
      "source": [
        "// Import common usings.\n",
        "using Azure.Storage.Blobs;\n",
        "using Azure.Storage.Blobs.Models;\n",
        "using System.IO;\n",
        "using Microsoft.VisualBasic;\n",
        "using Microsoft.VisualBasic.FileIO;\n",
        "using Newtonsoft.Json;\n",
        "using System.Runtime.Serialization;"
      ],
      "outputs": []
    },
    {
      "cell_type": "markdown",
      "metadata": {},
      "source": [
        "### The following section define file paths, azure resources and other utilities to complete this machine learning opration in this notebook."
      ]
    },
    {
      "cell_type": "code",
      "execution_count": 1,
      "metadata": {
        "dotnet_interactive": {
          "language": "csharp"
        }
      },
      "source": [
        "// Generate job id.\n",
        "public string RandomString(int size, bool lowerCase)\n",
        "        {\n",
        "            StringBuilder builder = new StringBuilder();\n",
        "            Random random = new Random();\n",
        "            char ch;\n",
        "            for (int i = 0; i < size; i++)\n",
        "            {\n",
        "                ch = Convert.ToChar(Convert.ToInt32(Math.Floor(26 * random.NextDouble() + 65)));\n",
        "                builder.Append(ch);\n",
        "            }\n",
        "            if (lowerCase)\n",
        "                return builder.ToString().ToLower();\n",
        "            return builder.ToString();\n",
        "        }\n",
        "\n",
        "\n",
        "// File paths.\n",
        "var vottFilePath= @\"C:\\Users\\zehailem\\Desktop\\StopSignopSign-export.json\";\n",
        "\n",
        "var tempPath = Path.GetTempPath();\n",
        "var guid = Guid.NewGuid().ToString();\n",
        "var modelName=\"MlModel\";\n",
        "var jsonlFilePath = Path.Combine(tempPath, $\"{guid}-{modelName}.AzureObjectDetectionTrainData.jsonl\");\n",
        "\n",
        "var MlTableFolder = Directory.CreateDirectory(Path.Combine(tempPath, \"TrainMlTable\"));\n",
        "var mLTableFilePath = Path.Combine(MlTableFolder.FullName, \"MLTable.\");\n",
        " static string labelFilePath= @\"Artifact/Object-Detection/lables.json\";\n",
        "var onnxFilePath= @\"Artifact/Object-Detection/onnxmodel.onnx\";\n",
        "static string modelFilePath = @\"Artifact/Object-Detection/Model.zip\";\n",
        "\n",
        "// Azure resources Names.\n",
        "string subscriptionName =\"ML.NET Model Builder Demo\";\n",
        "string resourceGroupName = \"ZewdPortlaExcercise\";\n",
        "string workspaceName =\"BikeRentalWorkSpace\";\n",
        "string computeName =\"AugustComp\";\n",
        "var experimentName = \"ObjectDetectionNotebook\";\n",
        ""
      ],
      "outputs": []
    },
    {
      "cell_type": "markdown",
      "metadata": {},
      "source": [
        "The following sections define data contracts to  serilaize and diserilize values from vott generaged json. To learn more https://docs.microsoft.com/en-us/dotnet/machine-learning/how-to-guides/label-images-for-object-detection-using-vott"
      ]
    },
    {
      "cell_type": "code",
      "execution_count": 1,
      "metadata": {
        "dotnet_interactive": {
          "language": "csharp"
        }
      },
      "source": [
        "[DataContract]\n",
        "public class AzureObjectDetectionLabel\n",
        "    {\n",
        "        [DataMember(Name =\"label\", IsRequired = true)]\n",
        "        public string Label { get; set; }\n",
        "\n",
        "        [DataMember(Name =\"topX\", IsRequired = true)]\n",
        "        public float TopX { get; set; }\n",
        "\n",
        "        [DataMember(Name = \"topY\", IsRequired = true)]\n",
        "        public float TopY { get; set; }\n",
        "\n",
        "        [DataMember(Name = \"bottomX\", IsRequired = true)]\n",
        "        public float BottomX { get; set; }\n",
        "\n",
        "        [DataMember(Name = \"bottomY\", IsRequired = true)]\n",
        "        public float BottomY { get; set; }\n",
        "\n",
        "        [DataMember(Name = \"isCrowd\", IsRequired = false)]\n",
        "        public bool IsCrowd { get; set; }\n",
        "\n",
        "    }"
      ],
      "outputs": []
    },
    {
      "cell_type": "code",
      "execution_count": 1,
      "metadata": {
        "dotnet_interactive": {
          "language": "csharp"
        }
      },
      "source": [
        "[DataContract]\n",
        "public class AzureImageDetails\n",
        "    {\n",
        "        [DataMember(Name =\"format\", IsRequired = true)]\n",
        "        public string Format { get; set; }\n",
        "\n",
        "        [DataMember(Name = \"width\", IsRequired = true)]\n",
        "        public string WidthPX\n",
        "        {\n",
        "            get => this.Width + \"px\";\n",
        "        }\n",
        "\n",
        "        [DataMember(Name = \"height\", IsRequired = true)]\n",
        "        public string HeightPX\n",
        "        {\n",
        "            get => this.Height + \"px\";\n",
        "        }\n",
        "\n",
        "        public int Width { get; set; }\n",
        "\n",
        "        public int Height { get; set; }\n",
        "    }"
      ],
      "outputs": []
    },
    {
      "cell_type": "code",
      "execution_count": 1,
      "metadata": {
        "dotnet_interactive": {
          "language": "csharp"
        }
      },
      "source": [
        "[DataContract]\n",
        "public class AzureObjectDetectionWithLabels\n",
        "    {\n",
        "        [DataMember(Name = \"image_url\", IsRequired = true)]\n",
        "        public string ImageUrl { get; set; }\n",
        "\n",
        "        [DataMember(Name = \"image_details\", IsRequired = true)]\n",
        "        public AzureImageDetails ImageDetails { get; set; }\n",
        "\n",
        "        [DataMember(Name = \"label\", IsRequired = true)]\n",
        "        public List<AzureObjectDetectionLabel> Labels { get; set; } = new List<AzureObjectDetectionLabel>();\n",
        "    }"
      ],
      "outputs": []
    },
    {
      "cell_type": "code",
      "execution_count": 1,
      "metadata": {
        "dotnet_interactive": {
          "language": "csharp"
        }
      },
      "source": [
        "[DataContract]\n",
        "public class AzureObjectDetection\n",
        "    {\n",
        "        [DataMember(Name = \"imageUrl\", IsRequired = true)]\n",
        "        public string ImageUrl { get; set; }\n",
        "\n",
        "        [DataMember(Name = \"imageDetails\", IsRequired = true)]\n",
        "        public AzureImageDetails ImageDetails { get; set; }\n",
        "\n",
        "        [DataMember(Name = \"label\", IsRequired = true)]\n",
        "        public AzureObjectDetectionLabel Label { get; set; }\n",
        "    }"
      ],
      "outputs": []
    },
    {
      "cell_type": "code",
      "execution_count": 1,
      "metadata": {
        "dotnet_interactive": {
          "language": "csharp"
        }
      },
      "source": [
        "public class PointsItem\n",
        "    {\n",
        "        [JsonProperty(\"x\")]\n",
        "        public double X { get; set; }\n",
        "\n",
        "        [JsonProperty(\"y\")]\n",
        "        public double Y { get; set; }\n",
        "    }"
      ],
      "outputs": []
    },
    {
      "cell_type": "code",
      "execution_count": 1,
      "metadata": {
        "dotnet_interactive": {
          "language": "csharp"
        }
      },
      "source": [
        "public class BoundingBox\n",
        "    {\n",
        "\n",
        "        [JsonProperty(\"height\")]\n",
        "        public float Height { get; set; }\n",
        "\n",
        "        [JsonProperty(\"width\")]\n",
        "        public float Width { get; set; }\n",
        "\n",
        "        [JsonProperty(\"left\")]\n",
        "        public float Left { get; set; }\n",
        "\n",
        "        [JsonProperty(\"top\")]\n",
        "        public float Top { get; set; }\n",
        "\n",
        "        public string Label { get; set; }\n",
        "\n",
        "        public override string ToString()\n",
        "        {\n",
        "            return $\"Label: {this.Label}, Top: {this.Top}, Left: {this.Left}, Width: {this.Width}, Height: {this.Height}\";\n",
        "        }\n",
        "    }"
      ],
      "outputs": []
    },
    {
      "cell_type": "code",
      "execution_count": 1,
      "metadata": {
        "dotnet_interactive": {
          "language": "csharp"
        }
      },
      "source": [
        "\n",
        "public class Size\n",
        "    {\n",
        "        [JsonProperty(\"width\")]\n",
        "        public int Width { get; set; }\n",
        "\n",
        "        [JsonProperty(\"height\")]\n",
        "        public int Height { get; set; }\n",
        "    }\n",
        "public class Asset\n",
        "    {\n",
        "\n",
        "        [JsonProperty(\"format\")]\n",
        "        public string Format { get; set; }\n",
        "\n",
        "        [JsonProperty(\"id\")]\n",
        "        public string Id { get; set; }\n",
        "\n",
        "        [JsonProperty(\"name\")]\n",
        "        public string Name { get; set; }\n",
        "\n",
        "        [JsonProperty(\"path\")]\n",
        "        public string Path { get; set; }\n",
        "\n",
        "        [JsonProperty(\"size\")]\n",
        "        public Size Size { get; set; }\n",
        "\n",
        "        [JsonProperty(\"state\")]\n",
        "        public int State { get; set; }\n",
        "\n",
        "        [JsonProperty(\"type\")]\n",
        "        public int Type { get; set; }\n",
        "    }"
      ],
      "outputs": []
    },
    {
      "cell_type": "code",
      "execution_count": 1,
      "metadata": {
        "dotnet_interactive": {
          "language": "csharp"
        }
      },
      "source": [
        "   \n",
        "   \n",
        "   public class RegionsItem\n",
        "    {\n",
        "        [JsonProperty(\"id\")]\n",
        "        public string Id { get; set; }\n",
        "\n",
        "        [JsonProperty(\"type\")]\n",
        "        public string Type { get; set; }\n",
        "\n",
        "        [JsonProperty(\"tags\")]\n",
        "        public List<string> Tags { get; set; }\n",
        "\n",
        "        [JsonProperty(\"boundingBox\")]\n",
        "        public BoundingBox BoundingBox { get; set; }\n",
        "\n",
        "        [JsonProperty(\"points\")]\n",
        "        public List<PointsItem> Points { get; set; }\n",
        "    }\n",
        "\n",
        "public class VideoSettings\n",
        "    {\n",
        "        [JsonProperty(\"frameExtractionRate\")]\n",
        "        public int FrameExtractionRate { get; set; }\n",
        "    }\n",
        "\n",
        "\n",
        "\tpublic class Root\n",
        "    {\n",
        "        [JsonProperty(\"asset\")]\n",
        "        public Asset Asset { get; set; }\n",
        "\n",
        "        [JsonProperty(\"regions\")]\n",
        "        public List<RegionsItem> Regions { get; set; }\n",
        "\n",
        "        [JsonProperty(\"version\")]\n",
        "        public string Version { get; set; }\n",
        "    }\n",
        "\n",
        "\t\n",
        "        \n",
        "\n",
        "\tpublic class ActiveLearningSettings\n",
        "    {\n",
        "        [JsonProperty(\"autoDetect\")]\n",
        "        public string AutoDetect { get; set; }\n",
        "\n",
        "        [JsonProperty(\"predictTag\")]\n",
        "        public string PredictTag { get; set; }\n",
        "\n",
        "        [JsonProperty(\"modelPathType\")]\n",
        "        public string ModelPathType { get; set; }\n",
        "    }\n",
        "\n",
        "\tpublic class TagsItem\n",
        "    {\n",
        "        [JsonProperty(\"name\")]\n",
        "        public string Name { get; set; }\n",
        "\n",
        "        [JsonProperty(\"color\")]\n",
        "        public string Color { get; set; }\n",
        "    }\n",
        "\n",
        "public class VottJsonWrapper\n",
        "    {\n",
        "        [JsonProperty(\"name\")]\n",
        "        public string Name { get; set; }\n",
        "\n",
        "        [JsonProperty(\"securityToken\")]\n",
        "        public string SecurityToken { get; set; }\n",
        "\n",
        "        [JsonProperty(\"videoSettings\")]\n",
        "        public VideoSettings VideoSettings { get; set; }\n",
        "\n",
        "        [JsonProperty(\"tags\")]\n",
        "        public List<TagsItem> Tags { get; set; }\n",
        "\n",
        "        [JsonProperty(\"id\")]\n",
        "        public string ID { get; set; }\n",
        "\n",
        "        [JsonProperty(\"activeLearningSettings\")]\n",
        "        public ActiveLearningSettings ActiveLearningSettings { get; set; }\n",
        "\n",
        "        [JsonProperty(\"version\")]\n",
        "        public string Version { get; set; }\n",
        "\n",
        "        [JsonProperty(\"lastVisitedAssetId\")]\n",
        "        public string LastVisitedAssetId { get; set; }\n",
        "\n",
        "        [JsonProperty(\"assets\")]\n",
        "        public Dictionary<string, Root> Assets { get; set; }\n",
        "    }"
      ],
      "outputs": []
    },
    {
      "cell_type": "code",
      "execution_count": 1,
      "metadata": {
        "dotnet_interactive": {
          "language": "csharp"
        }
      },
      "source": [
        "        public static List<AzureObjectDetection> GetImageDataFromVott(string filePath)\n",
        "\t\t{\n",
        "\t\t\tVottJsonWrapper values;\n",
        "            using (StreamReader r = new StreamReader(filePath))\n",
        "            {\n",
        "                string json = r.ReadToEnd();\n",
        "                values = JsonConvert.DeserializeObject<VottJsonWrapper>(json);\n",
        "            }\n",
        "\t\t\tvar imageData = new List<AzureObjectDetection>();\n",
        "\t\t\tforeach (KeyValuePair<string, Root> entry in values.Assets)\n",
        "            {\n",
        "                foreach (var region in entry.Value.Regions)\n",
        "                {\n",
        "                    foreach (var tag in region.Tags)\n",
        "                    {\n",
        "                        // add each file path to the list\n",
        "                        var azureODImage = new AzureObjectDetection();\n",
        "                        azureODImage.ImageUrl = entry.Value.Asset.Path;\n",
        "\n",
        "                        var imageDetails = new AzureImageDetails()\n",
        "                        {\n",
        "                            Format = entry.Value.Asset.Format,\n",
        "                            Width = entry.Value.Asset.Size.Width,\n",
        "                            Height = entry.Value.Asset.Size.Height,\n",
        "                        };\n",
        "\n",
        "                        azureODImage.ImageDetails = imageDetails;\n",
        "\n",
        "                        // values are normalized to size of image. between 0 and 1.\n",
        "                        var imageLabel = new AzureObjectDetectionLabel()\n",
        "                        {\n",
        "                            Label = tag,\n",
        "                            TopX = region.BoundingBox.Left / entry.Value.Asset.Size.Width,\n",
        "                            TopY = region.BoundingBox.Top / entry.Value.Asset.Size.Height,\n",
        "                            BottomX = (region.BoundingBox.Left + region.BoundingBox.Width) / entry.Value.Asset.Size.Width,\n",
        "                            BottomY = (region.BoundingBox.Top + region.BoundingBox.Height) / entry.Value.Asset.Size.Height,\n",
        "                        };\n",
        "\n",
        "                        azureODImage.Label = imageLabel;\n",
        "                        imageData.Add(azureODImage);\n",
        "                    }\n",
        "                }\n",
        "            }\n",
        "\t\t\treturn imageData;\n",
        "\t\t}"
      ],
      "outputs": []
    },
    {
      "cell_type": "code",
      "execution_count": 1,
      "metadata": {
        "dotnet_interactive": {
          "language": "csharp"
        }
      },
      "source": [
        "var dataImage= GetImageDataFromVott(vottFilePath);"
      ],
      "outputs": []
    },
    {
      "cell_type": "markdown",
      "metadata": {},
      "source": [
        "## Azure storage setup"
      ]
    },
    {
      "cell_type": "markdown",
      "metadata": {},
      "source": [
        "### Configure your storage connection string"
      ]
    },
    {
      "cell_type": "code",
      "execution_count": 1,
      "metadata": {
        "dotnet_interactive": {
          "language": "csharp"
        }
      },
      "source": [
        "string connectionString = Environment.GetEnvironmentVariable(\"AZURE_STORAGE_CONNECTION_STRING\");\n",
        "  \n",
        "  //Create a BlobServiceClient object which will be used to create a container client\n",
        "  BlobServiceClient blobServiceClient = new BlobServiceClient(connectionString);\n",
        "  var allblobs = blobServiceClient.GetBlobContainers(BlobContainerTraits.Metadata, BlobContainerStates.System);\n",
        "\n",
        "  // Get workspaceblobstore.\n",
        "  var defaultBlob= allblobs.First(b=> b.Name.StartsWith(\"azureml-blobstore\")).Name;\n",
        "  var defaultContainer = blobServiceClient.GetBlobContainerClient(defaultBlob);\n",
        "\n",
        "  // This is the storage where artifacts stored.\n",
        "  var artifactBlob= allblobs.First(b=> b.Name.Equals(\"azureml\")).Name;\n",
        "  var artifactBlobContainer = blobServiceClient.GetBlobContainerClient(artifactBlob);"
      ],
      "outputs": []
    },
    {
      "cell_type": "markdown",
      "metadata": {},
      "source": [
        "### Login into Azure in powershell"
      ]
    },
    {
      "cell_type": "code",
      "execution_count": 1,
      "metadata": {
        "dotnet_interactive": {
          "language": "pwsh"
        }
      },
      "source": [
        "az login"
      ],
      "outputs": []
    },
    {
      "cell_type": "markdown",
      "metadata": {},
      "source": [
        "### Use Azure SDKs to call into AzureML"
      ]
    },
    {
      "cell_type": "code",
      "execution_count": 1,
      "metadata": {
        "dotnet_interactive": {
          "language": "csharp"
        }
      },
      "source": [
        "using Azure.ResourceManager;\n",
        "using Azure.ResourceManager.MachineLearning;\n",
        "using System;\n",
        "using System.Threading.Tasks;\n",
        "using Azure.Core;\n",
        "using Azure.ResourceManager;\n",
        "using Azure.ResourceManager.Resources;\n",
        "using Azure.Identity;\n",
        "using Azure.ResourceManager.MachineLearning.Models;\n",
        "using Azure;"
      ],
      "outputs": []
    },
    {
      "cell_type": "code",
      "execution_count": 1,
      "metadata": {
        "dotnet_interactive": {
          "language": "csharp"
        }
      },
      "source": [
        "var armClient = new ArmClient(new DefaultAzureCredential());\n",
        "var subscription = armClient.GetSubscriptions();"
      ],
      "outputs": []
    },
    {
      "cell_type": "markdown",
      "metadata": {},
      "source": [
        "### Select your subscription where you want to have machine learning oprations."
      ]
    },
    {
      "cell_type": "code",
      "execution_count": 1,
      "metadata": {
        "dotnet_interactive": {
          "language": "csharp"
        }
      },
      "source": [
        "var selectedSubscription = subscription.Where(sub => sub.Data.DisplayName == subscriptionName).First();\n",
        "var subId= selectedSubscription.Data.SubscriptionId;"
      ],
      "outputs": []
    },
    {
      "cell_type": "markdown",
      "metadata": {},
      "source": [
        "### Select your resource group."
      ]
    },
    {
      "cell_type": "code",
      "execution_count": 1,
      "metadata": {
        "dotnet_interactive": {
          "language": "csharp"
        }
      },
      "source": [
        "var resourceGroups = selectedSubscription.GetResourceGroups();\n",
        "var rg= resourceGroups.Where(r=> r.Data.Name == resourceGroupName).First();"
      ],
      "outputs": []
    },
    {
      "cell_type": "markdown",
      "metadata": {},
      "source": [
        "### Select your workspace."
      ]
    },
    {
      "cell_type": "code",
      "execution_count": 1,
      "metadata": {
        "dotnet_interactive": {
          "language": "csharp"
        }
      },
      "source": [
        "MachineLearningWorkspaceResource selectedWorkspace = await rg.GetMachineLearningWorkspaceAsync(workspaceName);"
      ],
      "outputs": []
    },
    {
      "cell_type": "markdown",
      "metadata": {},
      "source": [
        "### The following section generate jsonl file, mltable file and upload them with actual object images."
      ]
    },
    {
      "cell_type": "code",
      "execution_count": 1,
      "metadata": {
        "dotnet_interactive": {
          "language": "csharp"
        }
      },
      "source": [
        "public void  CreateObjectDetectionJsonlFile(List<AzureObjectDetection> imageData, string imageFolder, string filePath)\n",
        "        {\n",
        "\t\t\tvar imageDataForRemote = imageData.Select(x =>\n",
        "            {\n",
        "                var imageLocalPath = new Uri(x.ImageUrl).LocalPath;\n",
        "                var copy = new AzureObjectDetection();\n",
        "                copy.ImageDetails = x.ImageDetails;\n",
        "                copy.Label = x.Label;\n",
        "                copy.ImageUrl = Path.Combine(imageFolder, Path.GetFileName(imageLocalPath));\n",
        "                return copy;\n",
        "            });\n",
        "\n",
        "\t\t\t //To get the jsonl file format for new AutoML expectation https://docs.microsoft.com/en-us/azure/machine-learning/reference-automl-images-schema#object-detection.\n",
        "            var imagesGroupByUrl = imageDataForRemote.GroupBy(i => i.ImageUrl);\n",
        "            var imagesWithLables = new List<AzureObjectDetectionWithLabels>();\n",
        "            foreach (var image in imagesGroupByUrl)\n",
        "            {\n",
        "                var imageWithUrl = new AzureObjectDetectionWithLabels();\n",
        "                imageWithUrl.ImageUrl = $@\"azureml://subscriptions/{subId}/resourcegroups/{rg.Data.Name}/workspaces/{selectedWorkspace.Data.Name}/datastores/workspaceblobstore/paths/{image.Key.Replace(@\"\\\", \"/\")}\";\n",
        "                var images = image.Select(i => i);\n",
        "                AzureImageDetails detail = null;\n",
        "                foreach (var im in images)\n",
        "                {\n",
        "                    imageWithUrl.Labels.Add(im.Label);\n",
        "                    if (detail == null)\n",
        "                    {\n",
        "                        detail = im.ImageDetails;\n",
        "                    }\n",
        "                }\n",
        "\n",
        "                imageWithUrl.ImageDetails = detail;\n",
        "                imagesWithLables.Add(imageWithUrl);\n",
        "            }\n",
        "\n",
        "\t\t\tusing (var fileWritter = new StreamWriter(new FileStream(filePath, FileMode.Create)))\n",
        "            {\n",
        "\t\t\t\tforeach (var data in imagesWithLables)\n",
        "                {\n",
        "                    // flatten images\n",
        "                    fileWritter.WriteLine(JsonConvert.SerializeObject(data));\n",
        "                }\n",
        "            }\n",
        "\n",
        "\t\t}"
      ],
      "outputs": []
    },
    {
      "cell_type": "code",
      "execution_count": 1,
      "metadata": {
        "dotnet_interactive": {
          "language": "csharp"
        }
      },
      "source": [
        "public void CreateMlTableFile(string selectedFolderName, string mlTableFilePath, string jsonlFilePath)\n",
        "        {\n",
        "\n",
        "            try\n",
        "            {\n",
        "                using (var outFile = File.CreateText(mlTableFilePath))\n",
        "                {\n",
        "                    var jsonlFileName = Path.GetFileName(jsonlFilePath);\n",
        "                    var selectedFolder = selectedFolderName;\n",
        "                    var mlTableContent = $@\"paths:\n",
        "  - file: azureml://datastores/workspaceblobstore/paths/{selectedFolder}/{jsonlFileName}\n",
        "transformations:\n",
        "  - read_json_lines:\n",
        "        encoding: utf8\n",
        "        invalid_lines: error\n",
        "        include_path_column: false\n",
        "  - convert_column_types:\n",
        "      - columns: image_url\n",
        "        column_type: stream_info\";\n",
        "                    outFile.Write(mlTableContent);\n",
        "                }\n",
        "            }\n",
        "            catch (Exception e)\n",
        "            {\n",
        "                throw new Exception(e.Message);\n",
        "\n",
        "            }\n",
        "        }"
      ],
      "outputs": []
    },
    {
      "cell_type": "code",
      "execution_count": 1,
      "metadata": {
        "dotnet_interactive": {
          "language": "csharp"
        }
      },
      "source": [
        " var imageFolder = new DirectoryInfo(Path.GetDirectoryName(vottFilePath)).Name;\n",
        "CreateObjectDetectionJsonlFile(dataImage,imageFolder,jsonlFilePath);\n",
        "CreateMlTableFile(imageFolder ,mLTableFilePath, jsonlFilePath);"
      ],
      "outputs": []
    },
    {
      "cell_type": "markdown",
      "metadata": {},
      "source": [
        "### Upload images "
      ]
    },
    {
      "cell_type": "code",
      "execution_count": 1,
      "metadata": {
        "dotnet_interactive": {
          "language": "csharp"
        }
      },
      "source": [
        "foreach(var data in dataImage)\n",
        "{\n",
        "\tBlobClient blobClientImage = defaultContainer.GetBlobClient(\"./\"+ imageFolder + \"/\" + Path.GetFileName(new Uri(data.ImageUrl).LocalPath));\n",
        "\n",
        "\tawait blobClientImage.UploadAsync(new Uri(data.ImageUrl).LocalPath,true);\n",
        "}"
      ],
      "outputs": []
    },
    {
      "cell_type": "markdown",
      "metadata": {},
      "source": [
        "### Upload jsonl file"
      ]
    },
    {
      "cell_type": "code",
      "execution_count": 1,
      "metadata": {
        "dotnet_interactive": {
          "language": "csharp"
        }
      },
      "source": [
        "BlobClient blobClientImage = defaultContainer.GetBlobClient(\"./\"+ imageFolder + \"/\" + Path.GetFileName(jsonlFilePath));\n",
        "\n",
        "await blobClientImage.UploadAsync(jsonlFilePath,true);"
      ],
      "outputs": []
    },
    {
      "cell_type": "markdown",
      "metadata": {},
      "source": [
        "### Upload MlTable"
      ]
    },
    {
      "cell_type": "code",
      "execution_count": 1,
      "metadata": {
        "dotnet_interactive": {
          "language": "csharp"
        }
      },
      "source": [
        "BlobClient blobClientImage = defaultContainer.GetBlobClient(\"./\"+ imageFolder + \"/TrainMlTable/\" +  Path.GetFileName(mLTableFilePath));\n",
        "\n",
        "await blobClientImage.UploadAsync(mLTableFilePath,true);"
      ],
      "outputs": []
    },
    {
      "cell_type": "markdown",
      "metadata": {},
      "source": [
        "## Start Azure AutoML run."
      ]
    },
    {
      "cell_type": "code",
      "execution_count": 1,
      "metadata": {
        "dotnet_interactive": {
          "language": "csharp"
        }
      },
      "source": [
        "public static async Task<MachineLearningJobResource> StartObjectDetectionAutoMlJobAsync(\n",
        "    MachineLearningWorkspaceResource ws,\n",
        "    string experimentName,\n",
        "    string computeId,\n",
        "    string selectedFolder, \n",
        "    string jobId)\n",
        "{\n",
        "    // Upload the MLTable in the default workspaceblobstore.\n",
        "    var trainData = new MLTableJobInput(new Uri($\"azureml://datastores/workspaceblobstore/paths/{selectedFolder}/TrainMlTable\"))\n",
        "    {\n",
        "        Mode = InputDeliveryMode.ReadOnlyMount,\n",
        "        Description = \"Train data\",\n",
        "    };\n",
        "\n",
        "    var trainingData = new TrainingDataSettings(trainData);\n",
        "    ImageVerticalDataSettings dataSettings = new ImageVerticalDataSettings(\"label\", trainingData);\n",
        "    ImageLimitSettings limitSettings = new ImageLimitSettings()\n",
        "    {\n",
        "        Timeout = TimeSpan.FromHours(168)\n",
        "    };\n",
        "\n",
        "    AutoMLVertical taskDetails = new ImageObjectDetection(dataSettings, limitSettings)\n",
        "    {\n",
        "        LogVerbosity = LogVerbosity.Info,\n",
        "        PrimaryMetric = ObjectDetectionPrimaryMetrics.MeanAveragePrecision,\n",
        "    };\n",
        "\n",
        "    var autoMLJob = new AutoMLJob(taskDetails)\n",
        "    {\n",
        "        ExperimentName = experimentName,\n",
        "        DisplayName = \"AutoMLJob ImageObjectDetection-\" + Guid.NewGuid().ToString(\"n\").Substring(0, 6),\n",
        "        IsArchived = false,\n",
        "        ComputeId = computeId,\n",
        "        Resources = new ResourceConfiguration\n",
        "        {\n",
        "            InstanceCount = 3,\n",
        "        },\n",
        "        Properties = new Dictionary<string, string>\n",
        "            {\n",
        "                { \"property-name\", \"property-value\" },\n",
        "            },\n",
        "        Tags = new Dictionary<string, string>\n",
        "            {\n",
        "                { \"tag-name\", \"tag-value\" },\n",
        "            },\n",
        "        EnvironmentVariables = new Dictionary<string, string>()\n",
        "            {\n",
        "                { \"env-var\", \"env-var-value\" }\n",
        "            },\n",
        "        Description = \"This is a description of test AutoMLJob for ImageObjectDetection from Ml.net Model Builder\",\n",
        "    };\n",
        "\n",
        "    MachineLearningJobData MachineLearningJobData = new MachineLearningJobData(autoMLJob);\n",
        "    ArmOperation<MachineLearningJobResource> jobOperation = await ws.GetMachineLearningJobs().CreateOrUpdateAsync(WaitUntil.Completed, jobId, MachineLearningJobData);\n",
        "    MachineLearningJobResource jobResource = jobOperation.Value;\n",
        "    return jobResource;\n",
        "}"
      ],
      "outputs": []
    },
    {
      "cell_type": "code",
      "execution_count": 1,
      "metadata": {
        "dotnet_interactive": {
          "language": "csharp"
        }
      },
      "source": [
        "string jobId =RandomString(15, true);\n",
        "var computeId = $\"/subscriptions/{subId}/resourceGroups/{rg.Data.Name}/providers/Microsoft.MachineLearningServices/workspaces/{selectedWorkspace.Data.Name}/computes/{computeName}\";\n",
        " var automlJob= StartObjectDetectionAutoMlJobAsync(selectedWorkspace, experimentName, computeId,imageFolder, jobId);"
      ],
      "outputs": []
    },
    {
      "cell_type": "markdown",
      "metadata": {},
      "source": [
        "## Downlaod Artifact"
      ]
    },
    {
      "cell_type": "code",
      "execution_count": 1,
      "metadata": {
        "dotnet_interactive": {
          "language": "csharp"
        }
      },
      "source": [
        "var labelArtifact= artifactBlobContainer.GetBlobClient($\"./ExperimentRun/dcid.{automlJob.Data.Name}_HD_0/train_artifacts/labels.json\");\n",
        "var onnxModelArtifact= artifactBlobContainer.GetBlobClient($\"./ExperimentRun/dcid.{automlJob.Data.Name}_HD_0/train_artifacts/model.onnx\");\n",
        "\n",
        "await labelArtifact.DownloadToAsync(labelFilePath);\n",
        "await onnxModelArtifact.DownloadToAsync(onnxFilePath);"
      ],
      "outputs": []
    },
    {
      "cell_type": "markdown",
      "metadata": {},
      "source": [
        "## Consume Model"
      ]
    },
    {
      "cell_type": "code",
      "execution_count": 1,
      "metadata": {
        "dotnet_interactive": {
          "language": "csharp"
        }
      },
      "source": [
        "using Microsoft.ML.Transforms.Image;\n",
        "using System.Drawing;\n",
        "using Microsoft.ML.Data;\n",
        "using Microsoft.ML;\n",
        "using Newtonsoft.Json;\n",
        "using Microsoft.ML.AutoML.CodeGen;"
      ],
      "outputs": []
    },
    {
      "cell_type": "code",
      "execution_count": 1,
      "metadata": {
        "dotnet_interactive": {
          "language": "csharp"
        }
      },
      "source": [
        "public class ObjectDetectionBitmapModelInput\n",
        "{\n",
        "    [ColumnName(\"Label\")]\n",
        "    [LoadColumn(0)]\n",
        "    public string Label { get; set; }\n",
        "\n",
        "    [ColumnName(\"ImageSource\"), LoadColumn(1), ImageType(800, 600)]\n",
        "    public Bitmap ImageSource { get; set; }\n",
        "}"
      ],
      "outputs": []
    },
    {
      "cell_type": "code",
      "execution_count": 1,
      "metadata": {
        "dotnet_interactive": {
          "language": "csharp"
        }
      },
      "source": [
        "var mlContext = new MLContext();"
      ],
      "outputs": []
    },
    {
      "cell_type": "code",
      "execution_count": 1,
      "metadata": {
        "dotnet_interactive": {
          "language": "csharp"
        }
      },
      "source": [
        "\n",
        "            // Define scoring pipeline\n",
        "            var pipeline = mlContext.Transforms.ResizeImages(outputColumnName: \"input\", imageWidth: 800, imageHeight: 600, inputColumnName: \"ImageSource\", resizing: ImageResizingEstimator.ResizingKind.Fill)\n",
        "                            .Append(mlContext.Transforms.ExtractPixels(outputColumnName: \"input\", inputColumnName: \"input\"))\n",
        "                            .Append(mlContext.Transforms.ApplyOnnxModel(modelFile: onnxFilePath));\n",
        "\n",
        "            var trainData = mlContext.Data.LoadFromEnumerable(new[] {new ObjectDetectionBitmapModelInput()});\n",
        "            var bestModel = pipeline.Fit(trainData);\n",
        "            var inputScema= trainData.Schema;"
      ],
      "outputs": []
    },
    {
      "cell_type": "code",
      "execution_count": 1,
      "metadata": {
        "dotnet_interactive": {
          "language": "csharp"
        }
      },
      "source": [
        "mlContext.Model.Save(bestModel,trainData.Schema,modelFilePath);"
      ],
      "outputs": []
    },
    {
      "cell_type": "markdown",
      "metadata": {},
      "source": [
        "# Create PredictionEngine"
      ]
    },
    {
      "cell_type": "code",
      "execution_count": 1,
      "metadata": {
        "dotnet_interactive": {
          "language": "csharp"
        }
      },
      "source": [
        "\n",
        "// Define model input and output.\n",
        "\n",
        "// Get lebels map.\n",
        "static string json= File.ReadAllText(labelFilePath, Encoding.UTF8);\n",
        "static string[] labels = JsonConvert.DeserializeObject<string[]>(json);\n",
        "public class ModelInput\n",
        "        {\n",
        "            [ColumnName(@\"Label\")]\n",
        "            public string Label { get; set; }\n",
        "\n",
        "            [ColumnName(@\"ImageSource\")]\n",
        "            [Microsoft.ML.Transforms.Image.ImageType(800, 600)]\n",
        "            public System.Drawing.Bitmap ImageSource { get; set; }\n",
        "\n",
        "        }\n",
        "\n",
        "        public class ModelOutput\n",
        "        {\n",
        "            public string[] ObjectTags = labels;\n",
        "\n",
        "            [ColumnName(\"boxes\")]\n",
        "            public float[] Boxes { get; set; } = new float[0];\n",
        "\n",
        "            [ColumnName(\"labels\")]\n",
        "            public long[] Labels { get; set; } = new long[0];\n",
        "\n",
        "            [ColumnName(\"scores\")]\n",
        "            public float[] Scores { get; set; } = new float[0];\n",
        "\n",
        "            public BoundingBox[] BoundingBoxes\n",
        "            {\n",
        "                get\n",
        "                {\n",
        "                    var boundingBoxes = Enumerable.Range(0, this.Labels.Length)\n",
        "                              .Select((index) =>\n",
        "                              {\n",
        "                                  var boxes = this.Boxes;\n",
        "                                  var scores = this.Scores;\n",
        "                                  var labels = this.Labels;\n",
        "\n",
        "                                  return new BoundingBox()\n",
        "                                  {\n",
        "                                      Left = boxes[index * 4],\n",
        "                                      Top = boxes[(index * 4) + 1],\n",
        "                                      Right = boxes[(index * 4) + 2],\n",
        "                                      Bottom = boxes[(index * 4) + 3],\n",
        "                                      Score = scores[index],\n",
        "                                      Label = this.ObjectTags[labels[index]],\n",
        "                                  };\n",
        "                              }).ToArray();\n",
        "                    return boundingBoxes;\n",
        "                }\n",
        "            }\n",
        "            public override string ToString()\n",
        "            {\n",
        "                return string.Join(\"\\n\", this.BoundingBoxes.Select(x => x.ToString()));\n",
        "            }\n",
        "\n",
        "            public class BoundingBox\n",
        "            {\n",
        "                public float Top;\n",
        "\n",
        "                public float Left;\n",
        "\n",
        "                public float Right;\n",
        "\n",
        "                public float Bottom;\n",
        "\n",
        "                public string Label;\n",
        "\n",
        "                public float Score;\n",
        "\n",
        "                public override string ToString()\n",
        "                {\n",
        "                    return $\"Top: {this.Top}, Left: {this.Left}, Right: {this.Right}, Bottom: {this.Bottom}, Label: {this.Label}, Score: {this.Score}\";\n",
        "                }\n",
        "            }\n",
        "        }\n",
        "\n",
        "\n",
        "        "
      ],
      "outputs": []
    },
    {
      "cell_type": "code",
      "execution_count": 1,
      "metadata": {
        "dotnet_interactive": {
          "language": "csharp"
        }
      },
      "source": [
        "public PredictionEngine<ModelInput, ModelOutput> CreatePredictEngine()\n",
        "{\n",
        "    ITransformer mlModel = mlContext.Model.Load(modelFilePath, out var _);\n",
        "    return  mlContext.Model.CreatePredictionEngine<ModelInput, ModelOutput>(mlModel);\n",
        " }\n",
        "\n",
        "readonly Lazy<PredictionEngine<ModelInput, ModelOutput>> PredictEngine = new Lazy<PredictionEngine<ModelInput, ModelOutput>>(() => CreatePredictEngine(), true);\n",
        "var predEngine = PredictEngine.Value;"
      ],
      "outputs": []
    },
    {
      "cell_type": "markdown",
      "metadata": {},
      "source": [
        "# Try it out"
      ]
    },
    {
      "cell_type": "code",
      "execution_count": 1,
      "metadata": {
        "dotnet_interactive": {
          "language": "csharp"
        }
      },
      "source": [
        "var image = (Bitmap)System.Drawing.Image.FromFile(@\"C:\\Users\\zehailem\\Desktop\\StopSignSmall\\free-to-use-sounds-Vkt3uDeDkdg-unsplash.jpg\");\n",
        "\n",
        "\n",
        "ModelInput sampleInput= new ModelInput()\n",
        "{\n",
        "  ImageSource = image,\n",
        "};\n",
        "ModelOutput predictionResult = predEngine.Predict(sampleInput);\n",
        "Console.WriteLine(\"\\n\\nPredicted Boxes:\\n\");\n",
        "Console.WriteLine(predictionResult);"
      ],
      "outputs": []
    }
  ],
  "metadata": {
    "kernelspec": {
      "display_name": ".NET (C#)",
      "language": "C#",
      "name": ".net-csharp"
    },
    "language_info": {
      "file_extension": ".cs",
      "mimetype": "text/x-csharp",
      "name": "C#",
      "pygments_lexer": "csharp",
      "version": "8.0"
    }
  },
  "nbformat": 4,
  "nbformat_minor": 4
}