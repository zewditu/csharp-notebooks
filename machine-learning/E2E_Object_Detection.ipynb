{
  "cells": [
    {
      "cell_type": "markdown",
      "metadata": {},
      "source": [
        "# This notebook is under active development ..."
      ]
    },
    {
      "cell_type": "markdown",
      "metadata": {},
      "source": [
        "##  Objecte -Detection: sample Notebook using Azur SDK.NET"
      ]
    },
    {
      "cell_type": "code",
      "execution_count": 1,
      "metadata": {
        "dotnet_interactive": {
          "language": "csharp"
        }
      },
      "source": [
        "#r \"nuget: Azure.ResourceManager.MachineLearning, 1.0.0-beta.1\"\n",
        "#r \"nuget: Azure.Identity, 1.6.0\"\n",
        "#r \"nuget: Azure.Security.KeyVault.Secrets, 4.3.0\"\n",
        "#r \"nuget:Azure.Storage.Blobs, 12.12.0\"\n",
        "#r \"Microsoft.VisualBasic\"\n",
        "\n",
        "#r \"nuget: Microsoft.ML, 2.0.0-preview.22314.3\"\n",
        "#r \"nuget: Microsoft.ML.AutoML, 0.20.0-preview.22314.3\"\n",
        "#r \"nuget: Newtonsoft.Json, 13.0.1\""
      ],
      "outputs": [
        {
          "output_type": "execute_result",
          "data": {
            "text/html": [
              "<div><div></div><div></div><div><strong>Installed Packages</strong><ul><li><span>Azure.Identity, 1.6.0</span></li><li><span>Azure.ResourceManager.MachineLearning, 1.0.0-beta.1</span></li><li><span>Azure.Security.KeyVault.Secrets, 4.3.0</span></li><li><span>Azure.Storage.Blobs, 12.12.0</span></li><li><span>Microsoft.ML, 2.0.0-preview.22314.3</span></li><li><span>Microsoft.ML.AutoML, 0.20.0-preview.22314.3</span></li><li><span>Newtonsoft.Json, 13.0.1</span></li></ul></div></div>"
            ]
          },
          "execution_count": 1,
          "metadata": {}
        }
      ]
    },
    {
      "cell_type": "code",
      "execution_count": 1,
      "metadata": {
        "dotnet_interactive": {
          "language": "csharp"
        }
      },
      "source": [
        "// Import common usings.\n",
        "using Azure.Storage.Blobs;\n",
        "using Azure.Storage.Blobs.Models;\n",
        "using System.IO;\n",
        "using Microsoft.VisualBasic;\n",
        "using Microsoft.VisualBasic.FileIO;\n",
        "using Newtonsoft.Json;\n",
        "using System.Runtime.Serialization;"
      ],
      "outputs": []
    },
    {
      "cell_type": "markdown",
      "metadata": {},
      "source": [
        "### The following section define file paths, azure resources and other utilities to complete this machine learning opration in this notebook."
      ]
    },
    {
      "cell_type": "code",
      "execution_count": 1,
      "metadata": {
        "dotnet_interactive": {
          "language": "csharp"
        }
      },
      "source": [
        "// Generate job id.\n",
        "public string RandomString(int size, bool lowerCase)\n",
        "        {\n",
        "            StringBuilder builder = new StringBuilder();\n",
        "            Random random = new Random();\n",
        "            char ch;\n",
        "            for (int i = 0; i < size; i++)\n",
        "            {\n",
        "                ch = Convert.ToChar(Convert.ToInt32(Math.Floor(26 * random.NextDouble() + 65)));\n",
        "                builder.Append(ch);\n",
        "            }\n",
        "            if (lowerCase)\n",
        "                return builder.ToString().ToLower();\n",
        "            return builder.ToString();\n",
        "        }\n",
        "\n",
        "\n",
        "// File paths.\n",
        "var vottFilePath= @\"C:\\Users\\zehailem\\Desktop\\StopSignSeptember\\Stopsept\\StopSign-export.json\";\n",
        "\n",
        "var tempPath = Path.GetTempPath();\n",
        "var guid = Guid.NewGuid().ToString();\n",
        "var modelName=\"MlModel\";\n",
        "var jsonlFilePath = Path.Combine(tempPath, $\"{guid}-{modelName}.AzureObjectDetectionTrainData.jsonl\");\n",
        "\n",
        "var MlTableFolder = Directory.CreateDirectory(Path.Combine(tempPath, \"TrainMlTable\"));\n",
        "var mLTableFilePath = Path.Combine(MlTableFolder.FullName, \"MLTable.\");\n",
        " static string labelFilePath= @\"Artifact/lables.json\";\n",
        "var onnxFilePath= @\"Artifact/onnxmodel.onnx\";\n",
        "static string modelFilePath = @\"Artifact/Model.zip\";\n",
        "\n",
        "// Azure resources Names.\n",
        "string subscriptionName =\"ML.NET Model Builder Demo\";\n",
        "string resourceGroupName = \"ZewdPortlaExcercise\";\n",
        "string workspaceName =\"BikeRentalWorkSpace\";\n",
        "string computeName =\"AugustComp\";\n",
        "var experimentName = \"ObjectDetectionNotebook\";\n",
        ""
      ],
      "outputs": []
    },
    {
      "cell_type": "markdown",
      "metadata": {},
      "source": [
        "The following sections define data contracts to  serilaize and diserilize values from vott generaged json. To learn more https://docs.microsoft.com/en-us/dotnet/machine-learning/how-to-guides/label-images-for-object-detection-using-vott"
      ]
    },
    {
      "cell_type": "code",
      "execution_count": 1,
      "metadata": {
        "dotnet_interactive": {
          "language": "csharp"
        }
      },
      "source": [
        "[DataContract]\n",
        "public class AzureObjectDetectionLabel\n",
        "    {\n",
        "        [DataMember(Name =\"label\", IsRequired = true)]\n",
        "        public string Label { get; set; }\n",
        "\n",
        "        [DataMember(Name =\"topX\", IsRequired = true)]\n",
        "        public float TopX { get; set; }\n",
        "\n",
        "        [DataMember(Name = \"topY\", IsRequired = true)]\n",
        "        public float TopY { get; set; }\n",
        "\n",
        "        [DataMember(Name = \"bottomX\", IsRequired = true)]\n",
        "        public float BottomX { get; set; }\n",
        "\n",
        "        [DataMember(Name = \"bottomY\", IsRequired = true)]\n",
        "        public float BottomY { get; set; }\n",
        "\n",
        "        [DataMember(Name = \"isCrowd\", IsRequired = false)]\n",
        "        public bool IsCrowd { get; set; }\n",
        "\n",
        "    }"
      ],
      "outputs": []
    },
    {
      "cell_type": "code",
      "execution_count": 1,
      "metadata": {
        "dotnet_interactive": {
          "language": "csharp"
        }
      },
      "source": [
        "[DataContract]\n",
        "public class AzureImageDetails\n",
        "    {\n",
        "        [DataMember(Name =\"format\", IsRequired = true)]\n",
        "        public string Format { get; set; }\n",
        "\n",
        "        [DataMember(Name = \"width\", IsRequired = true)]\n",
        "        public string WidthPX\n",
        "        {\n",
        "            get => this.Width + \"px\";\n",
        "        }\n",
        "\n",
        "        [DataMember(Name = \"height\", IsRequired = true)]\n",
        "        public string HeightPX\n",
        "        {\n",
        "            get => this.Height + \"px\";\n",
        "        }\n",
        "\n",
        "        public int Width { get; set; }\n",
        "\n",
        "        public int Height { get; set; }\n",
        "    }"
      ],
      "outputs": []
    },
    {
      "cell_type": "code",
      "execution_count": 1,
      "metadata": {
        "dotnet_interactive": {
          "language": "csharp"
        }
      },
      "source": [
        "[DataContract]\n",
        "public class AzureObjectDetectionWithLabels\n",
        "    {\n",
        "        [DataMember(Name = \"image_url\", IsRequired = true)]\n",
        "        public string ImageUrl { get; set; }\n",
        "\n",
        "        [DataMember(Name = \"image_details\", IsRequired = true)]\n",
        "        public AzureImageDetails ImageDetails { get; set; }\n",
        "\n",
        "        [DataMember(Name = \"label\", IsRequired = true)]\n",
        "        public List<AzureObjectDetectionLabel> Labels { get; set; } = new List<AzureObjectDetectionLabel>();\n",
        "    }"
      ],
      "outputs": []
    },
    {
      "cell_type": "code",
      "execution_count": 1,
      "metadata": {
        "dotnet_interactive": {
          "language": "csharp"
        }
      },
      "source": [
        "[DataContract]\n",
        "public class AzureObjectDetection\n",
        "    {\n",
        "        [DataMember(Name = \"imageUrl\", IsRequired = true)]\n",
        "        public string ImageUrl { get; set; }\n",
        "\n",
        "        [DataMember(Name = \"imageDetails\", IsRequired = true)]\n",
        "        public AzureImageDetails ImageDetails { get; set; }\n",
        "\n",
        "        [DataMember(Name = \"label\", IsRequired = true)]\n",
        "        public AzureObjectDetectionLabel Label { get; set; }\n",
        "    }"
      ],
      "outputs": []
    },
    {
      "cell_type": "code",
      "execution_count": 1,
      "metadata": {
        "dotnet_interactive": {
          "language": "csharp"
        }
      },
      "source": [
        "public class PointsItem\n",
        "    {\n",
        "        [JsonProperty(\"x\")]\n",
        "        public double X { get; set; }\n",
        "\n",
        "        [JsonProperty(\"y\")]\n",
        "        public double Y { get; set; }\n",
        "    }"
      ],
      "outputs": []
    },
    {
      "cell_type": "code",
      "execution_count": 1,
      "metadata": {
        "dotnet_interactive": {
          "language": "csharp"
        }
      },
      "source": [
        "public class BoundingBox\n",
        "    {\n",
        "\n",
        "        [JsonProperty(\"height\")]\n",
        "        public float Height { get; set; }\n",
        "\n",
        "        [JsonProperty(\"width\")]\n",
        "        public float Width { get; set; }\n",
        "\n",
        "        [JsonProperty(\"left\")]\n",
        "        public float Left { get; set; }\n",
        "\n",
        "        [JsonProperty(\"top\")]\n",
        "        public float Top { get; set; }\n",
        "\n",
        "        public string Label { get; set; }\n",
        "\n",
        "        public override string ToString()\n",
        "        {\n",
        "            return $\"Label: {this.Label}, Top: {this.Top}, Left: {this.Left}, Width: {this.Width}, Height: {this.Height}\";\n",
        "        }\n",
        "    }"
      ],
      "outputs": []
    },
    {
      "cell_type": "code",
      "execution_count": 1,
      "metadata": {
        "dotnet_interactive": {
          "language": "csharp"
        }
      },
      "source": [
        "\n",
        "public class Size\n",
        "    {\n",
        "        [JsonProperty(\"width\")]\n",
        "        public int Width { get; set; }\n",
        "\n",
        "        [JsonProperty(\"height\")]\n",
        "        public int Height { get; set; }\n",
        "    }\n",
        "public class Asset\n",
        "    {\n",
        "\n",
        "        [JsonProperty(\"format\")]\n",
        "        public string Format { get; set; }\n",
        "\n",
        "        [JsonProperty(\"id\")]\n",
        "        public string Id { get; set; }\n",
        "\n",
        "        [JsonProperty(\"name\")]\n",
        "        public string Name { get; set; }\n",
        "\n",
        "        [JsonProperty(\"path\")]\n",
        "        public string Path { get; set; }\n",
        "\n",
        "        [JsonProperty(\"size\")]\n",
        "        public Size Size { get; set; }\n",
        "\n",
        "        [JsonProperty(\"state\")]\n",
        "        public int State { get; set; }\n",
        "\n",
        "        [JsonProperty(\"type\")]\n",
        "        public int Type { get; set; }\n",
        "    }"
      ],
      "outputs": []
    },
    {
      "cell_type": "code",
      "execution_count": 1,
      "metadata": {
        "dotnet_interactive": {
          "language": "csharp"
        }
      },
      "source": [
        "   \n",
        "   \n",
        "   public class RegionsItem\n",
        "    {\n",
        "        [JsonProperty(\"id\")]\n",
        "        public string Id { get; set; }\n",
        "\n",
        "        [JsonProperty(\"type\")]\n",
        "        public string Type { get; set; }\n",
        "\n",
        "        [JsonProperty(\"tags\")]\n",
        "        public List<string> Tags { get; set; }\n",
        "\n",
        "        [JsonProperty(\"boundingBox\")]\n",
        "        public BoundingBox BoundingBox { get; set; }\n",
        "\n",
        "        [JsonProperty(\"points\")]\n",
        "        public List<PointsItem> Points { get; set; }\n",
        "    }\n",
        "\n",
        "public class VideoSettings\n",
        "    {\n",
        "        [JsonProperty(\"frameExtractionRate\")]\n",
        "        public int FrameExtractionRate { get; set; }\n",
        "    }\n",
        "\n",
        "\n",
        "\tpublic class Root\n",
        "    {\n",
        "        [JsonProperty(\"asset\")]\n",
        "        public Asset Asset { get; set; }\n",
        "\n",
        "        [JsonProperty(\"regions\")]\n",
        "        public List<RegionsItem> Regions { get; set; }\n",
        "\n",
        "        [JsonProperty(\"version\")]\n",
        "        public string Version { get; set; }\n",
        "    }\n",
        "\n",
        "\t\n",
        "        \n",
        "\n",
        "\tpublic class ActiveLearningSettings\n",
        "    {\n",
        "        [JsonProperty(\"autoDetect\")]\n",
        "        public string AutoDetect { get; set; }\n",
        "\n",
        "        [JsonProperty(\"predictTag\")]\n",
        "        public string PredictTag { get; set; }\n",
        "\n",
        "        [JsonProperty(\"modelPathType\")]\n",
        "        public string ModelPathType { get; set; }\n",
        "    }\n",
        "\n",
        "\tpublic class TagsItem\n",
        "    {\n",
        "        [JsonProperty(\"name\")]\n",
        "        public string Name { get; set; }\n",
        "\n",
        "        [JsonProperty(\"color\")]\n",
        "        public string Color { get; set; }\n",
        "    }\n",
        "\n",
        "public class VottJsonWrapper\n",
        "    {\n",
        "        [JsonProperty(\"name\")]\n",
        "        public string Name { get; set; }\n",
        "\n",
        "        [JsonProperty(\"securityToken\")]\n",
        "        public string SecurityToken { get; set; }\n",
        "\n",
        "        [JsonProperty(\"videoSettings\")]\n",
        "        public VideoSettings VideoSettings { get; set; }\n",
        "\n",
        "        [JsonProperty(\"tags\")]\n",
        "        public List<TagsItem> Tags { get; set; }\n",
        "\n",
        "        [JsonProperty(\"id\")]\n",
        "        public string ID { get; set; }\n",
        "\n",
        "        [JsonProperty(\"activeLearningSettings\")]\n",
        "        public ActiveLearningSettings ActiveLearningSettings { get; set; }\n",
        "\n",
        "        [JsonProperty(\"version\")]\n",
        "        public string Version { get; set; }\n",
        "\n",
        "        [JsonProperty(\"lastVisitedAssetId\")]\n",
        "        public string LastVisitedAssetId { get; set; }\n",
        "\n",
        "        [JsonProperty(\"assets\")]\n",
        "        public Dictionary<string, Root> Assets { get; set; }\n",
        "    }"
      ],
      "outputs": []
    },
    {
      "cell_type": "code",
      "execution_count": 1,
      "metadata": {
        "dotnet_interactive": {
          "language": "csharp"
        }
      },
      "source": [
        "        public static List<AzureObjectDetection> GetImageDataFromVott(string filePath)\n",
        "\t\t{\n",
        "\t\t\tVottJsonWrapper values;\n",
        "            using (StreamReader r = new StreamReader(filePath))\n",
        "            {\n",
        "                string json = r.ReadToEnd();\n",
        "                values = JsonConvert.DeserializeObject<VottJsonWrapper>(json);\n",
        "            }\n",
        "\t\t\tvar imageData = new List<AzureObjectDetection>();\n",
        "\t\t\tforeach (KeyValuePair<string, Root> entry in values.Assets)\n",
        "            {\n",
        "                foreach (var region in entry.Value.Regions)\n",
        "                {\n",
        "                    foreach (var tag in region.Tags)\n",
        "                    {\n",
        "                        // add each file path to the list\n",
        "                        var azureODImage = new AzureObjectDetection();\n",
        "                        azureODImage.ImageUrl = entry.Value.Asset.Path;\n",
        "\n",
        "                        var imageDetails = new AzureImageDetails()\n",
        "                        {\n",
        "                            Format = entry.Value.Asset.Format,\n",
        "                            Width = entry.Value.Asset.Size.Width,\n",
        "                            Height = entry.Value.Asset.Size.Height,\n",
        "                        };\n",
        "\n",
        "                        azureODImage.ImageDetails = imageDetails;\n",
        "\n",
        "                        // values are normalized to size of image. between 0 and 1.\n",
        "                        var imageLabel = new AzureObjectDetectionLabel()\n",
        "                        {\n",
        "                            Label = tag,\n",
        "                            TopX = region.BoundingBox.Left / entry.Value.Asset.Size.Width,\n",
        "                            TopY = region.BoundingBox.Top / entry.Value.Asset.Size.Height,\n",
        "                            BottomX = (region.BoundingBox.Left + region.BoundingBox.Width) / entry.Value.Asset.Size.Width,\n",
        "                            BottomY = (region.BoundingBox.Top + region.BoundingBox.Height) / entry.Value.Asset.Size.Height,\n",
        "                        };\n",
        "\n",
        "                        azureODImage.Label = imageLabel;\n",
        "                        imageData.Add(azureODImage);\n",
        "                    }\n",
        "                }\n",
        "            }\n",
        "\t\t\treturn imageData;\n",
        "\t\t}"
      ],
      "outputs": []
    },
    {
      "cell_type": "code",
      "execution_count": 1,
      "metadata": {
        "dotnet_interactive": {
          "language": "csharp"
        }
      },
      "source": [
        "var dataImage= GetImageDataFromVott(vottFilePath);"
      ],
      "outputs": []
    },
    {
      "cell_type": "markdown",
      "metadata": {},
      "source": [
        "## Azure storage setup"
      ]
    },
    {
      "cell_type": "markdown",
      "metadata": {},
      "source": [
        "### Configure your storage connection string"
      ]
    },
    {
      "cell_type": "code",
      "execution_count": 1,
      "metadata": {
        "dotnet_interactive": {
          "language": "csharp"
        }
      },
      "source": [
        "string connectionString = Environment.GetEnvironmentVariable(\"AZURE_STORAGE_CONNECTION_STRING\");\n",
        "  \n",
        "  //Create a BlobServiceClient object which will be used to create a container client\n",
        "  BlobServiceClient blobServiceClient = new BlobServiceClient(connectionString);\n",
        "  var allblobs = blobServiceClient.GetBlobContainers(BlobContainerTraits.Metadata, BlobContainerStates.System);\n",
        "\n",
        "  // Get workspaceblobstore.\n",
        "  var defaultBlob= allblobs.First(b=> b.Name.StartsWith(\"azureml-blobstore\")).Name;\n",
        "  var defaultContainer = blobServiceClient.GetBlobContainerClient(defaultBlob);\n",
        "\n",
        "  // This is the storage where artifacts stored.\n",
        "  var artifactBlob= allblobs.First(b=> b.Name.Equals(\"azureml\")).Name;\n",
        "  var artifactBlobContainer = blobServiceClient.GetBlobContainerClient(artifactBlob);"
      ],
      "outputs": []
    },
    {
      "cell_type": "markdown",
      "metadata": {},
      "source": [
        "### Login into Azure in powershell"
      ]
    },
    {
      "cell_type": "code",
      "execution_count": 1,
      "metadata": {
        "dotnet_interactive": {
          "language": "pwsh"
        }
      },
      "source": [
        "az login"
      ],
      "outputs": [
        {
          "output_type": "stream",
          "name": "stdout",
          "text": "WARNING: A web browser has been opened at https://login.microsoftonline.com/organizations/oauth2/v2.0/authorize. Please continue the login in the web browser. If no web browser is available or if the web browser fails to open, use device code flow with `az login --use-device-code`.\n[\n  {\n    \"cloudName\": \"AzureCloud\",\n    \"homeTenantId\": \"72f988bf-86f1-41af-91ab-2d7cd011db47\",\n    \"id\": \"2f96ae42-240b-4228-bafa-26d8b7b03bf3\",\n    \"isDefault\": false,\n    \"managedByTenants\": [],\n    \"name\": \"MSFT-CloudMS-CPT-PRD-01\",\n    \"state\": \"Enabled\",\n    \"tenantId\": \"72f988bf-86f1-41af-91ab-2d7cd011db47\",\n    \"user\": {\n      \"name\": \"zehailem@microsoft.com\",\n      \"type\": \"user\"\n    }\n  },\n  {\n    \"cloudName\": \"AzureCloud\",\n    \"homeTenantId\": \"72f988bf-86f1-41af-91ab-2d7cd011db47\",\n    \"id\": \"8c4b5b03-3b24-4ed0-91f5-a703cd91b412\",\n    \"isDefault\": true,\n    \"managedByTenants\": [],\n    \"name\": \"Cosmos_C&E_Azure_AzureEngineeringSystems_100200\",\n    \"state\": \"Enabled\",\n    \"tenantId\": \"72f988bf-86f1-41af-91ab-2d7cd011db47\",\n    \"user\": {\n      \"name\": \"zehailem@microsoft.com\",\n      \"type\": \"user\"\n    }\n  },\n  {\n    \"cloudName\": \"AzureCloud\",\n    \"homeTenantId\": \"72f988bf-86f1-41af-91ab-2d7cd011db47\",\n    \"id\": \"40dd91f6-ead1-40dd-a291-2ae37717981b\",\n    \"isDefault\": false,\n    \"managedByTenants\": [],\n    \"name\": \"varung poc\",\n    \"state\": \"Enabled\",\n    \"tenantId\": \"72f988bf-86f1-41af-91ab-2d7cd011db47\",\n    \"user\": {\n      \"name\": \"zehailem@microsoft.com\",\n      \"type\": \"user\"\n    }\n  },\n  {\n    \"cloudName\": \"AzureCloud\",\n    \"homeTenantId\": \"72f988bf-86f1-41af-91ab-2d7cd011db47\",\n    \"id\": \"381b38e9-9840-4719-a5a0-61d9585e1e91\",\n    \"isDefault\": false,\n    \"managedByTenants\": [],\n    \"name\": \"AutoML Demo\",\n    \"state\": \"Enabled\",\n    \"tenantId\": \"72f988bf-86f1-41af-91ab-2d7cd011db47\",\n    \"user\": {\n      \"name\": \"zehailem@microsoft.com\",\n      \"type\": \"user\"\n    }\n  },\n  {\n    \"cloudName\": \"AzureCloud\",\n    \"homeTenantId\": \"72f988bf-86f1-41af-91ab-2d7cd011db47\",\n    \"id\": \"bac420ed-c6fc-4a05-8ac1-8c0c52da1d6e\",\n    \"isDefault\": false,\n    \"managedByTenants\": [],\n    \"name\": \"IDEAs MS Reporting\",\n    \"state\": \"Enabled\",\n    \"tenantId\": \"72f988bf-86f1-41af-91ab-2d7cd011db47\",\n    \"user\": {\n      \"name\": \"zehailem@microsoft.com\",\n      \"type\": \"user\"\n    }\n  },\n  {\n    \"cloudName\": \"AzureCloud\",\n    \"homeTenantId\": \"72f988bf-86f1-41af-91ab-2d7cd011db47\",\n    \"id\": \"dd4c2dac-db51-4cd0-b734-684c6cc360c1\",\n    \"isDefault\": false,\n    \"managedByTenants\": [\n      {\n        \"tenantId\": \"2f4a9838-26b7-47ee-be60-ccc1fdec5953\"\n      }\n    ],\n    \"name\": \"Geneva Analytics Intelligent Data Test (Corp)\",\n    \"state\": \"Enabled\",\n    \"tenantId\": \"72f988bf-86f1-41af-91ab-2d7cd011db47\",\n    \"user\": {\n      \"name\": \"zehailem@microsoft.com\",\n      \"type\": \"user\"\n    }\n  },\n  {\n    \"cloudName\": \"AzureCloud\",\n    \"homeTenantId\": \"72f988bf-86f1-41af-91ab-2d7cd011db47\",\n    \"id\": \"7fd08dcc-a653-4b0f-8f8c-4dac889fdda4\",\n    \"isDefault\": false,\n    \"managedByTenants\": [\n      {\n        \"tenantId\": \"2f4a9838-26b7-47ee-be60-ccc1fdec5953\"\n      }\n    ],\n    \"name\": \"Code generate Test and Infra\",\n    \"state\": \"Enabled\",\n    \"tenantId\": \"72f988bf-86f1-41af-91ab-2d7cd011db47\",\n    \"user\": {\n      \"name\": \"zehailem@microsoft.com\",\n      \"type\": \"user\"\n    }\n  },\n  {\n    \"cloudName\": \"AzureCloud\",\n    \"homeTenantId\": \"72f988bf-86f1-41af-91ab-2d7cd011db47\",\n    \"id\": \"e686ef8c-d35d-4e9b-92f8-caaaa7948c0a\",\n    \"isDefault\": false,\n    \"managedByTenants\": [],\n    \"name\": \"Applied Sciences Group Dev\",\n    \"state\": \"Enabled\",\n    \"tenantId\": \"72f988bf-86f1-41af-91ab-2d7cd011db47\",\n    \"user\": {\n      \"name\": \"zehailem@microsoft.com\",\n      \"type\": \"user\"\n    }\n  },\n  {\n    \"cloudName\": \"AzureCloud\",\n    \"homeTenantId\": \"72f988bf-86f1-41af-91ab-2d7cd011db47\",\n    \"id\": \"0012ca50-c773-43b2-80e2-f24b6377145c\",\n    \"isDefault\": false,\n    \"managedByTenants\": [],\n    \"name\": \"EdgeOS_IoT_CBL-Mariner_DevTest\",\n    \"state\": \"Enabled\",\n    \"tenantId\": \"72f988bf-86f1-41af-91ab-2d7cd011db47\",\n    \"user\": {\n      \"name\": \"zehailem@microsoft.com\",\n      \"type\": \"user\"\n    }\n  },\n  {\n    \"cloudName\": \"AzureCloud\",\n    \"homeTenantId\": \"72f988bf-86f1-41af-91ab-2d7cd011db47\",\n    \"id\": \"c3547baf-332f-4d8f-96bd-0659b39c7a59\",\n    \"isDefault\": false,\n    \"managedByTenants\": [],\n    \"name\": \"MSAI Search Research\",\n    \"state\": \"Enabled\",\n    \"tenantId\": \"72f988bf-86f1-41af-91ab-2d7cd011db47\",\n    \"user\": {\n      \"name\": \"zehailem@microsoft.com\",\n      \"type\": \"user\"\n    }\n  },\n  {\n    \"cloudName\": \"AzureCloud\",\n    \"homeTenantId\": \"72f988bf-86f1-41af-91ab-2d7cd011db47\",\n    \"id\": \"407ff5d7-0113-4c5c-8534-f5cfb09298f5\",\n    \"isDefault\": false,\n    \"managedByTenants\": [],\n    \"name\": \"msteams.nonprod.pub.msft.msts\",\n    \"state\": \"Enabled\",\n    \"tenantId\": \"72f988bf-86f1-41af-91ab-2d7cd011db47\",\n    \"user\": {\n      \"name\": \"zehailem@microsoft.com\",\n      \"type\": \"user\"\n    }\n  },\n  {\n    \"cloudName\": \"AzureCloud\",\n    \"homeTenantId\": \"72f988bf-86f1-41af-91ab-2d7cd011db47\",\n    \"id\": \"588845a8-a4a7-4ab1-83a1-1388452e8c0c\",\n    \"isDefault\": false,\n    \"managedByTenants\": [],\n    \"name\": \"Saidi Dev and Test Subscription\",\n    \"state\": \"Enabled\",\n    \"tenantId\": \"72f988bf-86f1-41af-91ab-2d7cd011db47\",\n    \"user\": {\n      \"name\": \"zehailem@microsoft.com\",\n      \"type\": \"user\"\n    }\n  },\n  {\n    \"cloudName\": \"AzureCloud\",\n    \"homeTenantId\": \"72f988bf-86f1-41af-91ab-2d7cd011db47\",\n    \"id\": \"8ef80208-601f-4c83-802e-751d211745f9\",\n    \"isDefault\": false,\n    \"managedByTenants\": [\n      {\n        \"tenantId\": \"33e01921-4d64-4f8c-a055-5bdaffd5e33d\"\n      }\n    ],\n    \"name\": \"CloudAnalytics_Prod1\",\n    \"state\": \"Enabled\",\n    \"tenantId\": \"72f988bf-86f1-41af-91ab-2d7cd011db47\",\n    \"user\": {\n      \"name\": \"zehailem@microsoft.com\",\n      \"type\": \"user\"\n    }\n  },\n  {\n    \"cloudName\": \"AzureCloud\",\n    \"homeTenantId\": \"72f988bf-86f1-41af-91ab-2d7cd011db47\",\n    \"id\": \"dad45786-32e5-4ef3-b90e-8e0838fbadb6\",\n    \"isDefault\": false,\n    \"managedByTenants\": [],\n    \"name\": \"AnE.ExP.Production\",\n    \"state\": \"Enabled\",\n    \"tenantId\": \"72f988bf-86f1-41af-91ab-2d7cd011db47\",\n    \"user\": {\n      \"name\": \"zehailem@microsoft.com\",\n      \"type\": \"user\"\n    }\n  },\n  {\n    \"cloudName\": \"AzureCloud\",\n    \"homeTenantId\": \"72f988bf-86f1-41af-91ab-2d7cd011db47\",\n    \"id\": \"f30787b9-82a8-4e74-bb0f-f12d64ecc496\",\n    \"isDefault\": false,\n    \"managedByTenants\": [],\n    \"name\": \"Edge ExpInsights\",\n    \"state\": \"Enabled\",\n    \"tenantId\": \"72f988bf-86f1-41af-91ab-2d7cd011db47\",\n    \"user\": {\n      \"name\": \"zehailem@microsoft.com\",\n      \"type\": \"user\"\n    }\n  },\n  {\n    \"cloudName\": \"AzureCloud\",\n    \"homeTenantId\": \"72f988bf-86f1-41af-91ab-2d7cd011db47\",\n    \"id\": \"67be8e7b-e151-4c02-8498-53105ffa17a2\",\n    \"isDefault\": false,\n    \"managedByTenants\": [],\n    \"name\": \"EdgeCI\",\n    \"state\": \"Enabled\",\n    \"tenantId\": \"72f988bf-86f1-41af-91ab-2d7cd011db47\",\n    \"user\": {\n      \"name\": \"zehailem@microsoft.com\",\n      \"type\": \"user\"\n    }\n  },\n  {\n    \"cloudName\": \"AzureCloud\",\n    \"homeTenantId\": \"72f988bf-86f1-41af-91ab-2d7cd011db47\",\n    \"id\": \"5bcfd686-e65f-4381-94bd-44521888475c\",\n    \"isDefault\": false,\n    \"managedByTenants\": [],\n    \"name\": \"Epic-Edge-ES-MacLab-Dev\",\n    \"state\": \"Enabled\",\n    \"tenantId\": \"72f988bf-86f1-41af-91ab-2d7cd011db47\",\n    \"user\": {\n      \"name\": \"zehailem@microsoft.com\",\n      \"type\": \"user\"\n    }\n  },\n  {\n    \"cloudName\": \"AzureCloud\",\n    \"homeTenantId\": \"72f988bf-86f1-41af-91ab-2d7cd011db47\",\n    \"id\": \"82ee6f14-d8a6-4395-97cd-4db8118bbe1b\",\n    \"isDefault\": false,\n    \"managedByTenants\": [],\n    \"name\": \"Epic-Edge-ES-MacLab-Prod\",\n    \"state\": \"Enabled\",\n    \"tenantId\": \"72f988bf-86f1-41af-91ab-2d7cd011db47\",\n    \"user\": {\n      \"name\": \"zehailem@microsoft.com\",\n      \"type\": \"user\"\n    }\n  },\n  {\n    \"cloudName\": \"AzureCloud\",\n    \"homeTenantId\": \"72f988bf-86f1-41af-91ab-2d7cd011db47\",\n    \"id\": \"333e402a-65a0-45a9-8e23-867ca146c290\",\n    \"isDefault\": false,\n    \"managedByTenants\": [],\n    \"name\": \"Epic-Edge-ES-ReproVMLab\",\n    \"state\": \"Enabled\",\n    \"tenantId\": \"72f988bf-86f1-41af-91ab-2d7cd011db47\",\n    \"user\": {\n      \"name\": \"zehailem@microsoft.com\",\n      \"type\": \"user\"\n    }\n  },\n  {\n    \"cloudName\": \"AzureCloud\",\n    \"homeTenantId\": \"72f988bf-86f1-41af-91ab-2d7cd011db47\",\n    \"id\": \"482e1993-01d4-4b16-bff4-1866929176a1\",\n    \"isDefault\": false,\n    \"managedByTenants\": [],\n    \"name\": \"Epic-Edge-ES-MergeResolver\",\n    \"state\": \"Enabled\",\n    \"tenantId\": \"72f988bf-86f1-41af-91ab-2d7cd011db47\",\n    \"user\": {\n      \"name\": \"zehailem@microsoft.com\",\n      \"type\": \"user\"\n    }\n  },\n  {\n    \"cloudName\": \"AzureCloud\",\n    \"homeTenantId\": \"72f988bf-86f1-41af-91ab-2d7cd011db47\",\n    \"id\": \"26596251-f2f3-4e31-8a1b-f0754e32ad73\",\n    \"isDefault\": false,\n    \"managedByTenants\": [],\n    \"name\": \"Epic-Edge-ES-SrcPub-Prod\",\n    \"state\": \"Enabled\",\n    \"tenantId\": \"72f988bf-86f1-41af-91ab-2d7cd011db47\",\n    \"user\": {\n      \"name\": \"zehailem@microsoft.com\",\n      \"type\": \"user\"\n    }\n  },\n  {\n    \"cloudName\": \"AzureCloud\",\n    \"homeTenantId\": \"72f988bf-86f1-41af-91ab-2d7cd011db47\",\n    \"id\": \"932f56c7-38bf-4254-a4aa-50dbf02c55d9\",\n    \"isDefault\": false,\n    \"managedByTenants\": [],\n    \"name\": \"Cosmos_WDG_Universal Store_Data & Engineering Services_100066\",\n    \"state\": \"Enabled\",\n    \"tenantId\": \"72f988bf-86f1-41af-91ab-2d7cd011db47\",\n    \"user\": {\n      \"name\": \"zehailem@microsoft.com\",\n      \"type\": \"user\"\n    }\n  },\n  {\n    \"cloudName\": \"AzureCloud\",\n    \"homeTenantId\": \"72f988bf-86f1-41af-91ab-2d7cd011db47\",\n    \"id\": \"e01de573-132a-42ac-9ee2-f9dea9dd2717\",\n    \"isDefault\": false,\n    \"managedByTenants\": [],\n    \"name\": \"Cosmos_WDG_Core_BnB_100292\",\n    \"state\": \"Enabled\",\n    \"tenantId\": \"72f988bf-86f1-41af-91ab-2d7cd011db47\",\n    \"user\": {\n      \"name\": \"zehailem@microsoft.com\",\n      \"type\": \"user\"\n    }\n  },\n  {\n    \"cloudName\": \"AzureCloud\",\n    \"homeTenantId\": \"72f988bf-86f1-41af-91ab-2d7cd011db47\",\n    \"id\": \"4115b323-4aac-47f4-bb13-22af265ed58b\",\n    \"isDefault\": false,\n    \"managedByTenants\": [],\n    \"name\": \"ES-ESP-AS-vPack-Nonprod\",\n    \"state\": \"Enabled\",\n    \"tenantId\": \"72f988bf-86f1-41af-91ab-2d7cd011db47\",\n    \"user\": {\n      \"name\": \"zehailem@microsoft.com\",\n      \"type\": \"user\"\n    }\n  },\n  {\n    \"cloudName\": \"AzureCloud\",\n    \"homeTenantId\": \"72f988bf-86f1-41af-91ab-2d7cd011db47\",\n    \"id\": \"83a9a25f-d922-437f-bc5b-79f3b6827513\",\n    \"isDefault\": false,\n    \"managedByTenants\": [],\n    \"name\": \"ES-ESP-AS-vPack-Prod\",\n    \"state\": \"Enabled\",\n    \"tenantId\": \"72f988bf-86f1-41af-91ab-2d7cd011db47\",\n    \"user\": {\n      \"name\": \"zehailem@microsoft.com\",\n      \"type\": \"user\"\n    }\n  },\n  {\n    \"cloudName\": \"AzureCloud\",\n    \"homeTenantId\": \"72f988bf-86f1-41af-91ab-2d7cd011db47\",\n    \"id\": \"9ec1d932-0f3f-486c-acc6-e7d78b358f9b\",\n    \"isDefault\": false,\n    \"managedByTenants\": [\n      {\n        \"tenantId\": \"2f4a9838-26b7-47ee-be60-ccc1fdec5953\"\n      }\n    ],\n    \"name\": \"TScience\",\n    \"state\": \"Enabled\",\n    \"tenantId\": \"72f988bf-86f1-41af-91ab-2d7cd011db47\",\n    \"user\": {\n      \"name\": \"zehailem@microsoft.com\",\n      \"type\": \"user\"\n    }\n  },\n  {\n    \"cloudName\": \"AzureCloud\",\n    \"homeTenantId\": \"72f988bf-86f1-41af-91ab-2d7cd011db47\",\n    \"id\": \"8c2c7b23-848d-40fe-b817-690d79ad9dfd\",\n    \"isDefault\": false,\n    \"managedByTenants\": [\n      {\n        \"tenantId\": \"2f4a9838-26b7-47ee-be60-ccc1fdec5953\"\n      }\n    ],\n    \"name\": \"Purview_Demo_PartnerSandbox\",\n    \"state\": \"Enabled\",\n    \"tenantId\": \"72f988bf-86f1-41af-91ab-2d7cd011db47\",\n    \"user\": {\n      \"name\": \"zehailem@microsoft.com\",\n      \"type\": \"user\"\n    }\n  },\n  {\n    \"cloudName\": \"AzureCloud\",\n    \"homeTenantId\": \"72f988bf-86f1-41af-91ab-2d7cd011db47\",\n    \"id\": \"29de2cfc-f00a-43bb-bdc8-3108795bd282\",\n    \"isDefault\": false,\n    \"managedByTenants\": [],\n    \"name\": \"MSFT-Modern Device-Modern Mgmt-Imaging00\",\n    \"state\": \"Enabled\",\n    \"tenantId\": \"72f988bf-86f1-41af-91ab-2d7cd011db47\",\n    \"user\": {\n      \"name\": \"zehailem@microsoft.com\",\n      \"type\": \"user\"\n    }\n  },\n  {\n    \"cloudName\": \"AzureCloud\",\n    \"homeTenantId\": \"72f988bf-86f1-41af-91ab-2d7cd011db47\",\n    \"id\": \"7afc2d66-d5b4-4e84-970b-a782e3e4cc46\",\n    \"isDefault\": false,\n    \"managedByTenants\": [],\n    \"name\": \"CLOUDBUILD-ANYBUILD-POC-01\",\n    \"state\": \"Enabled\",\n    \"tenantId\": \"72f988bf-86f1-41af-91ab-2d7cd011db47\",\n    \"user\": {\n      \"name\": \"zehailem@microsoft.com\",\n      \"type\": \"user\"\n    }\n  },\n  {\n    \"cloudName\": \"AzureCloud\",\n    \"homeTenantId\": \"72f988bf-86f1-41af-91ab-2d7cd011db47\",\n    \"id\": \"7d411d23-59e5-4e2e-8566-4f59de4544f2\",\n    \"isDefault\": false,\n    \"managedByTenants\": [],\n    \"name\": \"ER: CE Security Service Operation Center\",\n    \"state\": \"Enabled\",\n    \"tenantId\": \"72f988bf-86f1-41af-91ab-2d7cd011db47\",\n    \"user\": {\n      \"name\": \"zehailem@microsoft.com\",\n      \"type\": \"user\"\n    }\n  },\n  {\n    \"cloudName\": \"AzureCloud\",\n    \"homeTenantId\": \"72f988bf-86f1-41af-91ab-2d7cd011db47\",\n    \"id\": \"0368444d-756e-4ca6-9ecd-e964248c227a\",\n    \"isDefault\": false,\n    \"managedByTenants\": [],\n    \"name\": \"AnyBuild-InternalProdClusters\",\n    \"state\": \"Enabled\",\n    \"tenantId\": \"72f988bf-86f1-41af-91ab-2d7cd011db47\",\n    \"user\": {\n      \"name\": \"zehailem@microsoft.com\",\n      \"type\": \"user\"\n    }\n  },\n  {\n    \"cloudName\": \"AzureCloud\",\n    \"homeTenantId\": \"72f988bf-86f1-41af-91ab-2d7cd011db47\",\n    \"id\": \"cb9eb375-570a-4e75-b83a-77dd942bee9f\",\n    \"isDefault\": false,\n    \"managedByTenants\": [],\n    \"name\": \"PPP_ACBB_ATS_AKS_NonProd\",\n    \"state\": \"Enabled\",\n    \"tenantId\": \"72f988bf-86f1-41af-91ab-2d7cd011db47\",\n    \"user\": {\n      \"name\": \"zehailem@microsoft.com\",\n      \"type\": \"user\"\n    }\n  },\n  {\n    \"cloudName\": \"AzureCloud\",\n    \"homeTenantId\": \"72f988bf-86f1-41af-91ab-2d7cd011db47\",\n    \"id\": \"009d0e9f-a42a-470e-b315-82496a88cf0f\",\n    \"isDefault\": false,\n    \"managedByTenants\": [],\n    \"name\": \"Weather and Finance INT\",\n    \"state\": \"Enabled\",\n    \"tenantId\": \"72f988bf-86f1-41af-91ab-2d7cd011db47\",\n    \"user\": {\n      \"name\": \"zehailem@microsoft.com\",\n      \"type\": \"user\"\n    }\n  },\n  {\n    \"cloudName\": \"AzureCloud\",\n    \"homeTenantId\": \"72f988bf-86f1-41af-91ab-2d7cd011db47\",\n    \"id\": \"6f53185c-ea09-4fc3-9075-318dec805303\",\n    \"isDefault\": false,\n    \"managedByTenants\": [\n      {\n        \"tenantId\": \"33e01921-4d64-4f8c-a055-5bdaffd5e33d\"\n      }\n    ],\n    \"name\": \"RPSAAS CSM Dogfood\",\n    \"state\": \"Enabled\",\n    \"tenantId\": \"72f988bf-86f1-41af-91ab-2d7cd011db47\",\n    \"user\": {\n      \"name\": \"zehailem@microsoft.com\",\n      \"type\": \"user\"\n    }\n  },\n  {\n    \"cloudName\": \"AzureCloud\",\n    \"homeTenantId\": \"72f988bf-86f1-41af-91ab-2d7cd011db47\",\n    \"id\": \"dcbdac96-1896-478d-89fc-c95ed43f4596\",\n    \"isDefault\": false,\n    \"managedByTenants\": [],\n    \"name\": \"pgattikoppul Projects\",\n    \"state\": \"Enabled\",\n    \"tenantId\": \"72f988bf-86f1-41af-91ab-2d7cd011db47\",\n    \"user\": {\n      \"name\": \"zehailem@microsoft.com\",\n      \"type\": \"user\"\n    }\n  },\n  {\n    \"cloudName\": \"AzureCloud\",\n    \"homeTenantId\": \"72f988bf-86f1-41af-91ab-2d7cd011db47\",\n    \"id\": \"3b2fda06-3ef6-454a-9dd5-994a548243e9\",\n    \"isDefault\": false,\n    \"managedByTenants\": [\n      {\n        \"tenantId\": \"2f4a9838-26b7-47ee-be60-ccc1fdec5953\"\n      }\n    ],\n    \"name\": \"Microsoft Employee & Executive Communications\",\n    \"state\": \"Enabled\",\n    \"tenantId\": \"72f988bf-86f1-41af-91ab-2d7cd011db47\",\n    \"user\": {\n      \"name\": \"zehailem@microsoft.com\",\n      \"type\": \"user\"\n    }\n  },\n  {\n    \"cloudName\": \"AzureCloud\",\n    \"homeTenantId\": \"72f988bf-86f1-41af-91ab-2d7cd011db47\",\n    \"id\": \"227531a4-d775-435b-a878-963ed8d0d18f\",\n    \"isDefault\": false,\n    \"managedByTenants\": [\n      {\n        \"tenantId\": \"cdc5aeea-15c5-4db6-b079-fcadd2505dc2\"\n      },\n      {\n        \"tenantId\": \"2f4a9838-26b7-47ee-be60-ccc1fdec5953\"\n      }\n    ],\n    \"name\": \"Skype-1ES-DEV\",\n    \"state\": \"Enabled\",\n    \"tenantId\": \"72f988bf-86f1-41af-91ab-2d7cd011db47\",\n    \"user\": {\n      \"name\": \"zehailem@microsoft.com\",\n      \"type\": \"user\"\n    }\n  },\n  {\n    \"cloudName\": \"AzureCloud\",\n    \"homeTenantId\": \"72f988bf-86f1-41af-91ab-2d7cd011db47\",\n    \"id\": \"432a7068-99ae-4975-ad38-d96b71172cdf\",\n    \"isDefault\": false,\n    \"managedByTenants\": [],\n    \"name\": \"Azure Profiler - Testing\",\n    \"state\": \"Enabled\",\n    \"tenantId\": \"72f988bf-86f1-41af-91ab-2d7cd011db47\",\n    \"user\": {\n      \"name\": \"zehailem@microsoft.com\",\n      \"type\": \"user\"\n    }\n  },\n  {\n    \"cloudName\": \"AzureCloud\",\n    \"homeTenantId\": \"72f988bf-86f1-41af-91ab-2d7cd011db47\",\n    \"id\": \"0cd6095b-b140-41ec-ad1d-32f2f7493386\",\n    \"isDefault\": false,\n    \"managedByTenants\": [],\n    \"name\": \"1IS - One Integration Service - NonProduction\",\n    \"state\": \"Enabled\",\n    \"tenantId\": \"72f988bf-86f1-41af-91ab-2d7cd011db47\",\n    \"user\": {\n      \"name\": \"zehailem@microsoft.com\",\n      \"type\": \"user\"\n    }\n  },\n  {\n    \"cloudName\": \"AzureCloud\",\n    \"homeTenantId\": \"72f988bf-86f1-41af-91ab-2d7cd011db47\",\n    \"id\": \"a4fc5514-21a9-4296-bfaf-5c7ee7fa35d1\",\n    \"isDefault\": false,\n    \"managedByTenants\": [],\n    \"name\": \"Dotnet Engineering services\",\n    \"state\": \"Enabled\",\n    \"tenantId\": \"72f988bf-86f1-41af-91ab-2d7cd011db47\",\n    \"user\": {\n      \"name\": \"zehailem@microsoft.com\",\n      \"type\": \"user\"\n    }\n  },\n  {\n    \"cloudName\": \"AzureCloud\",\n    \"homeTenantId\": \"72f988bf-86f1-41af-91ab-2d7cd011db47\",\n    \"id\": \"b68b2f37-1d37-4c2f-80f6-c23de402792e\",\n    \"isDefault\": false,\n    \"managedByTenants\": [\n      {\n        \"tenantId\": \"2f4a9838-26b7-47ee-be60-ccc1fdec5953\"\n      }\n    ],\n    \"name\": \"Semantic Machines R&D Subscription 1\",\n    \"state\": \"Enabled\",\n    \"tenantId\": \"72f988bf-86f1-41af-91ab-2d7cd011db47\",\n    \"user\": {\n      \"name\": \"zehailem@microsoft.com\",\n      \"type\": \"user\"\n    }\n  },\n  {\n    \"cloudName\": \"AzureCloud\",\n    \"homeTenantId\": \"72f988bf-86f1-41af-91ab-2d7cd011db47\",\n    \"id\": \"e4e06275-58d1-4081-8f1b-be12462eb701\",\n    \"isDefault\": false,\n    \"managedByTenants\": [\n      {\n        \"tenantId\": \"2f4a9838-26b7-47ee-be60-ccc1fdec5953\"\n      }\n    ],\n    \"name\": \"CSR-CUSPOC-MST-Hiramfleitas\",\n    \"state\": \"Enabled\",\n    \"tenantId\": \"72f988bf-86f1-41af-91ab-2d7cd011db47\",\n    \"user\": {\n      \"name\": \"zehailem@microsoft.com\",\n      \"type\": \"user\"\n    }\n  },\n  {\n    \"cloudName\": \"AzureCloud\",\n    \"homeTenantId\": \"72f988bf-86f1-41af-91ab-2d7cd011db47\",\n    \"id\": \"3cd95ff9-ac62-4b5c-8240-0cd046687ea0\",\n    \"isDefault\": false,\n    \"managedByTenants\": [],\n    \"name\": \"Internal App Insights Resources for Perflens\",\n    \"state\": \"Enabled\",\n    \"tenantId\": \"72f988bf-86f1-41af-91ab-2d7cd011db47\",\n    \"user\": {\n      \"name\": \"zehailem@microsoft.com\",\n      \"type\": \"user\"\n    }\n  },\n  {\n    \"cloudName\": \"AzureCloud\",\n    \"homeTenantId\": \"72f988bf-86f1-41af-91ab-2d7cd011db47\",\n    \"id\": \"bbe41737-1ade-44df-8e33-217f11b8b452\",\n    \"isDefault\": false,\n    \"managedByTenants\": [],\n    \"name\": \"Service Profiler Development\",\n    \"state\": \"Enabled\",\n    \"tenantId\": \"72f988bf-86f1-41af-91ab-2d7cd011db47\",\n    \"user\": {\n      \"name\": \"zehailem@microsoft.com\",\n      \"type\": \"user\"\n    }\n  },\n  {\n    \"cloudName\": \"AzureCloud\",\n    \"homeTenantId\": \"72f988bf-86f1-41af-91ab-2d7cd011db47\",\n    \"id\": \"1163fbbe-27e7-4b0f-8466-195fe5417043\",\n    \"isDefault\": false,\n    \"managedByTenants\": [\n      {\n        \"tenantId\": \"2f4a9838-26b7-47ee-be60-ccc1fdec5953\"\n      }\n    ],\n    \"name\": \"Python_AI_Tools_PM_Team_Sub\",\n    \"state\": \"Enabled\",\n    \"tenantId\": \"72f988bf-86f1-41af-91ab-2d7cd011db47\",\n    \"user\": {\n      \"name\": \"zehailem@microsoft.com\",\n      \"type\": \"user\"\n    }\n  },\n  {\n    \"cloudName\": \"AzureCloud\",\n    \"homeTenantId\": \"72f988bf-86f1-41af-91ab-2d7cd011db47\",\n    \"id\": \"8ae1955e-f748-4273-a507-10159ba940f9\",\n    \"isDefault\": false,\n    \"managedByTenants\": [],\n    \"name\": \"SPO-CyrusB\",\n    \"state\": \"Enabled\",\n    \"tenantId\": \"72f988bf-86f1-41af-91ab-2d7cd011db47\",\n    \"user\": {\n      \"name\": \"zehailem@microsoft.com\",\n      \"type\": \"user\"\n    }\n  },\n  {\n    \"cloudName\": \"AzureCloud\",\n    \"homeTenantId\": \"72f988bf-86f1-41af-91ab-2d7cd011db47\",\n    \"id\": \"9b4236fe-df75-4289-bf00-40628ed41fd9\",\n    \"isDefault\": false,\n    \"managedByTenants\": [],\n    \"name\": \"Customer Confidence Proof of Concepts\",\n    \"state\": \"Enabled\",\n    \"tenantId\": \"72f988bf-86f1-41af-91ab-2d7cd011db47\",\n    \"user\": {\n      \"name\": \"zehailem@microsoft.com\",\n      \"type\": \"user\"\n    }\n  },\n  {\n    \"cloudName\": \"AzureCloud\",\n    \"homeTenantId\": \"72f988bf-86f1-41af-91ab-2d7cd011db47\",\n    \"id\": \"d21a0e9f-5e29-4b39-8ba5-0e189bc5fe2d\",\n    \"isDefault\": false,\n    \"managedByTenants\": [],\n    \"name\": \"Edge DevTools Client\",\n    \"state\": \"Enabled\",\n    \"tenantId\": \"72f988bf-86f1-41af-91ab-2d7cd011db47\",\n    \"user\": {\n      \"name\": \"zehailem@microsoft.com\",\n      \"type\": \"user\"\n    }\n  },\n  {\n    \"cloudName\": \"AzureCloud\",\n    \"homeTenantId\": \"72f988bf-86f1-41af-91ab-2d7cd011db47\",\n    \"id\": \"13723929-6644-4060-a50a-cc38ebc5e8b1\",\n    \"isDefault\": false,\n    \"managedByTenants\": [],\n    \"name\": \"LinuxMdsd Test\",\n    \"state\": \"Enabled\",\n    \"tenantId\": \"72f988bf-86f1-41af-91ab-2d7cd011db47\",\n    \"user\": {\n      \"name\": \"zehailem@microsoft.com\",\n      \"type\": \"user\"\n    }\n  },\n  {\n    \"cloudName\": \"AzureCloud\",\n    \"homeTenantId\": \"72f988bf-86f1-41af-91ab-2d7cd011db47\",\n    \"id\": \"10d0b7c6-9243-4713-91a9-2730375d3a1b\",\n    \"isDefault\": false,\n    \"managedByTenants\": [\n      {\n        \"tenantId\": \"2f4a9838-26b7-47ee-be60-ccc1fdec5953\"\n      }\n    ],\n    \"name\": \"ASutton Subscription\",\n    \"state\": \"Enabled\",\n    \"tenantId\": \"72f988bf-86f1-41af-91ab-2d7cd011db47\",\n    \"user\": {\n      \"name\": \"zehailem@microsoft.com\",\n      \"type\": \"user\"\n    }\n  },\n  {\n    \"cloudName\": \"AzureCloud\",\n    \"homeTenantId\": \"72f988bf-86f1-41af-91ab-2d7cd011db47\",\n    \"id\": \"3905431d-c062-4c17-8fd9-c51f89f334c4\",\n    \"isDefault\": false,\n    \"managedByTenants\": [],\n    \"name\": \"Pytorch Build\",\n    \"state\": \"Enabled\",\n    \"tenantId\": \"72f988bf-86f1-41af-91ab-2d7cd011db47\",\n    \"user\": {\n      \"name\": \"zehailem@microsoft.com\",\n      \"type\": \"user\"\n    }\n  },\n  {\n    \"cloudName\": \"AzureCloud\",\n    \"homeTenantId\": \"72f988bf-86f1-41af-91ab-2d7cd011db47\",\n    \"id\": \"56207a5d-4746-4a2d-9f7f-c5ac77a5ddfd\",\n    \"isDefault\": false,\n    \"managedByTenants\": [\n      {\n        \"tenantId\": \"2f4a9838-26b7-47ee-be60-ccc1fdec5953\"\n      }\n    ],\n    \"name\": \"Traffic manager Preview\",\n    \"state\": \"Enabled\",\n    \"tenantId\": \"72f988bf-86f1-41af-91ab-2d7cd011db47\",\n    \"user\": {\n      \"name\": \"zehailem@microsoft.com\",\n      \"type\": \"user\"\n    }\n  },\n  {\n    \"cloudName\": \"AzureCloud\",\n    \"homeTenantId\": \"72f988bf-86f1-41af-91ab-2d7cd011db47\",\n    \"id\": \"ca38bc19-cf50-48e2-bbe6-8c35b40212d8\",\n    \"isDefault\": false,\n    \"managedByTenants\": [],\n    \"name\": \"Maps Mining Azure\",\n    \"state\": \"Enabled\",\n    \"tenantId\": \"72f988bf-86f1-41af-91ab-2d7cd011db47\",\n    \"user\": {\n      \"name\": \"zehailem@microsoft.com\",\n      \"type\": \"user\"\n    }\n  },\n  {\n    \"cloudName\": \"AzureCloud\",\n    \"homeTenantId\": \"72f988bf-86f1-41af-91ab-2d7cd011db47\",\n    \"id\": \"b2a328a7-ffff-4c09-b643-a4758cf170bc\",\n    \"isDefault\": false,\n    \"managedByTenants\": [],\n    \"name\": \"AISC-DEV-02\",\n    \"state\": \"Enabled\",\n    \"tenantId\": \"72f988bf-86f1-41af-91ab-2d7cd011db47\",\n    \"user\": {\n      \"name\": \"zehailem@microsoft.com\",\n      \"type\": \"user\"\n    }\n  },\n  {\n    \"cloudName\": \"AzureCloud\",\n    \"homeTenantId\": \"72f988bf-86f1-41af-91ab-2d7cd011db47\",\n    \"id\": \"85b3dbca-5974-4067-9669-67a141095a76\",\n    \"isDefault\": false,\n    \"managedByTenants\": [\n      {\n        \"tenantId\": \"027fe226-784c-4798-a157-5e0e7893424d\"\n      }\n    ],\n    \"name\": \"Terraform Testing on Azure with TTL = 2 Days\",\n    \"state\": \"Enabled\",\n    \"tenantId\": \"72f988bf-86f1-41af-91ab-2d7cd011db47\",\n    \"user\": {\n      \"name\": \"zehailem@microsoft.com\",\n      \"type\": \"user\"\n    }\n  },\n  {\n    \"cloudName\": \"AzureCloud\",\n    \"homeTenantId\": \"72f988bf-86f1-41af-91ab-2d7cd011db47\",\n    \"id\": \"8cff5d56-95fb-4a74-ab9d-079edb45313e\",\n    \"isDefault\": false,\n    \"managedByTenants\": [\n      {\n        \"tenantId\": \"cdc5aeea-15c5-4db6-b079-fcadd2505dc2\"\n      }\n    ],\n    \"name\": \"Skype-NetEM-STAGING\",\n    \"state\": \"Enabled\",\n    \"tenantId\": \"72f988bf-86f1-41af-91ab-2d7cd011db47\",\n    \"user\": {\n      \"name\": \"zehailem@microsoft.com\",\n      \"type\": \"user\"\n    }\n  },\n  {\n    \"cloudName\": \"AzureCloud\",\n    \"homeTenantId\": \"72f988bf-86f1-41af-91ab-2d7cd011db47\",\n    \"id\": \"68f3658f-0090-4277-a500-f02227aaee97\",\n    \"isDefault\": false,\n    \"managedByTenants\": [],\n    \"name\": \"zejunz\",\n    \"state\": \"Enabled\",\n    \"tenantId\": \"72f988bf-86f1-41af-91ab-2d7cd011db47\",\n    \"user\": {\n      \"name\": \"zehailem@microsoft.com\",\n      \"type\": \"user\"\n    }\n  },\n  {\n    \"cloudName\": \"AzureCloud\",\n    \"homeTenantId\": \"72f988bf-86f1-41af-91ab-2d7cd011db47\",\n    \"id\": \"79f57c16-00fe-48da-87d4-5192e86cd047\",\n    \"isDefault\": false,\n    \"managedByTenants\": [],\n    \"name\": \"TScienceGPU\",\n    \"state\": \"Enabled\",\n    \"tenantId\": \"72f988bf-86f1-41af-91ab-2d7cd011db47\",\n    \"user\": {\n      \"name\": \"zehailem@microsoft.com\",\n      \"type\": \"user\"\n    }\n  },\n  {\n    \"cloudName\": \"AzureCloud\",\n    \"homeTenantId\": \"72f988bf-86f1-41af-91ab-2d7cd011db47\",\n    \"id\": \"ae71ef11-a03f-4b4f-a0e6-ef144727c711\",\n    \"isDefault\": false,\n    \"managedByTenants\": [\n      {\n        \"tenantId\": \"2f4a9838-26b7-47ee-be60-ccc1fdec5953\"\n      }\n    ],\n    \"name\": \"Bing MM Measurement\",\n    \"state\": \"Enabled\",\n    \"tenantId\": \"72f988bf-86f1-41af-91ab-2d7cd011db47\",\n    \"user\": {\n      \"name\": \"zehailem@microsoft.com\",\n      \"type\": \"user\"\n    }\n  },\n  {\n    \"cloudName\": \"AzureCloud\",\n    \"homeTenantId\": \"72f988bf-86f1-41af-91ab-2d7cd011db47\",\n    \"id\": \"eec2de82-6ab2-4a84-ae5f-57e9a10bf661\",\n    \"isDefault\": false,\n    \"managedByTenants\": [\n      {\n        \"tenantId\": \"2f4a9838-26b7-47ee-be60-ccc1fdec5953\"\n      }\n    ],\n    \"name\": \"ServicesPortfolio MCS\",\n    \"state\": \"Enabled\",\n    \"tenantId\": \"72f988bf-86f1-41af-91ab-2d7cd011db47\",\n    \"user\": {\n      \"name\": \"zehailem@microsoft.com\",\n      \"type\": \"user\"\n    }\n  },\n  {\n    \"cloudName\": \"AzureCloud\",\n    \"homeTenantId\": \"72f988bf-86f1-41af-91ab-2d7cd011db47\",\n    \"id\": \"eef8b6d5-94da-4b36-9327-a662f2674efb\",\n    \"isDefault\": false,\n    \"managedByTenants\": [],\n    \"name\": \"AISC-EngSys-01\",\n    \"state\": \"Enabled\",\n    \"tenantId\": \"72f988bf-86f1-41af-91ab-2d7cd011db47\",\n    \"user\": {\n      \"name\": \"zehailem@microsoft.com\",\n      \"type\": \"user\"\n    }\n  },\n  {\n    \"cloudName\": \"AzureCloud\",\n    \"homeTenantId\": \"72f988bf-86f1-41af-91ab-2d7cd011db47\",\n    \"id\": \"ad203158-bc5d-4e72-b764-2607833a71dc\",\n    \"isDefault\": false,\n    \"managedByTenants\": [\n      {\n        \"tenantId\": \"2f4a9838-26b7-47ee-be60-ccc1fdec5953\"\n      }\n    ],\n    \"name\": \"Project Vienna Build\",\n    \"state\": \"Enabled\",\n    \"tenantId\": \"72f988bf-86f1-41af-91ab-2d7cd011db47\",\n    \"user\": {\n      \"name\": \"zehailem@microsoft.com\",\n      \"type\": \"user\"\n    }\n  },\n  {\n    \"cloudName\": \"AzureCloud\",\n    \"homeTenantId\": \"72f988bf-86f1-41af-91ab-2d7cd011db47\",\n    \"id\": \"d2c9544f-4329-4642-b73d-020e7fef844f\",\n    \"isDefault\": false,\n    \"managedByTenants\": [],\n    \"name\": \"HPCScrub1\",\n    \"state\": \"Enabled\",\n    \"tenantId\": \"72f988bf-86f1-41af-91ab-2d7cd011db47\",\n    \"user\": {\n      \"name\": \"zehailem@microsoft.com\",\n      \"type\": \"user\"\n    }\n  },\n  {\n    \"cloudName\": \"AzureCloud\",\n    \"homeTenantId\": \"72f988bf-86f1-41af-91ab-2d7cd011db47\",\n    \"id\": \"50ff7bc0-cd15-49d5-abb2-e975184c2f65\",\n    \"isDefault\": false,\n    \"managedByTenants\": [],\n    \"name\": \"IDXXpertRandD Dev Data Catalog\",\n    \"state\": \"Enabled\",\n    \"tenantId\": \"72f988bf-86f1-41af-91ab-2d7cd011db47\",\n    \"user\": {\n      \"name\": \"zehailem@microsoft.com\",\n      \"type\": \"user\"\n    }\n  },\n  {\n    \"cloudName\": \"AzureCloud\",\n    \"homeTenantId\": \"72f988bf-86f1-41af-91ab-2d7cd011db47\",\n    \"id\": \"4bbecc02-f2c3-402a-8e01-1dfb1ffef499\",\n    \"isDefault\": false,\n    \"managedByTenants\": [],\n    \"name\": \"Azure Portal Telemetry Reporting\",\n    \"state\": \"Enabled\",\n    \"tenantId\": \"72f988bf-86f1-41af-91ab-2d7cd011db47\",\n    \"user\": {\n      \"name\": \"zehailem@microsoft.com\",\n      \"type\": \"user\"\n    }\n  },\n  {\n    \"cloudName\": \"AzureCloud\",\n    \"homeTenantId\": \"72f988bf-86f1-41af-91ab-2d7cd011db47\",\n    \"id\": \"38d911df-2706-4195-8563-c75b49f7a88d\",\n    \"isDefault\": false,\n    \"managedByTenants\": [],\n    \"name\": \"Actions on AKS Dev\",\n    \"state\": \"Enabled\",\n    \"tenantId\": \"72f988bf-86f1-41af-91ab-2d7cd011db47\",\n    \"user\": {\n      \"name\": \"zehailem@microsoft.com\",\n      \"type\": \"user\"\n    }\n  },\n  {\n    \"cloudName\": \"AzureCloud\",\n    \"homeTenantId\": \"72f988bf-86f1-41af-91ab-2d7cd011db47\",\n    \"id\": \"0ee78edb-a0ad-456c-a0a2-901bf542c102\",\n    \"isDefault\": false,\n    \"managedByTenants\": [\n      {\n        \"tenantId\": \"2f4a9838-26b7-47ee-be60-ccc1fdec5953\"\n      }\n    ],\n    \"name\": \"ADF Test sub - App Model V2\",\n    \"state\": \"Enabled\",\n    \"tenantId\": \"72f988bf-86f1-41af-91ab-2d7cd011db47\",\n    \"user\": {\n      \"name\": \"zehailem@microsoft.com\",\n      \"type\": \"user\"\n    }\n  },\n  {\n    \"cloudName\": \"AzureCloud\",\n    \"homeTenantId\": \"72f988bf-86f1-41af-91ab-2d7cd011db47\",\n    \"id\": \"8168a4f2-74d6-4663-9951-8e3a454937b7\",\n    \"isDefault\": false,\n    \"managedByTenants\": [],\n    \"name\": \"TEST - IbizaFx misc\",\n    \"state\": \"Enabled\",\n    \"tenantId\": \"72f988bf-86f1-41af-91ab-2d7cd011db47\",\n    \"user\": {\n      \"name\": \"zehailem@microsoft.com\",\n      \"type\": \"user\"\n    }\n  },\n  {\n    \"cloudName\": \"AzureCloud\",\n    \"homeTenantId\": \"72f988bf-86f1-41af-91ab-2d7cd011db47\",\n    \"id\": \"cd0fa82d-b6b6-4361-b002-050c32f71353\",\n    \"isDefault\": false,\n    \"managedByTenants\": [],\n    \"name\": \"Falcon Dev Cluster\",\n    \"state\": \"Enabled\",\n    \"tenantId\": \"72f988bf-86f1-41af-91ab-2d7cd011db47\",\n    \"user\": {\n      \"name\": \"zehailem@microsoft.com\",\n      \"type\": \"user\"\n    }\n  },\n  {\n    \"cloudName\": \"AzureCloud\",\n    \"homeTenantId\": \"72f988bf-86f1-41af-91ab-2d7cd011db47\",\n    \"id\": \"b5c0b80f-5932-4d47-ae25-cd617dac90ce\",\n    \"isDefault\": false,\n    \"managedByTenants\": [],\n    \"name\": \"CRM-DEVTEST-Efun-IDC\",\n    \"state\": \"Enabled\",\n    \"tenantId\": \"72f988bf-86f1-41af-91ab-2d7cd011db47\",\n    \"user\": {\n      \"name\": \"zehailem@microsoft.com\",\n      \"type\": \"user\"\n    }\n  },\n  {\n    \"cloudName\": \"AzureCloud\",\n    \"homeTenantId\": \"72f988bf-86f1-41af-91ab-2d7cd011db47\",\n    \"id\": \"6560575d-fa06-4e7d-95fb-f962e74efd7a\",\n    \"isDefault\": false,\n    \"managedByTenants\": [\n      {\n        \"tenantId\": \"2f4a9838-26b7-47ee-be60-ccc1fdec5953\"\n      }\n    ],\n    \"name\": \"ML Lifecycle PM\",\n    \"state\": \"Enabled\",\n    \"tenantId\": \"72f988bf-86f1-41af-91ab-2d7cd011db47\",\n    \"user\": {\n      \"name\": \"zehailem@microsoft.com\",\n      \"type\": \"user\"\n    }\n  },\n  {\n    \"cloudName\": \"AzureCloud\",\n    \"homeTenantId\": \"72f988bf-86f1-41af-91ab-2d7cd011db47\",\n    \"id\": \"8d5565a3-dec1-4ee2-86d6-8aabb315eec4\",\n    \"isDefault\": false,\n    \"managedByTenants\": [\n      {\n        \"tenantId\": \"2f4a9838-26b7-47ee-be60-ccc1fdec5953\"\n      }\n    ],\n    \"name\": \"Gandalf Analytics Service - Stage\",\n    \"state\": \"Enabled\",\n    \"tenantId\": \"72f988bf-86f1-41af-91ab-2d7cd011db47\",\n    \"user\": {\n      \"name\": \"zehailem@microsoft.com\",\n      \"type\": \"user\"\n    }\n  },\n  {\n    \"cloudName\": \"AzureCloud\",\n    \"homeTenantId\": \"72f988bf-86f1-41af-91ab-2d7cd011db47\",\n    \"id\": \"d03b04c7-d1d4-467b-aaaa-87b6fcb38b38\",\n    \"isDefault\": false,\n    \"managedByTenants\": [],\n    \"name\": \"VSEng Shared\",\n    \"state\": \"Enabled\",\n    \"tenantId\": \"72f988bf-86f1-41af-91ab-2d7cd011db47\",\n    \"user\": {\n      \"name\": \"zehailem@microsoft.com\",\n      \"type\": \"user\"\n    }\n  },\n  {\n    \"cloudName\": \"AzureCloud\",\n    \"homeTenantId\": \"72f988bf-86f1-41af-91ab-2d7cd011db47\",\n    \"id\": \"bd62906c-0a81-43c3-a2f8-126e4cf66ada\",\n    \"isDefault\": false,\n    \"managedByTenants\": [],\n    \"name\": \"DevDiv Key Vault\",\n    \"state\": \"Enabled\",\n    \"tenantId\": \"72f988bf-86f1-41af-91ab-2d7cd011db47\",\n    \"user\": {\n      \"name\": \"zehailem@microsoft.com\",\n      \"type\": \"user\"\n    }\n  },\n  {\n    \"cloudName\": \"AzureCloud\",\n    \"homeTenantId\": \"72f988bf-86f1-41af-91ab-2d7cd011db47\",\n    \"id\": \"26b9b438-7fe8-482f-b732-ea99c70f2abb\",\n    \"isDefault\": false,\n    \"managedByTenants\": [],\n    \"name\": \"ddverify\",\n    \"state\": \"Enabled\",\n    \"tenantId\": \"72f988bf-86f1-41af-91ab-2d7cd011db47\",\n    \"user\": {\n      \"name\": \"zehailem@microsoft.com\",\n      \"type\": \"user\"\n    }\n  },\n  {\n    \"cloudName\": \"AzureCloud\",\n    \"homeTenantId\": \"72f988bf-86f1-41af-91ab-2d7cd011db47\",\n    \"id\": \"8bc2f89b-c4f6-4559-ad6a-4f2cfa6ccc49\",\n    \"isDefault\": false,\n    \"managedByTenants\": [],\n    \"name\": \"VSEng MadDog-RPS Telemetry\",\n    \"state\": \"Enabled\",\n    \"tenantId\": \"72f988bf-86f1-41af-91ab-2d7cd011db47\",\n    \"user\": {\n      \"name\": \"zehailem@microsoft.com\",\n      \"type\": \"user\"\n    }\n  },\n  {\n    \"cloudName\": \"AzureCloud\",\n    \"homeTenantId\": \"72f988bf-86f1-41af-91ab-2d7cd011db47\",\n    \"id\": \"eb87f285-893a-4f0f-8c55-7b4f67b1d097\",\n    \"isDefault\": false,\n    \"managedByTenants\": [],\n    \"name\": \"Dart Eng Alpha\",\n    \"state\": \"Enabled\",\n    \"tenantId\": \"72f988bf-86f1-41af-91ab-2d7cd011db47\",\n    \"user\": {\n      \"name\": \"zehailem@microsoft.com\",\n      \"type\": \"user\"\n    }\n  },\n  {\n    \"cloudName\": \"AzureCloud\",\n    \"homeTenantId\": \"72f988bf-86f1-41af-91ab-2d7cd011db47\",\n    \"id\": \"58706c15-d8a1-4397-af3c-e1ebf1cbebe5\",\n    \"isDefault\": false,\n    \"managedByTenants\": [],\n    \"name\": \"RPS-cloud-common-2\",\n    \"state\": \"Enabled\",\n    \"tenantId\": \"72f988bf-86f1-41af-91ab-2d7cd011db47\",\n    \"user\": {\n      \"name\": \"zehailem@microsoft.com\",\n      \"type\": \"user\"\n    }\n  },\n  {\n    \"cloudName\": \"AzureCloud\",\n    \"homeTenantId\": \"72f988bf-86f1-41af-91ab-2d7cd011db47\",\n    \"id\": \"52a442a2-31e9-42f9-8e3e-4b27dbf82673\",\n    \"isDefault\": false,\n    \"managedByTenants\": [],\n    \"name\": \"Core-ES-WorkManagement\",\n    \"state\": \"Enabled\",\n    \"tenantId\": \"72f988bf-86f1-41af-91ab-2d7cd011db47\",\n    \"user\": {\n      \"name\": \"zehailem@microsoft.com\",\n      \"type\": \"user\"\n    }\n  },\n  {\n    \"cloudName\": \"AzureCloud\",\n    \"homeTenantId\": \"72f988bf-86f1-41af-91ab-2d7cd011db47\",\n    \"id\": \"479001b5-ea04-4c1e-9e11-09c8a23b5f46\",\n    \"isDefault\": false,\n    \"managedByTenants\": [],\n    \"name\": \"DevDivDevBoxDogfooding\",\n    \"state\": \"Enabled\",\n    \"tenantId\": \"72f988bf-86f1-41af-91ab-2d7cd011db47\",\n    \"user\": {\n      \"name\": \"zehailem@microsoft.com\",\n      \"type\": \"user\"\n    }\n  },\n  {\n    \"cloudName\": \"AzureCloud\",\n    \"homeTenantId\": \"72f988bf-86f1-41af-91ab-2d7cd011db47\",\n    \"id\": \"33b1bf3d-53dc-432d-ac1c-ae964ceb1c9b\",\n    \"isDefault\": false,\n    \"managedByTenants\": [],\n    \"name\": \"AzureDevOpsCommunity\",\n    \"state\": \"Enabled\",\n    \"tenantId\": \"72f988bf-86f1-41af-91ab-2d7cd011db47\",\n    \"user\": {\n      \"name\": \"zehailem@microsoft.com\",\n      \"type\": \"user\"\n    }\n  },\n  {\n    \"cloudName\": \"AzureCloud\",\n    \"homeTenantId\": \"72f988bf-86f1-41af-91ab-2d7cd011db47\",\n    \"id\": \"365a62ee-6166-4d37-a936-03585106dd50\",\n    \"isDefault\": false,\n    \"managedByTenants\": [],\n    \"name\": \"NetVal Dev Sandbox\",\n    \"state\": \"Enabled\",\n    \"tenantId\": \"72f988bf-86f1-41af-91ab-2d7cd011db47\",\n    \"user\": {\n      \"name\": \"zehailem@microsoft.com\",\n      \"type\": \"user\"\n    }\n  },\n  {\n    \"cloudName\": \"AzureCloud\",\n    \"homeTenantId\": \"72f988bf-86f1-41af-91ab-2d7cd011db47\",\n    \"id\": \"dbd697c3-ef40-488f-83e6-5ad4dfb78f9b\",\n    \"isDefault\": false,\n    \"managedByTenants\": [\n      {\n        \"tenantId\": \"2f4a9838-26b7-47ee-be60-ccc1fdec5953\"\n      },\n      {\n        \"tenantId\": \"f40b18ba-b66c-49e4-9fd8-4fc7d3d19f0f\"\n      }\n    ],\n    \"name\": \"AutoML Images\",\n    \"state\": \"Enabled\",\n    \"tenantId\": \"72f988bf-86f1-41af-91ab-2d7cd011db47\",\n    \"user\": {\n      \"name\": \"zehailem@microsoft.com\",\n      \"type\": \"user\"\n    }\n  },\n  {\n    \"cloudName\": \"AzureCloud\",\n    \"homeTenantId\": \"72f988bf-86f1-41af-91ab-2d7cd011db47\",\n    \"id\": \"83635e26-687a-4333-a2a0-33e3cd1f573a\",\n    \"isDefault\": false,\n    \"managedByTenants\": [],\n    \"name\": \"ML.NET Model Builder Demo\",\n    \"state\": \"Enabled\",\n    \"tenantId\": \"72f988bf-86f1-41af-91ab-2d7cd011db47\",\n    \"user\": {\n      \"name\": \"zehailem@microsoft.com\",\n      \"type\": \"user\"\n    }\n  }\n]"
        }
      ]
    },
    {
      "cell_type": "markdown",
      "metadata": {},
      "source": [
        "### Use Azure SDKs to call into AzureML"
      ]
    },
    {
      "cell_type": "code",
      "execution_count": 1,
      "metadata": {
        "dotnet_interactive": {
          "language": "csharp"
        }
      },
      "source": [
        "using Azure.ResourceManager;\n",
        "using Azure.ResourceManager.MachineLearning;\n",
        "using System;\n",
        "using System.Threading.Tasks;\n",
        "using Azure.Core;\n",
        "using Azure.ResourceManager;\n",
        "using Azure.ResourceManager.Resources;\n",
        "using Azure.Identity;\n",
        "using Azure.ResourceManager.MachineLearning.Models;\n",
        "using Azure;"
      ],
      "outputs": []
    },
    {
      "cell_type": "code",
      "execution_count": 1,
      "metadata": {
        "dotnet_interactive": {
          "language": "csharp"
        }
      },
      "source": [
        "var armClient = new ArmClient(new DefaultAzureCredential());\n",
        "var subscription = armClient.GetSubscriptions();"
      ],
      "outputs": []
    },
    {
      "cell_type": "markdown",
      "metadata": {},
      "source": [
        "### Select your subscription where you want to have machine learning oprations."
      ]
    },
    {
      "cell_type": "code",
      "execution_count": 1,
      "metadata": {
        "dotnet_interactive": {
          "language": "csharp"
        }
      },
      "source": [
        "var selectedSubscription = subscription.Where(sub => sub.Data.DisplayName == subscriptionName).First();\n",
        "var subId= selectedSubscription.Data.SubscriptionId;"
      ],
      "outputs": []
    },
    {
      "cell_type": "markdown",
      "metadata": {},
      "source": [
        "### Select your resource group."
      ]
    },
    {
      "cell_type": "code",
      "execution_count": 1,
      "metadata": {
        "dotnet_interactive": {
          "language": "csharp"
        }
      },
      "source": [
        "var resourceGroups = selectedSubscription.GetResourceGroups();\n",
        "var rg= resourceGroups.Where(r=> r.Data.Name == resourceGroupName).First();"
      ],
      "outputs": []
    },
    {
      "cell_type": "markdown",
      "metadata": {},
      "source": [
        "### Select your workspace."
      ]
    },
    {
      "cell_type": "code",
      "execution_count": 1,
      "metadata": {
        "dotnet_interactive": {
          "language": "csharp"
        }
      },
      "source": [
        "MachineLearningWorkspaceResource selectedWorkspace = await rg.GetMachineLearningWorkspaceAsync(workspaceName);"
      ],
      "outputs": []
    },
    {
      "cell_type": "markdown",
      "metadata": {},
      "source": [
        "### The following section generate jsonl file, mltable file and upload them with actual object images."
      ]
    },
    {
      "cell_type": "code",
      "execution_count": 1,
      "metadata": {
        "dotnet_interactive": {
          "language": "csharp"
        }
      },
      "source": [
        "public void  CreateObjectDetectionJsonlFile(List<AzureObjectDetection> imageData, string imageFolder, string filePath)\n",
        "        {\n",
        "\t\t\tvar imageDataForRemote = imageData.Select(x =>\n",
        "            {\n",
        "                var imageLocalPath = new Uri(x.ImageUrl).LocalPath;\n",
        "                var copy = new AzureObjectDetection();\n",
        "                copy.ImageDetails = x.ImageDetails;\n",
        "                copy.Label = x.Label;\n",
        "                copy.ImageUrl = Path.Combine(imageFolder, Path.GetFileName(imageLocalPath));\n",
        "                return copy;\n",
        "            });\n",
        "\n",
        "\t\t\t //To get the jsonl file format for new AutoML expectation https://docs.microsoft.com/en-us/azure/machine-learning/reference-automl-images-schema#object-detection.\n",
        "            var imagesGroupByUrl = imageDataForRemote.GroupBy(i => i.ImageUrl);\n",
        "            var imagesWithLables = new List<AzureObjectDetectionWithLabels>();\n",
        "            foreach (var image in imagesGroupByUrl)\n",
        "            {\n",
        "                var imageWithUrl = new AzureObjectDetectionWithLabels();\n",
        "                imageWithUrl.ImageUrl = $@\"azureml://subscriptions/{subId}/resourcegroups/{rg.Data.Name}/workspaces/{selectedWorkspace.Data.Name}/datastores/workspaceblobstore/paths/{image.Key.Replace(@\"\\\", \"/\")}\";\n",
        "                var images = image.Select(i => i);\n",
        "                AzureImageDetails detail = null;\n",
        "                foreach (var im in images)\n",
        "                {\n",
        "                    imageWithUrl.Labels.Add(im.Label);\n",
        "                    if (detail == null)\n",
        "                    {\n",
        "                        detail = im.ImageDetails;\n",
        "                    }\n",
        "                }\n",
        "\n",
        "                imageWithUrl.ImageDetails = detail;\n",
        "                imagesWithLables.Add(imageWithUrl);\n",
        "            }\n",
        "\n",
        "\t\t\tusing (var fileWritter = new StreamWriter(new FileStream(filePath, FileMode.Create)))\n",
        "            {\n",
        "\t\t\t\tforeach (var data in imagesWithLables)\n",
        "                {\n",
        "                    // flatten images\n",
        "                    fileWritter.WriteLine(JsonConvert.SerializeObject(data));\n",
        "                }\n",
        "            }\n",
        "\n",
        "\t\t}"
      ],
      "outputs": []
    },
    {
      "cell_type": "code",
      "execution_count": 1,
      "metadata": {
        "dotnet_interactive": {
          "language": "csharp"
        }
      },
      "source": [
        "public void CreateMlTableFile(string selectedFolderName, string mlTableFilePath, string jsonlFilePath)\n",
        "        {\n",
        "\n",
        "            try\n",
        "            {\n",
        "                using (var outFile = File.CreateText(mlTableFilePath))\n",
        "                {\n",
        "                    var jsonlFileName = Path.GetFileName(jsonlFilePath);\n",
        "                    var selectedFolder = selectedFolderName;\n",
        "                    var mlTableContent = $@\"paths:\n",
        "  - file: azureml://datastores/workspaceblobstore/paths/{selectedFolder}/{jsonlFileName}\n",
        "transformations:\n",
        "  - read_json_lines:\n",
        "        encoding: utf8\n",
        "        invalid_lines: error\n",
        "        include_path_column: false\n",
        "  - convert_column_types:\n",
        "      - columns: image_url\n",
        "        column_type: stream_info\";\n",
        "                    outFile.Write(mlTableContent);\n",
        "                }\n",
        "            }\n",
        "            catch (Exception e)\n",
        "            {\n",
        "                throw new Exception(e.Message);\n",
        "\n",
        "            }\n",
        "        }"
      ],
      "outputs": []
    },
    {
      "cell_type": "code",
      "execution_count": 1,
      "metadata": {
        "dotnet_interactive": {
          "language": "csharp"
        }
      },
      "source": [
        " var imageFolder = new DirectoryInfo(Path.GetDirectoryName(vottFilePath)).Name;\n",
        "CreateObjectDetectionJsonlFile(dataImage,imageFolder,jsonlFilePath);\n",
        "CreateMlTableFile(imageFolder ,mLTableFilePath, jsonlFilePath);"
      ],
      "outputs": []
    },
    {
      "cell_type": "markdown",
      "metadata": {},
      "source": [
        "### Upload images "
      ]
    },
    {
      "cell_type": "code",
      "execution_count": 1,
      "metadata": {
        "dotnet_interactive": {
          "language": "csharp"
        }
      },
      "source": [
        "foreach(var data in dataImage)\n",
        "{\n",
        "\tBlobClient blobClientImage = defaultContainer.GetBlobClient(\"./\"+ imageFolder + \"/\" + Path.GetFileName(new Uri(data.ImageUrl).LocalPath));\n",
        "\n",
        "\tawait blobClientImage.UploadAsync(new Uri(data.ImageUrl).LocalPath,true);\n",
        "}"
      ],
      "outputs": []
    },
    {
      "cell_type": "markdown",
      "metadata": {},
      "source": [
        "### Upload jsonl file"
      ]
    },
    {
      "cell_type": "code",
      "execution_count": 1,
      "metadata": {
        "dotnet_interactive": {
          "language": "csharp"
        }
      },
      "source": [
        "BlobClient blobClientImage = defaultContainer.GetBlobClient(\"./\"+ imageFolder + \"/\" + Path.GetFileName(jsonlFilePath));\n",
        "\n",
        "await blobClientImage.UploadAsync(jsonlFilePath,true);"
      ],
      "outputs": []
    },
    {
      "cell_type": "markdown",
      "metadata": {},
      "source": [
        "### Upload MlTable"
      ]
    },
    {
      "cell_type": "code",
      "execution_count": 1,
      "metadata": {
        "dotnet_interactive": {
          "language": "csharp"
        }
      },
      "source": [
        "BlobClient blobClientImage = defaultContainer.GetBlobClient(\"./\"+ imageFolder + \"/TrainMlTable/\" +  Path.GetFileName(mLTableFilePath));\n",
        "\n",
        "await blobClientImage.UploadAsync(mLTableFilePath,true);"
      ],
      "outputs": []
    },
    {
      "cell_type": "markdown",
      "metadata": {},
      "source": [
        "## Start Azure AutoML run."
      ]
    },
    {
      "cell_type": "code",
      "execution_count": 1,
      "metadata": {
        "dotnet_interactive": {
          "language": "csharp"
        }
      },
      "source": [
        "public static async Task<MachineLearningJobResource> StartObjectDetectionAutoMlJobAsync(\n",
        "    MachineLearningWorkspaceResource ws,\n",
        "    string experimentName,\n",
        "    string computeId,\n",
        "    string selectedFolder, \n",
        "    string jobId)\n",
        "{\n",
        "    // Upload the MLTable in the default workspaceblobstore.\n",
        "    var trainData = new MLTableJobInput(new Uri($\"azureml://datastores/workspaceblobstore/paths/{selectedFolder}/TrainMlTable\"))\n",
        "    {\n",
        "        Mode = InputDeliveryMode.ReadOnlyMount,\n",
        "        Description = \"Train data\",\n",
        "    };\n",
        "\n",
        "    var trainingData = new TrainingDataSettings(trainData);\n",
        "    ImageVerticalDataSettings dataSettings = new ImageVerticalDataSettings(\"label\", trainingData);\n",
        "    ImageLimitSettings limitSettings = new ImageLimitSettings()\n",
        "    {\n",
        "        Timeout = TimeSpan.FromHours(168)\n",
        "    };\n",
        "\n",
        "    AutoMLVertical taskDetails = new ImageObjectDetection(dataSettings, limitSettings)\n",
        "    {\n",
        "        LogVerbosity = LogVerbosity.Info,\n",
        "        PrimaryMetric = ObjectDetectionPrimaryMetrics.MeanAveragePrecision,\n",
        "    };\n",
        "\n",
        "    var autoMLJob = new AutoMLJob(taskDetails)\n",
        "    {\n",
        "        ExperimentName = experimentName,\n",
        "        DisplayName = \"AutoMLJob ImageObjectDetection-\" + Guid.NewGuid().ToString(\"n\").Substring(0, 6),\n",
        "        IsArchived = false,\n",
        "        ComputeId = computeId,\n",
        "        Resources = new ResourceConfiguration\n",
        "        {\n",
        "            InstanceCount = 3,\n",
        "        },\n",
        "        Properties = new Dictionary<string, string>\n",
        "            {\n",
        "                { \"property-name\", \"property-value\" },\n",
        "            },\n",
        "        Tags = new Dictionary<string, string>\n",
        "            {\n",
        "                { \"tag-name\", \"tag-value\" },\n",
        "            },\n",
        "        EnvironmentVariables = new Dictionary<string, string>()\n",
        "            {\n",
        "                { \"env-var\", \"env-var-value\" }\n",
        "            },\n",
        "        Description = \"This is a description of test AutoMLJob for ImageObjectDetection from Ml.net Model Builder\",\n",
        "    };\n",
        "\n",
        "    MachineLearningJobData MachineLearningJobData = new MachineLearningJobData(autoMLJob);\n",
        "    ArmOperation<MachineLearningJobResource> jobOperation = await ws.GetMachineLearningJobs().CreateOrUpdateAsync(WaitUntil.Completed, jobId, MachineLearningJobData);\n",
        "    MachineLearningJobResource jobResource = jobOperation.Value;\n",
        "    return jobResource;\n",
        "}"
      ],
      "outputs": []
    },
    {
      "cell_type": "code",
      "execution_count": 1,
      "metadata": {
        "dotnet_interactive": {
          "language": "csharp"
        }
      },
      "source": [
        "string jobId =RandomString(15, true);\n",
        "var computeId = $\"/subscriptions/{subId}/resourceGroups/{rg.Data.Name}/providers/Microsoft.MachineLearningServices/workspaces/{selectedWorkspace.Data.Name}/computes/{computeName}\";\n",
        " var automlJob= StartObjectDetectionAutoMlJobAsync(selectedWorkspace, experimentName, computeId,imageFolder, jobId);"
      ],
      "outputs": []
    }
  ],
  "metadata": {
    "kernelspec": {
      "display_name": ".NET (C#)",
      "language": "C#",
      "name": ".net-csharp"
    },
    "language_info": {
      "file_extension": ".cs",
      "mimetype": "text/x-csharp",
      "name": "C#",
      "pygments_lexer": "csharp",
      "version": "8.0"
    }
  },
  "nbformat": 4,
  "nbformat_minor": 4
}