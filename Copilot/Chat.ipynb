{
 "cells": [
  {
   "cell_type": "markdown",
   "metadata": {},
   "source": [
    "##  Access cognitive resource from Azure using SDK."
   ]
  },
  {
   "cell_type": "markdown",
   "metadata": {},
   "source": [
    "# Install nuget packages."
   ]
  },
  {
   "cell_type": "code",
   "execution_count": 15,
   "metadata": {
    "dotnet_interactive": {
     "language": "csharp"
    },
    "polyglot_notebook": {
     "kernelName": "csharp"
    },
    "vscode": {
     "languageId": "polyglot-notebook"
    }
   },
   "outputs": [],
   "source": [
    "using System;\n",
    "using System.Threading.Tasks;\n",
    "using Azure.Core;\n",
    "using Azure.Identity;\n",
    "using Azure.ResourceManager;\n",
    "using Azure.ResourceManager.Resources;\n",
    "using Azure.ResourceManager.CognitiveServices;\n"
   ]
  },
  {
   "cell_type": "markdown",
   "metadata": {},
   "source": [
    "### Log in into Azure using powershell command."
   ]
  },
  {
   "cell_type": "code",
   "execution_count": null,
   "metadata": {
    "dotnet_interactive": {
     "language": "pwsh"
    },
    "polyglot_notebook": {
     "kernelName": "pwsh"
    },
    "vscode": {
     "languageId": "polyglot-notebook"
    }
   },
   "outputs": [],
   "source": [
    "az login"
   ]
  },
  {
   "cell_type": "code",
   "execution_count": 3,
   "metadata": {
    "dotnet_interactive": {
     "language": "csharp"
    },
    "polyglot_notebook": {
     "kernelName": "csharp"
    },
    "vscode": {
     "languageId": "polyglot-notebook"
    }
   },
   "outputs": [],
   "source": [
    "ArmClient client = new ArmClient(new DefaultAzureCredential());\n",
    "var subscription = client.GetSubscriptions();"
   ]
  },
  {
   "cell_type": "markdown",
   "metadata": {},
   "source": [
    "### Setup Azure resources we want use."
   ]
  },
  {
   "cell_type": "code",
   "execution_count": 7,
   "metadata": {
    "dotnet_interactive": {
     "language": "csharp"
    },
    "polyglot_notebook": {
     "kernelName": "csharp"
    },
    "vscode": {
     "languageId": "polyglot-notebook"
    }
   },
   "outputs": [],
   "source": [
    "var subscriptionName = \"<your sunscritpion>\";\n",
    "var resourceGroup = \"<your resourceGroup>\";\n",
    "var congnitiveAccountName = \"<your congnitiveAccountName>\";// this is OpenAI account name in Azure.\n",
    "var deploymentName=\"chat\"; // this is the deployment name in Azure.\n",
    "\n",
    "var selectedSubscription = subscription.Where(sub => sub.Data.DisplayName == subscriptionName).First();\n"
   ]
  },
  {
   "cell_type": "code",
   "execution_count": 11,
   "metadata": {
    "dotnet_interactive": {
     "language": "csharp"
    },
    "polyglot_notebook": {
     "kernelName": "csharp"
    },
    "vscode": {
     "languageId": "polyglot-notebook"
    }
   },
   "outputs": [],
   "source": [
    "// Get all resourceGroups in the subscription\n",
    "var resourceGroups = selectedSubscription.GetResourceGroups();\n",
    "var selectedResourceGroup= resourceGroups.Where(r=> r.Data.Name == resourceGroup).First();\n",
    "\n",
    "// Get all congnitiveAccounts in the resourceGroup.\n",
    "CognitiveServicesAccountCollection accounts = selectedResourceGroup.GetCognitiveServicesAccounts();\n",
    "\n",
    "var selectedAccount= accounts.Where(a=> a.Data.Name == congnitiveAccountName).First();\n",
    "\n",
    "var key= selectedAccount.GetKeys().Value.Key1;\n",
    "var endPoint = selectedAccount.Data.Properties.Endpoint;\n",
    "\n",
    "// Get all models in the congnitiveAccount.\n",
    " var models= acc.GetCognitiveServicesAccountDeployments();\n",
    " var selectedModel= models.Where(m=> m.Data.Name == deploymentName).First().Data.Name;\n"
   ]
  },
  {
   "cell_type": "code",
   "execution_count": 17,
   "metadata": {
    "dotnet_interactive": {
     "language": "csharp"
    },
    "polyglot_notebook": {
     "kernelName": "csharp"
    },
    "vscode": {
     "languageId": "polyglot-notebook"
    }
   },
   "outputs": [],
   "source": [
    "using Azure.AI.OpenAI;\n",
    "using Azure;\n"
   ]
  },
  {
   "cell_type": "markdown",
   "metadata": {},
   "source": [
    "### OpenAI client."
   ]
  },
  {
   "cell_type": "code",
   "execution_count": 18,
   "metadata": {
    "dotnet_interactive": {
     "language": "csharp"
    },
    "polyglot_notebook": {
     "kernelName": "csharp"
    },
    "vscode": {
     "languageId": "polyglot-notebook"
    }
   },
   "outputs": [],
   "source": [
    "OpenAIClient client = new OpenAIClient(\n",
    "  new Uri(endPoint),\n",
    "  new AzureKeyCredential(key));"
   ]
  },
  {
   "cell_type": "code",
   "execution_count": 32,
   "metadata": {
    "dotnet_interactive": {
     "language": "csharp"
    },
    "polyglot_notebook": {
     "kernelName": "csharp"
    },
    "vscode": {
     "languageId": "polyglot-notebook"
    }
   },
   "outputs": [],
   "source": [
    "var chatCompletionsOptions = new ChatCompletionsOptions()\n",
    "            {\n",
    "                DeploymentName = selectedModel,\n",
    "                Messages =\n",
    "                {\n",
    "                    new ChatMessage(\n",
    "                        ChatRole.System,\n",
    "                        \"You are a helpful assistant\"),\n",
    "                    new ChatMessage(ChatRole.User, \"Hi, I'm looking for information about Azure\"),\n",
    "                },\n",
    "\n",
    "                \n",
    "            };"
   ]
  },
  {
   "cell_type": "code",
   "execution_count": 33,
   "metadata": {
    "dotnet_interactive": {
     "language": "csharp"
    },
    "polyglot_notebook": {
     "kernelName": "csharp"
    },
    "vscode": {
     "languageId": "polyglot-notebook"
    }
   },
   "outputs": [
    {
     "data": {
      "text/plain": [
       "Sure, I can help you with that. Azure is a cloud computing platform and a collection of services provided by Microsoft. It enables businesses to build, deploy, and manage applications and infrastructure in the cloud.\n",
       "\n",
       "Some key features of Azure include:\n",
       "\n",
       "1. Infrastructure as a Service (IaaS): Azure provides virtual machines, storage, and networking capabilities, allowing you to create virtual infrastructure similar to on-premises environments.\n",
       "\n",
       "2. Platform as a Service (PaaS): Azure offers a wide range of services such as App Services, Functions, and Logic Apps, which allow you to develop, deploy, and manage applications without having to worry about underlying infrastructure.\n",
       "\n",
       "3. Containers: Azure provides containerization support through services such as Azure Kubernetes Service (AKS) and Azure Container Instances (ACI), allowing you to easily run and manage containerized applications.\n",
       "\n",
       "4. Storage and Databases: Azure provides various storage options including Blob storage, File storage, and Table storage. It also offers managed database services like Azure SQL Database, Azure Cosmos DB, and Azure Database for MySQL/PostgreSQL.\n",
       "\n",
       "5. AI and Machine Learning: Azure has a suite of services that enable the development and deployment of AI and machine learning models. This includes Azure Machine Learning, Cognitive Services, and Azure Bot Service.\n",
       "\n",
       "6. Security and Identity: Azure includes offerings such as Azure Active Directory (AD) for identity and access management, Azure Security Center for threat protection, and Azure Sentinel for cloud-native security information and event management (SIEM).\n",
       "\n",
       "7. Analytics: Azure provides services for working with big data, such as Azure Data Lake Storage, Azure Databricks, and Azure Synapse Analytics (formerly SQL Data Warehouse). It also includes services like Azure Stream Analytics for real-time data processing.\n",
       "\n",
       "These are just a few highlights, as Azure offers a broad range of services to meet different business needs. Let me know if there is anything specific you would like to explore further or if you have any specific questions about Azure."
      ]
     },
     "metadata": {},
     "output_type": "display_data"
    }
   ],
   "source": [
    "var response = await client.GetChatCompletionsAsync(chatCompletionsOptions);\n",
    "var message = response.Value.Choices[0].Message;\n",
    "message.Content"
   ]
  }
 ],
 "metadata": {
  "language_info": {
   "name": "python"
  }
 },
 "nbformat": 4,
 "nbformat_minor": 2
}
